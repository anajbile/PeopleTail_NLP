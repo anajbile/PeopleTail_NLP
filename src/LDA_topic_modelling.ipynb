{
 "cells": [
  {
   "cell_type": "code",
   "execution_count": 36,
   "metadata": {},
   "outputs": [
    {
     "name": "stderr",
     "output_type": "stream",
     "text": [
      "[nltk_data] Downloading package punkt to\n",
      "[nltk_data]     C:\\Users\\abhis\\AppData\\Roaming\\nltk_data...\n",
      "[nltk_data]   Package punkt is already up-to-date!\n",
      "[nltk_data] Downloading package wordnet to\n",
      "[nltk_data]     C:\\Users\\abhis\\AppData\\Roaming\\nltk_data...\n",
      "[nltk_data]   Package wordnet is already up-to-date!\n",
      "[nltk_data] Downloading package stopwords to\n",
      "[nltk_data]     C:\\Users\\abhis\\AppData\\Roaming\\nltk_data...\n",
      "[nltk_data]   Package stopwords is already up-to-date!\n"
     ]
    },
    {
     "data": {
      "text/plain": [
       "True"
      ]
     },
     "execution_count": 36,
     "metadata": {},
     "output_type": "execute_result"
    }
   ],
   "source": [
    "from bs4 import BeautifulSoup\n",
    "import pandas as pd\n",
    "import nltk\n",
    "from vaderSentiment.vaderSentiment import SentimentIntensityAnalyzer\n",
    "from nltk.stem import WordNetLemmatizer\n",
    "from nltk.corpus import stopwords\n",
    "from nltk.tokenize import word_tokenize\n",
    "import spacy\n",
    "nltk.download('punkt')\n",
    "nltk.download('wordnet')\n",
    "nltk.download('stopwords')"
   ]
  },
  {
   "cell_type": "code",
   "execution_count": 18,
   "metadata": {},
   "outputs": [],
   "source": [
    "# Importing Gensim for LDA\n",
    "import gensim\n",
    "import gensim.corpora as corpora\n",
    "from gensim.utils import simple_preprocess\n",
    "from gensim.models import CoherenceModel\n",
    "\n",
    "# PLotting tools \n",
    "\n",
    "import pyLDAvis\n",
    "import pyLDAvis.gensim  # don't skip this\n",
    "import matplotlib.pyplot as plt\n",
    "%matplotlib inline"
   ]
  },
  {
   "cell_type": "code",
   "execution_count": 2,
   "metadata": {},
   "outputs": [
    {
     "data": {
      "text/plain": [
       "(body        1873\n",
       " watson      1873\n",
       " products    1824\n",
       " user        1873\n",
       " dtype: int64, Index(['body', 'watson', 'products', 'user'], dtype='object'))"
      ]
     },
     "execution_count": 2,
     "metadata": {},
     "output_type": "execute_result"
    }
   ],
   "source": [
    "df = pd.read_csv('C:/Users/abhis/OneDrive/Documents/GitHub/PeopleTail_NLP/src/reviews.csv')\n",
    "df.count(), df.columns\n"
   ]
  },
  {
   "cell_type": "code",
   "execution_count": 3,
   "metadata": {},
   "outputs": [],
   "source": [
    "df['reviewtext'] = df['body'].apply(lambda x: BeautifulSoup(x, 'lxml').get_text())"
   ]
  },
  {
   "cell_type": "code",
   "execution_count": 4,
   "metadata": {},
   "outputs": [
    {
     "data": {
      "text/html": [
       "<div>\n",
       "<style scoped>\n",
       "    .dataframe tbody tr th:only-of-type {\n",
       "        vertical-align: middle;\n",
       "    }\n",
       "\n",
       "    .dataframe tbody tr th {\n",
       "        vertical-align: top;\n",
       "    }\n",
       "\n",
       "    .dataframe thead th {\n",
       "        text-align: right;\n",
       "    }\n",
       "</style>\n",
       "<table border=\"1\" class=\"dataframe\">\n",
       "  <thead>\n",
       "    <tr style=\"text-align: right;\">\n",
       "      <th></th>\n",
       "      <th>body</th>\n",
       "      <th>watson</th>\n",
       "      <th>products</th>\n",
       "      <th>user</th>\n",
       "      <th>reviewtext</th>\n",
       "    </tr>\n",
       "  </thead>\n",
       "  <tbody>\n",
       "    <tr>\n",
       "      <th>0</th>\n",
       "      <td>&lt;p class=\"MsoNormal\"&gt;Ah spring time is on the ...</td>\n",
       "      <td>{\"usage\":{\"text_units\":1,\"text_characters\":230...</td>\n",
       "      <td>True Moringa - All Purpose Moringa Body Oil wi...</td>\n",
       "      <td>5</td>\n",
       "      <td>Ah spring time is on the horizon. Why not give...</td>\n",
       "    </tr>\n",
       "    <tr>\n",
       "      <th>1</th>\n",
       "      <td>&lt;p dir=\"ltr\" style=\"line-height: 1.38; margin-...</td>\n",
       "      <td>{\"usage\":{\"text_units\":1,\"text_characters\":280...</td>\n",
       "      <td>BioFinest Pomegranate Seed Organic Oil - 100% ...</td>\n",
       "      <td>5</td>\n",
       "      <td>Feeling like you need a kick in the pants to g...</td>\n",
       "    </tr>\n",
       "    <tr>\n",
       "      <th>2</th>\n",
       "      <td>&lt;p class=\"MsoNormal\"&gt;Oral health is key for ov...</td>\n",
       "      <td>{\"usage\":{\"text_units\":1,\"text_characters\":133...</td>\n",
       "      <td>Lakanto Monkfruit Sweetener, Golden, 8.29 Ounc...</td>\n",
       "      <td>5</td>\n",
       "      <td>Oral health is key for overall health.  Did yo...</td>\n",
       "    </tr>\n",
       "    <tr>\n",
       "      <th>3</th>\n",
       "      <td>&lt;p class=\"MsoNormal\"&gt;The benefits of adding le...</td>\n",
       "      <td>{\"usage\":{\"text_units\":1,\"text_characters\":117...</td>\n",
       "      <td>NaN</td>\n",
       "      <td>5</td>\n",
       "      <td>The benefits of adding lemon to our drinking w...</td>\n",
       "    </tr>\n",
       "    <tr>\n",
       "      <th>4</th>\n",
       "      <td>&lt;p class=\"MsoNormal\"&gt;Our diets today, unfortun...</td>\n",
       "      <td>{\"usage\":{\"text_units\":1,\"text_characters\":210...</td>\n",
       "      <td>Gelatinized Maca Root Powder From Peru - Certi...</td>\n",
       "      <td>5</td>\n",
       "      <td>Our diets today, unfortunately have many hidde...</td>\n",
       "    </tr>\n",
       "  </tbody>\n",
       "</table>\n",
       "</div>"
      ],
      "text/plain": [
       "                                                body  \\\n",
       "0  <p class=\"MsoNormal\">Ah spring time is on the ...   \n",
       "1  <p dir=\"ltr\" style=\"line-height: 1.38; margin-...   \n",
       "2  <p class=\"MsoNormal\">Oral health is key for ov...   \n",
       "3  <p class=\"MsoNormal\">The benefits of adding le...   \n",
       "4  <p class=\"MsoNormal\">Our diets today, unfortun...   \n",
       "\n",
       "                                              watson  \\\n",
       "0  {\"usage\":{\"text_units\":1,\"text_characters\":230...   \n",
       "1  {\"usage\":{\"text_units\":1,\"text_characters\":280...   \n",
       "2  {\"usage\":{\"text_units\":1,\"text_characters\":133...   \n",
       "3  {\"usage\":{\"text_units\":1,\"text_characters\":117...   \n",
       "4  {\"usage\":{\"text_units\":1,\"text_characters\":210...   \n",
       "\n",
       "                                            products  user  \\\n",
       "0  True Moringa - All Purpose Moringa Body Oil wi...     5   \n",
       "1  BioFinest Pomegranate Seed Organic Oil - 100% ...     5   \n",
       "2  Lakanto Monkfruit Sweetener, Golden, 8.29 Ounc...     5   \n",
       "3                                                NaN     5   \n",
       "4  Gelatinized Maca Root Powder From Peru - Certi...     5   \n",
       "\n",
       "                                          reviewtext  \n",
       "0  Ah spring time is on the horizon. Why not give...  \n",
       "1  Feeling like you need a kick in the pants to g...  \n",
       "2  Oral health is key for overall health.  Did yo...  \n",
       "3  The benefits of adding lemon to our drinking w...  \n",
       "4  Our diets today, unfortunately have many hidde...  "
      ]
     },
     "execution_count": 4,
     "metadata": {},
     "output_type": "execute_result"
    }
   ],
   "source": [
    "df.head()"
   ]
  },
  {
   "cell_type": "markdown",
   "metadata": {},
   "source": [
    "# Preprocess the data and normalize it"
   ]
  },
  {
   "cell_type": "code",
   "execution_count": 22,
   "metadata": {},
   "outputs": [
    {
     "name": "stdout",
     "output_type": "stream",
     "text": [
      "['Ah spring time is on the horizon. Why not give your mane a spring detox and make over? Dry and cold winds can deplete your hair and scalp of moisture. Overtime your locks can become dry and brittle. Try this easy and pampering recommendation to protect your mane to look lustrous and feel silky smooth again. Apply True Moringa - All Purpose Moringa Body Oil with Peppermint, to your hair and scalp, leave in hair for 30 minutes or wrap your hair in a towel and leave in overnight. Moringa oil does not clog scalp pores, strengthens hair follicles and combats frizz. Keep it in your hair overnight into the next day (really its not greasy at all?). Wash it out with a mild, sulphate free shampoo, like the very juicy ACURE Mega Moisture Shampoo and reveal an uber moisturized hair and scalp. Next give your scalp the sustained moisture lock it deserves. We love the organic hair mask for its triple threat recovery from the dry blustery cold air that shocked our scalp and hair during the winter months. Apply one to two times a week the John Masters Organics Hair Milk, Rose and Apricot. The premium ingredients like Rose water balance moisture levels, and the apricot seed oil repairs split ends. This nourishing hair mask gently cleanses away excess harmful sebum and product residue from the scalp too. If you are more of a DIYer than make this simple hair mask from food ingredients right in your own kitchen. Simply mash up an avocado or beat up two egg whites and apply to your hair. Keep on for 20 minutes and wash off with cool, tepid water. Your hair will be extra nourished with good fats, vitamins and minerals. Now to lock in all that moisture rich goodness. Post Shampoo and Conditioner apply 2 tablespoons of Green Leaf Naturals Aloe Vera gel to your hair and scalp. We love this aloe vera gel for hair and scalp specifically because it is a 99.75 % pure organic Aloe Vera gel and its cold pressed. The gel is thin and weightless, penetrates the hair and scalp leaving NO sticky mess. Wait 5 minutes before rinsing out. Aloe Vera is an antioxidant and antimicrobial and will protect your scalp from dandruff, and dryness. Dont wait until the winter damage sends your locks to the clippers, nourish and revitalize your hair with our Bye, bye winter hair care recommendation. ']\n"
     ]
    },
    {
     "name": "stderr",
     "output_type": "stream",
     "text": [
      "<>:7: DeprecationWarning: invalid escape sequence \\s\n",
      "<>:7: DeprecationWarning: invalid escape sequence \\s\n",
      "<>:7: DeprecationWarning: invalid escape sequence \\s\n",
      "<ipython-input-22-6db0ed0c89cc>:7: DeprecationWarning: invalid escape sequence \\s\n",
      "  data = [re.sub('\\s+', ' ', sent) for sent in data]\n"
     ]
    }
   ],
   "source": [
    "stop_words = set(stopwords.words('english'))\n",
    "\n",
    "# Convert to list\n",
    "data = df.reviewtext.values.tolist()\n",
    "\n",
    "# Remove new line characters\n",
    "data = [re.sub('\\s+', ' ', sent) for sent in data]\n",
    "\n",
    "# Remove distracting single quotes\n",
    "data = [re.sub(\"\\'\", \"\", sent) for sent in data]\n",
    "\n",
    "print(data[:1])"
   ]
  },
  {
   "cell_type": "code",
   "execution_count": 23,
   "metadata": {},
   "outputs": [
    {
     "name": "stdout",
     "output_type": "stream",
     "text": [
      "[['ah', 'spring', 'time', 'is', 'on', 'the', 'horizon', 'why', 'not', 'give', 'your', 'mane', 'spring', 'detox', 'and', 'make', 'over', 'dry', 'and', 'cold', 'winds', 'can', 'deplete', 'your', 'hair', 'and', 'scalp', 'of', 'moisture', 'overtime', 'your', 'locks', 'can', 'become', 'dry', 'and', 'brittle', 'try', 'this', 'easy', 'and', 'pampering', 'recommendation', 'to', 'protect', 'your', 'mane', 'to', 'look', 'lustrous', 'and', 'feel', 'silky', 'smooth', 'again', 'apply', 'true', 'moringa', 'all', 'purpose', 'moringa', 'body', 'oil', 'with', 'peppermint', 'to', 'your', 'hair', 'and', 'scalp', 'leave', 'in', 'hair', 'for', 'minutes', 'or', 'wrap', 'your', 'hair', 'in', 'towel', 'and', 'leave', 'in', 'overnight', 'moringa', 'oil', 'does', 'not', 'clog', 'scalp', 'pores', 'strengthens', 'hair', 'follicles', 'and', 'combats', 'frizz', 'keep', 'it', 'in', 'your', 'hair', 'overnight', 'into', 'the', 'next', 'day', 'really', 'its', 'not', 'greasy', 'at', 'all', 'wash', 'it', 'out', 'with', 'mild', 'sulphate', 'free', 'shampoo', 'like', 'the', 'very', 'juicy', 'acure', 'mega', 'moisture', 'shampoo', 'and', 'reveal', 'an', 'uber', 'moisturized', 'hair', 'and', 'scalp', 'next', 'give', 'your', 'scalp', 'the', 'sustained', 'moisture', 'lock', 'it', 'deserves', 'we', 'love', 'the', 'organic', 'hair', 'mask', 'for', 'its', 'triple', 'threat', 'recovery', 'from', 'the', 'dry', 'blustery', 'cold', 'air', 'that', 'shocked', 'our', 'scalp', 'and', 'hair', 'during', 'the', 'winter', 'months', 'apply', 'one', 'to', 'two', 'times', 'week', 'the', 'john', 'masters', 'organics', 'hair', 'milk', 'rose', 'and', 'apricot', 'the', 'premium', 'ingredients', 'like', 'rose', 'water', 'balance', 'moisture', 'levels', 'and', 'the', 'apricot', 'seed', 'oil', 'repairs', 'split', 'ends', 'this', 'nourishing', 'hair', 'mask', 'gently', 'cleanses', 'away', 'excess', 'harmful', 'sebum', 'and', 'product', 'residue', 'from', 'the', 'scalp', 'too', 'if', 'you', 'are', 'more', 'of', 'diyer', 'than', 'make', 'this', 'simple', 'hair', 'mask', 'from', 'food', 'ingredients', 'right', 'in', 'your', 'own', 'kitchen', 'simply', 'mash', 'up', 'an', 'avocado', 'or', 'beat', 'up', 'two', 'egg', 'whites', 'and', 'apply', 'to', 'your', 'hair', 'keep', 'on', 'for', 'minutes', 'and', 'wash', 'off', 'with', 'cool', 'tepid', 'water', 'your', 'hair', 'will', 'be', 'extra', 'nourished', 'with', 'good', 'fats', 'vitamins', 'and', 'minerals', 'now', 'to', 'lock', 'in', 'all', 'that', 'moisture', 'rich', 'goodness', 'post', 'shampoo', 'and', 'conditioner', 'apply', 'tablespoons', 'of', 'green', 'leaf', 'naturals', 'aloe', 'vera', 'gel', 'to', 'your', 'hair', 'and', 'scalp', 'we', 'love', 'this', 'aloe', 'vera', 'gel', 'for', 'hair', 'and', 'scalp', 'specifically', 'because', 'it', 'is', 'pure', 'organic', 'aloe', 'vera', 'gel', 'and', 'its', 'cold', 'pressed', 'the', 'gel', 'is', 'thin', 'and', 'weightless', 'penetrates', 'the', 'hair', 'and', 'scalp', 'leaving', 'no', 'sticky', 'mess', 'wait', 'minutes', 'before', 'rinsing', 'out', 'aloe', 'vera', 'is', 'an', 'antioxidant', 'and', 'antimicrobial', 'and', 'will', 'protect', 'your', 'scalp', 'from', 'dandruff', 'and', 'dryness', 'dont', 'wait', 'until', 'the', 'winter', 'damage', 'sends', 'your', 'locks', 'to', 'the', 'clippers', 'nourish', 'and', 'revitalize', 'your', 'hair', 'with', 'our', 'bye', 'bye', 'winter', 'hair', 'care', 'recommendation']]\n"
     ]
    }
   ],
   "source": [
    "def sent_to_words(sentences):\n",
    "    for sentence in sentences:\n",
    "        yield(gensim.utils.simple_preprocess(str(sentence), deacc=True))  # deacc=True removes punctuations\n",
    "        \n",
    "\n",
    "data_words = list(sent_to_words(data))\n",
    "\n",
    "print(data_words[:1])\n"
   ]
  },
  {
   "cell_type": "code",
   "execution_count": 24,
   "metadata": {},
   "outputs": [],
   "source": [
    "def remove_stopwords(texts):\n",
    "    return [[word for word in simple_preprocess(str(doc)) if word not in stop_words] for doc in texts]\n",
    "\n",
    "# Remove Stop Words\n",
    "data_words_nostops = remove_stopwords(data_words)"
   ]
  },
  {
   "cell_type": "code",
   "execution_count": 25,
   "metadata": {},
   "outputs": [
    {
     "name": "stdout",
     "output_type": "stream",
     "text": [
      "[['ah', 'spring', 'time', 'horizon', 'give', 'mane', 'spring', 'detox', 'make', 'dry', 'cold', 'winds', 'deplete', 'hair', 'scalp', 'moisture', 'overtime', 'locks', 'become', 'dry', 'brittle', 'try', 'easy', 'pampering', 'recommendation', 'protect', 'mane', 'look', 'lustrous', 'feel', 'silky', 'smooth', 'apply', 'true', 'moringa', 'purpose', 'moringa', 'body', 'oil', 'peppermint', 'hair', 'scalp', 'leave', 'hair', 'minutes', 'wrap', 'hair', 'towel', 'leave', 'overnight', 'moringa', 'oil', 'clog', 'scalp', 'pores', 'strengthens', 'hair', 'follicles', 'combats', 'frizz', 'keep', 'hair', 'overnight', 'next', 'day', 'really', 'greasy', 'wash', 'mild', 'sulphate', 'free', 'shampoo', 'like', 'juicy', 'acure', 'mega', 'moisture', 'shampoo', 'reveal', 'uber', 'moisturized', 'hair', 'scalp', 'next', 'give', 'scalp', 'sustained', 'moisture', 'lock', 'deserves', 'love', 'organic', 'hair', 'mask', 'triple', 'threat', 'recovery', 'dry', 'blustery', 'cold', 'air', 'shocked', 'scalp', 'hair', 'winter', 'months', 'apply', 'one', 'two', 'times', 'week', 'john', 'masters', 'organics', 'hair', 'milk', 'rose', 'apricot', 'premium', 'ingredients', 'like', 'rose', 'water', 'balance', 'moisture', 'levels', 'apricot', 'seed', 'oil', 'repairs', 'split', 'ends', 'nourishing', 'hair', 'mask', 'gently', 'cleanses', 'away', 'excess', 'harmful', 'sebum', 'product', 'residue', 'scalp', 'diyer', 'make', 'simple', 'hair', 'mask', 'food', 'ingredients', 'right', 'kitchen', 'simply', 'mash', 'avocado', 'beat', 'two', 'egg', 'whites', 'apply', 'hair', 'keep', 'minutes', 'wash', 'cool', 'tepid', 'water', 'hair', 'extra', 'nourished', 'good', 'fats', 'vitamins', 'minerals', 'lock', 'moisture', 'rich', 'goodness', 'post', 'shampoo', 'conditioner', 'apply', 'tablespoons', 'green', 'leaf', 'naturals', 'aloe', 'vera', 'gel', 'hair', 'scalp', 'love', 'aloe', 'vera', 'gel', 'hair', 'scalp', 'specifically', 'pure', 'organic', 'aloe', 'vera', 'gel', 'cold', 'pressed', 'gel', 'thin', 'weightless', 'penetrates', 'hair', 'scalp', 'leaving', 'sticky', 'mess', 'wait', 'minutes', 'rinsing', 'aloe', 'vera', 'antioxidant', 'antimicrobial', 'protect', 'scalp', 'dandruff', 'dryness', 'dont', 'wait', 'winter', 'damage', 'sends', 'locks', 'clippers', 'nourish', 'revitalize', 'hair', 'bye', 'bye', 'winter', 'hair', 'care', 'recommendation']]\n"
     ]
    }
   ],
   "source": [
    "print(data_words_nostops[:1])"
   ]
  },
  {
   "cell_type": "code",
   "execution_count": 31,
   "metadata": {},
   "outputs": [],
   "source": [
    "bigram = gensim.models.Phrases(data_words, min_count=5, threshold=100)\n",
    "bigram_mod = gensim.models.phrases.Phraser(bigram)\n",
    "\n",
    "def make_bigrams(texts):\n",
    "    return [bigram_mod[doc] for doc in texts]\n",
    "\n",
    "# Form Bigrams\n",
    "data_words_bigrams = make_bigrams(data_words_nostops)"
   ]
  },
  {
   "cell_type": "code",
   "execution_count": 38,
   "metadata": {},
   "outputs": [],
   "source": [
    "def lemmatization(texts, allowed_postags=['NOUN', 'ADJ', 'VERB', 'ADV']):\n",
    "    \"\"\"https://spacy.io/api/annotation\"\"\"\n",
    "    texts_out = []\n",
    "    for sent in texts:\n",
    "        doc = nlp(\" \".join(sent)) \n",
    "        texts_out.append([token.lemma_ for token in doc if token.pos_ in allowed_postags])\n",
    "    return texts_out\n",
    "\n",
    "nlp = spacy.load('en', disable=['parser', 'ner'])\n",
    "\n",
    "data_lemmatized = lemmatization(data_words_bigrams, allowed_postags=['NOUN', 'ADJ', 'VERB', 'ADV'])"
   ]
  },
  {
   "cell_type": "code",
   "execution_count": 39,
   "metadata": {},
   "outputs": [
    {
     "name": "stdout",
     "output_type": "stream",
     "text": [
      "[['spring', 'give', 'spring', 'detox', 'make', 'dry', 'cold', 'wind', 'deplete', 'hair', 'overtime', 'lock', 'become', 'dry', 'brittle', 'try', 'easy', 'pamper', 'recommendation', 'mane', 'look', 'lustrous', 'feel', 'apply', 'true', 'moringa', 'purpose', 'body', 'oil', 'peppermint', 'hair', 'scalp', 'leave', 'hair', 'minute', 'wrap', 'hair', 'towel', 'leave', 'overnight', 'pore', 'strengthen', 'hair', 'follicle', 'combat', 'frizz', 'keep', 'hair', 'overnight', 'next', 'day', 'really', 'greasy', 'wash', 'mild', 'shampoo', 'acure', 'shampoo', 'moisturize', 'hair', 'next', 'give', 'sustain', 'moisture', 'lock', 'deserve', 'love', 'organic', 'hair', 'mask', 'triple', 'threat', 'recovery', 'dry', 'cold', 'shock', 'hair', 'apply', 'time', 'week', 'hair', 'milk', 'rise', 'ingredient', 'rise', 'water', 'balance', 'moisture', 'level', 'seed', 'oil', 'repair', 'nourish', 'hair', 'gently', 'cleanse', 'away', 'excess', 'harmful', 'product', 'diyer', 'make', 'simple', 'hair', 'mask', 'food', 'ingredient', 'right', 'simply', 'beat', 'egg', 'white', 'apply', 'hair', 'keep', 'minute', 'wash', 'cool', 'tepid', 'water', 'hair', 'extra', 'nourish', 'good', 'fat', 'lock', 'moisture', 'rich', 'goodness', 'shampoo', 'conditioner', 'apply', 'tablespoon', 'green', 'leaf', 'hair', 'hair', 'specifically', 'pure', 'organic', 'gel', 'gel', 'thin', 'weightless', 'penetrate', 'hair', 'scalp', 'leave', 'sticky', 'mess', 'wait', 'minute', 'rinse', 'antioxidant', 'dryness', 'wait', 'winter', 'damage', 'send', 'lock', 'clipper', 'nourish', 'revitalize', 'hair', 'winter', 'hair', 'care', 'recommendation']]\n"
     ]
    }
   ],
   "source": [
    "print(data_lemmatized[:1])"
   ]
  },
  {
   "cell_type": "markdown",
   "metadata": {},
   "source": [
    "# Sentiment Analysis"
   ]
  },
  {
   "cell_type": "code",
   "execution_count": 40,
   "metadata": {},
   "outputs": [],
   "source": [
    "analyzer = SentimentIntensityAnalyzer()"
   ]
  },
  {
   "cell_type": "code",
   "execution_count": 41,
   "metadata": {},
   "outputs": [],
   "source": [
    "sentiment = df['reviewtext'].apply(lambda x: analyzer.polarity_scores(x))"
   ]
  },
  {
   "cell_type": "code",
   "execution_count": 42,
   "metadata": {},
   "outputs": [],
   "source": [
    "df = pd.concat([df,sentiment.apply(pd.Series)],1)"
   ]
  },
  {
   "cell_type": "code",
   "execution_count": 43,
   "metadata": {},
   "outputs": [
    {
     "data": {
      "text/html": [
       "<div>\n",
       "<style scoped>\n",
       "    .dataframe tbody tr th:only-of-type {\n",
       "        vertical-align: middle;\n",
       "    }\n",
       "\n",
       "    .dataframe tbody tr th {\n",
       "        vertical-align: top;\n",
       "    }\n",
       "\n",
       "    .dataframe thead th {\n",
       "        text-align: right;\n",
       "    }\n",
       "</style>\n",
       "<table border=\"1\" class=\"dataframe\">\n",
       "  <thead>\n",
       "    <tr style=\"text-align: right;\">\n",
       "      <th></th>\n",
       "      <th>body</th>\n",
       "      <th>watson</th>\n",
       "      <th>products</th>\n",
       "      <th>user</th>\n",
       "      <th>reviewtext</th>\n",
       "      <th>reviewtext_token</th>\n",
       "      <th>text_lemmatized</th>\n",
       "      <th>reviewtext_new</th>\n",
       "      <th>neg</th>\n",
       "      <th>neu</th>\n",
       "      <th>pos</th>\n",
       "      <th>compound</th>\n",
       "    </tr>\n",
       "  </thead>\n",
       "  <tbody>\n",
       "    <tr>\n",
       "      <th>0</th>\n",
       "      <td>&lt;p class=\"MsoNormal\"&gt;Ah spring time is on the ...</td>\n",
       "      <td>{\"usage\":{\"text_units\":1,\"text_characters\":230...</td>\n",
       "      <td>True Moringa - All Purpose Moringa Body Oil wi...</td>\n",
       "      <td>5</td>\n",
       "      <td>Ah spring time is on the horizon. Why not give...</td>\n",
       "      <td>[ah, spring, time, horizon, why, give, mane, s...</td>\n",
       "      <td>[ah, spring, time, horizon, why, give, mane, s...</td>\n",
       "      <td>[[], [], [], [], [], [], [], [], [], [], [], [...</td>\n",
       "      <td>0.042</td>\n",
       "      <td>0.846</td>\n",
       "      <td>0.112</td>\n",
       "      <td>0.9860</td>\n",
       "    </tr>\n",
       "    <tr>\n",
       "      <th>1</th>\n",
       "      <td>&lt;p dir=\"ltr\" style=\"line-height: 1.38; margin-...</td>\n",
       "      <td>{\"usage\":{\"text_units\":1,\"text_characters\":280...</td>\n",
       "      <td>BioFinest Pomegranate Seed Organic Oil - 100% ...</td>\n",
       "      <td>5</td>\n",
       "      <td>Feeling like you need a kick in the pants to g...</td>\n",
       "      <td>[feeling, like, need, kick, pants, get, stuper...</td>\n",
       "      <td>[feeling, like, need, kick, pant, get, stuper,...</td>\n",
       "      <td>[[], [], [], [], [], [], [], [], [], [], [], [...</td>\n",
       "      <td>0.072</td>\n",
       "      <td>0.731</td>\n",
       "      <td>0.197</td>\n",
       "      <td>0.9974</td>\n",
       "    </tr>\n",
       "    <tr>\n",
       "      <th>2</th>\n",
       "      <td>&lt;p class=\"MsoNormal\"&gt;Oral health is key for ov...</td>\n",
       "      <td>{\"usage\":{\"text_units\":1,\"text_characters\":133...</td>\n",
       "      <td>Lakanto Monkfruit Sweetener, Golden, 8.29 Ounc...</td>\n",
       "      <td>5</td>\n",
       "      <td>Oral health is key for overall health.  Did yo...</td>\n",
       "      <td>[oral, health, key, overall, health, did, know...</td>\n",
       "      <td>[oral, health, key, overall, health, did, know...</td>\n",
       "      <td>[[], [], [], [], [], [], [], [], [], [], [], [...</td>\n",
       "      <td>0.071</td>\n",
       "      <td>0.787</td>\n",
       "      <td>0.142</td>\n",
       "      <td>0.9473</td>\n",
       "    </tr>\n",
       "    <tr>\n",
       "      <th>3</th>\n",
       "      <td>&lt;p class=\"MsoNormal\"&gt;The benefits of adding le...</td>\n",
       "      <td>{\"usage\":{\"text_units\":1,\"text_characters\":117...</td>\n",
       "      <td>NaN</td>\n",
       "      <td>5</td>\n",
       "      <td>The benefits of adding lemon to our drinking w...</td>\n",
       "      <td>[the, benefits, adding, lemon, drinking, water...</td>\n",
       "      <td>[the, benefit, adding, lemon, drinking, water,...</td>\n",
       "      <td>[[], [], [], [], [], [], [], [], [], [], [], [...</td>\n",
       "      <td>0.015</td>\n",
       "      <td>0.762</td>\n",
       "      <td>0.224</td>\n",
       "      <td>0.9924</td>\n",
       "    </tr>\n",
       "    <tr>\n",
       "      <th>4</th>\n",
       "      <td>&lt;p class=\"MsoNormal\"&gt;Our diets today, unfortun...</td>\n",
       "      <td>{\"usage\":{\"text_units\":1,\"text_characters\":210...</td>\n",
       "      <td>Gelatinized Maca Root Powder From Peru - Certi...</td>\n",
       "      <td>5</td>\n",
       "      <td>Our diets today, unfortunately have many hidde...</td>\n",
       "      <td>[our, diets, today, unfortunately, many, hidde...</td>\n",
       "      <td>[our, diet, today, unfortunately, many, hidden...</td>\n",
       "      <td>[[], [], [], [], [], [], [], [], [], [], [], [...</td>\n",
       "      <td>0.034</td>\n",
       "      <td>0.827</td>\n",
       "      <td>0.138</td>\n",
       "      <td>0.9833</td>\n",
       "    </tr>\n",
       "  </tbody>\n",
       "</table>\n",
       "</div>"
      ],
      "text/plain": [
       "                                                body  \\\n",
       "0  <p class=\"MsoNormal\">Ah spring time is on the ...   \n",
       "1  <p dir=\"ltr\" style=\"line-height: 1.38; margin-...   \n",
       "2  <p class=\"MsoNormal\">Oral health is key for ov...   \n",
       "3  <p class=\"MsoNormal\">The benefits of adding le...   \n",
       "4  <p class=\"MsoNormal\">Our diets today, unfortun...   \n",
       "\n",
       "                                              watson  \\\n",
       "0  {\"usage\":{\"text_units\":1,\"text_characters\":230...   \n",
       "1  {\"usage\":{\"text_units\":1,\"text_characters\":280...   \n",
       "2  {\"usage\":{\"text_units\":1,\"text_characters\":133...   \n",
       "3  {\"usage\":{\"text_units\":1,\"text_characters\":117...   \n",
       "4  {\"usage\":{\"text_units\":1,\"text_characters\":210...   \n",
       "\n",
       "                                            products  user  \\\n",
       "0  True Moringa - All Purpose Moringa Body Oil wi...     5   \n",
       "1  BioFinest Pomegranate Seed Organic Oil - 100% ...     5   \n",
       "2  Lakanto Monkfruit Sweetener, Golden, 8.29 Ounc...     5   \n",
       "3                                                NaN     5   \n",
       "4  Gelatinized Maca Root Powder From Peru - Certi...     5   \n",
       "\n",
       "                                          reviewtext  \\\n",
       "0  Ah spring time is on the horizon. Why not give...   \n",
       "1  Feeling like you need a kick in the pants to g...   \n",
       "2  Oral health is key for overall health.  Did yo...   \n",
       "3  The benefits of adding lemon to our drinking w...   \n",
       "4  Our diets today, unfortunately have many hidde...   \n",
       "\n",
       "                                    reviewtext_token  \\\n",
       "0  [ah, spring, time, horizon, why, give, mane, s...   \n",
       "1  [feeling, like, need, kick, pants, get, stuper...   \n",
       "2  [oral, health, key, overall, health, did, know...   \n",
       "3  [the, benefits, adding, lemon, drinking, water...   \n",
       "4  [our, diets, today, unfortunately, many, hidde...   \n",
       "\n",
       "                                     text_lemmatized  \\\n",
       "0  [ah, spring, time, horizon, why, give, mane, s...   \n",
       "1  [feeling, like, need, kick, pant, get, stuper,...   \n",
       "2  [oral, health, key, overall, health, did, know...   \n",
       "3  [the, benefit, adding, lemon, drinking, water,...   \n",
       "4  [our, diet, today, unfortunately, many, hidden...   \n",
       "\n",
       "                                      reviewtext_new    neg    neu    pos  \\\n",
       "0  [[], [], [], [], [], [], [], [], [], [], [], [...  0.042  0.846  0.112   \n",
       "1  [[], [], [], [], [], [], [], [], [], [], [], [...  0.072  0.731  0.197   \n",
       "2  [[], [], [], [], [], [], [], [], [], [], [], [...  0.071  0.787  0.142   \n",
       "3  [[], [], [], [], [], [], [], [], [], [], [], [...  0.015  0.762  0.224   \n",
       "4  [[], [], [], [], [], [], [], [], [], [], [], [...  0.034  0.827  0.138   \n",
       "\n",
       "   compound  \n",
       "0    0.9860  \n",
       "1    0.9974  \n",
       "2    0.9473  \n",
       "3    0.9924  \n",
       "4    0.9833  "
      ]
     },
     "execution_count": 43,
     "metadata": {},
     "output_type": "execute_result"
    }
   ],
   "source": [
    "df.head()"
   ]
  },
  {
   "cell_type": "markdown",
   "metadata": {},
   "source": [
    "# LDA topic modelling"
   ]
  },
  {
   "cell_type": "code",
   "execution_count": 44,
   "metadata": {},
   "outputs": [],
   "source": [
    "id2word = corpora.Dictionary(df['text_lemmatized'])"
   ]
  },
  {
   "cell_type": "code",
   "execution_count": 46,
   "metadata": {},
   "outputs": [],
   "source": [
    "texts = data_lemmatized"
   ]
  },
  {
   "cell_type": "code",
   "execution_count": 47,
   "metadata": {},
   "outputs": [],
   "source": [
    "corpus = [id2word.doc2bow(text) for text in texts]"
   ]
  },
  {
   "cell_type": "code",
   "execution_count": 58,
   "metadata": {},
   "outputs": [],
   "source": [
    "lda_model = gensim.models.ldamodel.LdaModel(corpus=corpus,\n",
    "                                           id2word=id2word,\n",
    "                                           num_topics=10, \n",
    "                                           update_every=1,\n",
    "                                           chunksize=100,\n",
    "                                           passes=10,\n",
    "                                           alpha='auto',\n",
    "                                           per_word_topics=True)"
   ]
  },
  {
   "cell_type": "code",
   "execution_count": 59,
   "metadata": {},
   "outputs": [
    {
     "name": "stderr",
     "output_type": "stream",
     "text": [
      "C:\\Users\\abhis\\Anaconda3\\lib\\site-packages\\pyLDAvis\\_prepare.py:257: FutureWarning: Sorting because non-concatenation axis is not aligned. A future version\n",
      "of pandas will change to not sort by default.\n",
      "\n",
      "To accept the future behavior, pass 'sort=False'.\n",
      "\n",
      "To retain the current behavior and silence the warning, pass 'sort=True'.\n",
      "\n",
      "  return pd.concat([default_term_info] + list(topic_dfs))\n"
     ]
    },
    {
     "data": {
      "text/html": [
       "\n",
       "<link rel=\"stylesheet\" type=\"text/css\" href=\"https://cdn.rawgit.com/bmabey/pyLDAvis/files/ldavis.v1.0.0.css\">\n",
       "\n",
       "\n",
       "<div id=\"ldavis_el4660418358739235043049178392\"></div>\n",
       "<script type=\"text/javascript\">\n",
       "\n",
       "var ldavis_el4660418358739235043049178392_data = {\"mdsDat\": {\"x\": [0.18384132127627312, 0.29449924386737936, 0.2221990288742248, 0.2554332169269795, -0.08465611783719906, -0.18399575569770396, -0.18259043161580044, -0.16982242734133368, -0.16875531084038434, -0.16615276761243541], \"y\": [0.16122274434688372, 0.05465604244285333, 0.03785552027336275, -0.17366727571201787, -0.2612124788844286, 0.05295315406515451, 0.04062256864299018, 0.03146849893479404, 0.028429912103122637, 0.027671313787285483], \"topics\": [1, 2, 3, 4, 5, 6, 7, 8, 9, 10], \"cluster\": [1, 1, 1, 1, 1, 1, 1, 1, 1, 1], \"Freq\": [34.09817886352539, 24.05436134338379, 18.667831420898438, 15.223482131958008, 3.344959020614624, 2.0655767917633057, 1.5377190113067627, 0.7377811670303345, 0.23385335505008698, 0.036254044622182846]}, \"tinfo\": {\"Category\": [\"Default\", \"Default\", \"Default\", \"Default\", \"Default\", \"Default\", \"Default\", \"Default\", \"Default\", \"Default\", \"Default\", \"Default\", \"Default\", \"Default\", \"Default\", \"Default\", \"Default\", \"Default\", \"Default\", \"Default\", \"Default\", \"Default\", \"Default\", \"Default\", \"Default\", \"Default\", \"Default\", \"Default\", \"Default\", \"Default\", \"Topic1\", \"Topic1\", \"Topic1\", \"Topic1\", \"Topic1\", \"Topic1\", \"Topic1\", \"Topic1\", \"Topic1\", \"Topic1\", \"Topic1\", \"Topic1\", \"Topic1\", \"Topic1\", \"Topic1\", \"Topic1\", \"Topic1\", \"Topic1\", \"Topic1\", \"Topic1\", \"Topic1\", \"Topic1\", \"Topic1\", \"Topic1\", \"Topic1\", \"Topic1\", \"Topic1\", \"Topic1\", \"Topic1\", \"Topic1\", \"Topic1\", \"Topic1\", \"Topic1\", \"Topic1\", \"Topic1\", \"Topic1\", \"Topic1\", \"Topic1\", \"Topic1\", \"Topic1\", \"Topic1\", \"Topic1\", \"Topic1\", \"Topic1\", \"Topic1\", \"Topic1\", \"Topic1\", \"Topic1\", \"Topic1\", \"Topic1\", \"Topic1\", \"Topic1\", \"Topic1\", \"Topic1\", \"Topic1\", \"Topic1\", \"Topic1\", \"Topic2\", \"Topic2\", \"Topic2\", \"Topic2\", \"Topic2\", \"Topic2\", \"Topic2\", \"Topic2\", \"Topic2\", \"Topic2\", \"Topic2\", \"Topic2\", \"Topic2\", \"Topic2\", \"Topic2\", \"Topic2\", \"Topic2\", \"Topic2\", \"Topic2\", \"Topic2\", \"Topic2\", \"Topic2\", \"Topic2\", \"Topic2\", \"Topic2\", \"Topic2\", \"Topic2\", \"Topic2\", \"Topic2\", \"Topic2\", \"Topic2\", \"Topic2\", \"Topic2\", \"Topic2\", \"Topic2\", \"Topic2\", \"Topic2\", \"Topic2\", \"Topic2\", \"Topic2\", \"Topic2\", \"Topic2\", \"Topic2\", \"Topic2\", \"Topic2\", \"Topic2\", \"Topic2\", \"Topic2\", \"Topic2\", \"Topic2\", \"Topic2\", \"Topic2\", \"Topic2\", \"Topic2\", \"Topic2\", \"Topic2\", \"Topic2\", \"Topic2\", \"Topic2\", \"Topic2\", \"Topic2\", \"Topic2\", \"Topic2\", \"Topic2\", \"Topic2\", \"Topic2\", \"Topic2\", \"Topic2\", \"Topic2\", \"Topic3\", \"Topic3\", \"Topic3\", \"Topic3\", \"Topic3\", \"Topic3\", \"Topic3\", \"Topic3\", \"Topic3\", \"Topic3\", \"Topic3\", \"Topic3\", \"Topic3\", \"Topic3\", \"Topic3\", \"Topic3\", \"Topic3\", \"Topic3\", \"Topic3\", \"Topic3\", \"Topic3\", \"Topic3\", \"Topic3\", \"Topic3\", \"Topic3\", \"Topic3\", \"Topic3\", \"Topic3\", \"Topic3\", \"Topic3\", \"Topic3\", \"Topic3\", \"Topic3\", \"Topic3\", \"Topic3\", \"Topic3\", \"Topic3\", \"Topic3\", \"Topic3\", \"Topic3\", \"Topic3\", \"Topic3\", \"Topic3\", \"Topic3\", \"Topic3\", \"Topic3\", \"Topic3\", \"Topic3\", \"Topic3\", \"Topic3\", \"Topic3\", \"Topic4\", \"Topic4\", \"Topic4\", \"Topic4\", \"Topic4\", \"Topic4\", \"Topic4\", \"Topic4\", \"Topic4\", \"Topic4\", \"Topic4\", \"Topic4\", \"Topic4\", \"Topic4\", \"Topic4\", \"Topic4\", \"Topic4\", \"Topic4\", \"Topic4\", \"Topic4\", \"Topic4\", \"Topic4\", \"Topic4\", \"Topic4\", \"Topic4\", \"Topic4\", \"Topic4\", \"Topic4\", \"Topic4\", \"Topic4\", \"Topic4\", \"Topic4\", \"Topic4\", \"Topic4\", \"Topic4\", \"Topic4\", \"Topic4\", \"Topic4\", \"Topic4\", \"Topic4\", \"Topic4\", \"Topic4\", \"Topic4\", \"Topic4\", \"Topic4\", \"Topic4\", \"Topic4\", \"Topic4\", \"Topic4\", \"Topic4\", \"Topic4\", \"Topic4\", \"Topic4\", \"Topic4\", \"Topic4\", \"Topic4\", \"Topic4\", \"Topic5\", \"Topic5\", \"Topic5\", \"Topic5\", \"Topic5\", \"Topic5\", \"Topic5\", \"Topic5\", \"Topic5\", \"Topic5\", \"Topic5\", \"Topic5\", \"Topic5\", \"Topic5\", \"Topic5\", \"Topic5\", \"Topic5\", \"Topic5\", \"Topic5\", \"Topic5\", \"Topic5\", \"Topic5\", \"Topic5\", \"Topic5\", \"Topic5\", \"Topic5\", \"Topic5\", \"Topic5\", \"Topic5\", \"Topic5\", \"Topic5\", \"Topic5\", \"Topic5\", \"Topic5\", \"Topic5\", \"Topic5\", \"Topic5\", \"Topic5\", \"Topic5\", \"Topic5\", \"Topic6\", \"Topic6\", \"Topic6\", \"Topic6\", \"Topic6\", \"Topic6\", \"Topic6\", \"Topic6\", \"Topic6\", \"Topic6\", \"Topic6\", \"Topic6\", \"Topic6\", \"Topic6\", \"Topic6\", \"Topic6\", \"Topic6\", \"Topic6\", \"Topic6\", \"Topic6\", \"Topic6\", \"Topic6\", \"Topic6\", \"Topic6\", \"Topic6\", \"Topic6\", \"Topic6\", \"Topic6\", \"Topic6\", \"Topic6\", \"Topic6\", \"Topic6\", \"Topic6\", \"Topic6\", \"Topic6\", \"Topic6\", \"Topic6\", \"Topic7\", \"Topic7\", \"Topic7\", \"Topic7\", \"Topic7\", \"Topic7\", \"Topic7\", \"Topic7\", \"Topic7\", \"Topic7\", \"Topic7\", \"Topic7\", \"Topic7\", \"Topic7\", \"Topic7\", \"Topic7\", \"Topic7\", \"Topic7\", \"Topic7\", \"Topic7\", \"Topic7\", \"Topic7\", \"Topic7\", \"Topic7\", \"Topic7\", \"Topic7\", \"Topic7\", \"Topic7\", \"Topic7\", \"Topic7\", \"Topic7\", \"Topic7\", \"Topic7\", \"Topic8\", \"Topic8\", \"Topic8\", \"Topic8\", \"Topic8\", \"Topic8\", \"Topic8\", \"Topic8\", \"Topic8\", \"Topic8\", \"Topic8\", \"Topic8\", \"Topic8\", \"Topic8\", \"Topic8\", \"Topic8\", \"Topic8\", \"Topic8\", \"Topic8\", \"Topic8\", \"Topic8\", \"Topic8\", \"Topic8\", \"Topic8\", \"Topic8\", \"Topic8\", \"Topic8\", \"Topic8\", \"Topic8\", \"Topic8\", \"Topic8\", \"Topic8\", \"Topic8\", \"Topic9\", \"Topic9\", \"Topic9\", \"Topic9\", \"Topic9\", \"Topic9\", \"Topic9\", \"Topic9\", \"Topic9\", \"Topic9\", \"Topic9\", \"Topic9\", \"Topic9\", \"Topic9\", \"Topic9\", \"Topic9\", \"Topic9\", \"Topic9\", \"Topic9\", \"Topic9\", \"Topic9\", \"Topic9\", \"Topic9\", \"Topic9\", \"Topic9\", \"Topic9\", \"Topic9\", \"Topic9\", \"Topic9\", \"Topic9\", \"Topic10\", \"Topic10\", \"Topic10\", \"Topic10\", \"Topic10\", \"Topic10\", \"Topic10\", \"Topic10\", \"Topic10\", \"Topic10\", \"Topic10\", \"Topic10\", \"Topic10\", \"Topic10\", \"Topic10\", \"Topic10\", \"Topic10\", \"Topic10\", \"Topic10\", \"Topic10\", \"Topic10\", \"Topic10\", \"Topic10\", \"Topic10\", \"Topic10\", \"Topic10\", \"Topic10\", \"Topic10\", \"Topic10\", \"Topic10\", \"Topic10\", \"Topic10\", \"Topic10\", \"Topic10\", \"Topic10\", \"Topic10\", \"Topic10\", \"Topic10\", \"Topic10\", \"Topic10\", \"Topic10\", \"Topic10\", \"Topic10\", \"Topic10\", \"Topic10\", \"Topic10\", \"Topic10\", \"Topic10\", \"Topic10\", \"Topic10\"], \"Freq\": [1182.0, 624.0, 894.0, 1834.0, 848.0, 431.0, 602.0, 886.0, 2588.0, 581.0, 1014.0, 710.0, 1155.0, 881.0, 1300.0, 709.0, 1053.0, 661.0, 501.0, 487.0, 539.0, 657.0, 888.0, 295.0, 294.0, 328.0, 1023.0, 1190.0, 317.0, 304.0, 450.59686279296875, 415.9930419921875, 374.84210205078125, 278.9233703613281, 245.33352661132812, 201.4095001220703, 197.37892150878906, 194.01113891601562, 180.86634826660156, 175.9720916748047, 171.76556396484375, 171.32769775390625, 168.7520751953125, 166.9109649658203, 145.5283203125, 142.85939025878906, 139.05711364746094, 134.129638671875, 129.69192504882812, 136.1162872314453, 126.3951187133789, 126.19823455810547, 126.19949340820312, 125.33419799804688, 122.91777038574219, 121.95709228515625, 120.14114379882812, 118.38243865966797, 116.21269989013672, 114.63516998291016, 656.4721069335938, 702.7637939453125, 429.6828308105469, 274.6944274902344, 970.1602783203125, 239.0201416015625, 258.6963806152344, 343.4477844238281, 147.19384765625, 145.9847869873047, 212.29641723632812, 726.7032470703125, 254.96060180664062, 677.7005615234375, 249.2726593017578, 331.3842468261719, 157.53330993652344, 193.606689453125, 282.2222900390625, 313.1697998046875, 437.7796936035156, 285.0176086425781, 318.44049072265625, 231.05426025390625, 218.91810607910156, 229.87242126464844, 210.43218994140625, 347.71417236328125, 219.7334747314453, 214.20872497558594, 159.9976348876953, 164.891845703125, 137.75762939453125, 134.93716430664062, 105.77482604980469, 99.04127502441406, 92.42150115966797, 86.96226501464844, 85.83460235595703, 84.34623718261719, 78.42692565917969, 73.73009490966797, 71.38451385498047, 69.91332244873047, 68.96122741699219, 67.07916259765625, 63.23485565185547, 53.264034271240234, 52.61848068237305, 196.99049377441406, 52.012393951416016, 47.16399383544922, 46.336578369140625, 46.04829788208008, 54.873104095458984, 43.24557113647461, 42.99394989013672, 491.658447265625, 472.8491516113281, 324.2697448730469, 180.76394653320312, 89.58009338378906, 495.29827880859375, 431.3256530761719, 252.04330444335938, 292.9850158691406, 375.69775390625, 231.7150421142578, 331.2296142578125, 148.4735870361328, 237.41929626464844, 163.6442108154297, 472.28564453125, 503.028076171875, 788.787109375, 230.3974609375, 192.33592224121094, 487.7674255371094, 173.91233825683594, 323.593017578125, 416.56561279296875, 655.5665283203125, 411.216796875, 224.09910583496094, 941.837890625, 289.876220703125, 314.3560791015625, 440.0574035644531, 410.6774597167969, 306.353759765625, 438.699951171875, 293.5087890625, 293.5833435058594, 344.9267272949219, 316.8055725097656, 257.1570129394531, 1181.446044921875, 847.9329223632812, 327.92816162109375, 303.9563293457031, 233.2806854248047, 186.9237518310547, 167.1559600830078, 155.8776397705078, 150.78541564941406, 134.97314453125, 129.5170135498047, 104.56713104248047, 99.82453918457031, 92.88792419433594, 89.5677261352539, 88.55677795410156, 85.59159851074219, 83.53903198242188, 82.88233947753906, 82.45755004882812, 71.6045150756836, 68.47856903076172, 67.98114013671875, 65.21124267578125, 64.82553100585938, 64.47156524658203, 63.815673828125, 63.47175598144531, 61.68437576293945, 58.01325607299805, 305.1302795410156, 133.3172149658203, 237.02349853515625, 760.0809326171875, 1244.4637451171875, 265.3226013183594, 264.350341796875, 547.7681274414062, 241.64662170410156, 151.3251495361328, 416.17657470703125, 1039.1883544921875, 123.7677230834961, 109.16560363769531, 326.3403625488281, 177.03619384765625, 258.3677062988281, 240.46559143066406, 154.614013671875, 159.22364807128906, 168.74752807617188, 601.447998046875, 294.4614562988281, 294.198486328125, 252.32208251953125, 579.7212524414062, 207.97105407714844, 183.54953002929688, 155.64854431152344, 154.94654846191406, 119.9237289428711, 114.0010986328125, 109.33617401123047, 101.2437744140625, 87.43162536621094, 80.01930236816406, 75.36067199707031, 72.30357360839844, 72.01156616210938, 71.5159683227539, 61.550594329833984, 61.351078033447266, 61.28768539428711, 54.985374450683594, 51.96100616455078, 51.34450912475586, 50.87163162231445, 49.592655181884766, 48.743003845214844, 48.70963668823242, 46.58860778808594, 268.69189453125, 830.5275268554688, 97.45858001708984, 153.81976318359375, 124.3080825805664, 158.84890747070312, 106.6700210571289, 158.26683044433594, 251.27926635742188, 94.69623565673828, 89.34163665771484, 525.7750244140625, 429.8144836425781, 140.23330688476562, 106.68657684326172, 154.85304260253906, 335.9823913574219, 218.56393432617188, 138.14503479003906, 396.4895324707031, 217.19097900390625, 196.2007598876953, 222.83193969726562, 171.12791442871094, 207.3617401123047, 151.12924194335938, 202.8658447265625, 102.80937957763672, 101.1974868774414, 87.95227813720703, 77.16531372070312, 70.93904113769531, 61.81363296508789, 51.4452018737793, 47.65658187866211, 44.559364318847656, 43.8196907043457, 43.04896926879883, 40.9236946105957, 39.63417434692383, 38.85734939575195, 37.71940231323242, 37.38942337036133, 36.7772102355957, 34.17451858520508, 31.439517974853516, 28.468544006347656, 28.46103286743164, 28.205184936523438, 23.359962463378906, 22.78647804260254, 20.94513702392578, 19.989171981811523, 19.719161987304688, 19.363468170166016, 19.131364822387695, 18.604455947875977, 348.2102966308594, 34.635643005371094, 42.6248664855957, 52.14766311645508, 60.21864700317383, 50.30158233642578, 43.02225875854492, 76.23081970214844, 48.78195571899414, 33.487064361572266, 59.45260238647461, 55.74645233154297, 49.14750671386719, 41.65690612792969, 38.63571548461914, 33.99911880493164, 21.905223846435547, 20.85859489440918, 20.62043571472168, 18.573505401611328, 18.105487823486328, 52.06616973876953, 16.29561424255371, 16.23482322692871, 14.814701080322266, 14.34808349609375, 14.29003620147705, 13.981985092163086, 13.290669441223145, 13.260492324829102, 12.278003692626953, 12.212617874145508, 12.080639839172363, 11.123011589050293, 11.044118881225586, 10.83975887298584, 10.434121131896973, 10.355134963989258, 10.19041633605957, 9.997259140014648, 17.976558685302734, 77.15190124511719, 31.58614158630371, 17.024606704711914, 19.498863220214844, 17.272428512573242, 12.134722709655762, 89.62798309326172, 54.95451354980469, 38.52602767944336, 37.0526008605957, 32.82493591308594, 31.4736270904541, 29.215919494628906, 26.1171932220459, 25.572202682495117, 19.85466766357422, 15.364367485046387, 14.898180961608887, 14.421520233154297, 13.997904777526855, 13.307211875915527, 13.285604476928711, 13.198821067810059, 12.032546043395996, 11.977071762084961, 11.742234230041504, 11.154019355773926, 11.136432647705078, 11.10116958618164, 10.331281661987305, 10.282447814941406, 20.641794204711914, 9.382314682006836, 9.368204116821289, 9.348930358886719, 8.637608528137207, 21.917972564697266, 10.511653900146484, 9.558791160583496, 18.212831497192383, 14.121155738830566, 13.184260368347168, 9.505433082580566, 9.362604141235352, 9.223134994506836, 8.669156074523926, 8.171141624450684, 7.128993511199951, 6.826371192932129, 6.628846645355225, 6.5970635414123535, 6.483918190002441, 6.446084499359131, 5.358813762664795, 5.185612201690674, 5.05089807510376, 5.037984848022461, 5.0190229415893555, 4.843878746032715, 4.730381488800049, 4.6883015632629395, 4.486909866333008, 4.396834373474121, 4.198166847229004, 4.0319647789001465, 4.029891014099121, 3.726015567779541, 3.5387775897979736, 3.463728666305542, 18.86203384399414, 47.43889617919922, 3.7282419204711914, 3.9564058780670166, 3.310481071472168, 2.318737745285034, 1.8744299411773682, 1.636545181274414, 1.575107216835022, 1.4252371788024902, 1.198594093322754, 0.974413275718689, 0.969489574432373, 0.9326813220977783, 0.6031577587127686, 0.5887437462806702, 0.5534667372703552, 0.5170665979385376, 0.4908336102962494, 0.4807424247264862, 0.4293138384819031, 0.40973031520843506, 0.2829612195491791, 0.2633558511734009, 0.25085726380348206, 0.23156076669692993, 0.21328186988830566, 0.20378530025482178, 0.17093713581562042, 0.15891936421394348, 0.15513023734092712, 0.14857079088687897, 0.14158789813518524, 0.41404852271080017, 0.3214794099330902, 0.21758951246738434, 0.09807281196117401, 0.004037722013890743, 0.003857507137581706, 0.003857507137581706, 0.003857507137581706, 0.003857507137581706, 0.0038596242666244507, 0.0038570936303585768, 0.0038590854965150356, 0.004091133363544941, 0.004091133363544941, 0.0038574605714529753, 0.0038693619426339865, 0.0037856921553611755, 0.0037856921553611755, 0.0037856921553611755, 0.0037856895942240953, 0.003785465843975544, 0.004090747330337763, 0.0037685763090848923, 0.0037631129380315542, 0.0037840160075575113, 0.0037477745208889246, 0.0037368631456047297, 0.0037368631456047297, 0.0037368631456047297, 0.0037368631456047297, 0.0037368631456047297, 0.0037368631456047297, 0.0037368631456047297, 0.0037368631456047297, 0.0037368631456047297, 0.0037368631456047297, 0.003856570925563574, 0.003856570925563574, 0.0037368631456047297, 0.004072356969118118, 0.004072356969118118, 0.0037916952278465033, 0.0037916952278465033, 0.0037916952278465033, 0.0037916952278465033, 0.0037916952278465033, 0.003939763177186251, 0.0037916952278465033, 0.0041200886480510235, 0.003858395619317889], \"Term\": [\"skin\", \"water\", \"add\", \"product\", \"hair\", \"sugar\", \"protein\", \"oil\", \"use\", \"taste\", \"try\", \"ingredient\", \"love\", \"natural\", \"make\", \"vitamin\", \"body\", \"health\", \"really\", \"would\", \"go\", \"feel\", \"great\", \"powder\", \"mix\", \"face\", \"take\", \"help\", \"eat\", \"wash\", \"supplement\", \"support\", \"reduce\", \"level\", \"blood\", \"stress\", \"cell\", \"increase\", \"fish\", \"improve\", \"cup\", \"gum\", \"mineral\", \"digestive\", \"absorption\", \"system\", \"fibre\", \"hormone\", \"muscle\", \"call\", \"inflammation\", \"probiotic\", \"normally\", \"bacteria\", \"function\", \"ayurvedic\", \"omega\", \"liver\", \"magnesium\", \"tablet\", \"health\", \"vitamin\", \"collagen\", \"energy\", \"help\", \"form\", \"balance\", \"important\", \"digestion\", \"herb\", \"s\", \"body\", \"include\", \"take\", \"daily\", \"may\", \"age\", \"boost\", \"many\", \"food\", \"also\", \"healthy\", \"natural\", \"know\", \"need\", \"good\", \"use\", \"have\", \"morning\", \"bottle\", \"night\", \"never\", \"happy\", \"notice\", \"buy\", \"seem\", \"hour\", \"son\", \"mom\", \"run\", \"tell\", \"honest\", \"lip\", \"honestly\", \"purchase\", \"sit\", \"couple\", \"ball\", \"wear\", \"kid\", \"leg\", \"stick\", \"finger\", \"open\", \"hear\", \"worth\", \"shot\", \"really\", \"would\", \"always\", \"could\", \"old\", \"go\", \"be\", \"bit\", \"thing\", \"little\", \"think\", \"want\", \"last\", \"first\", \"spray\", \"time\", \"get\", \"try\", \"say\", \"actually\", \"feel\", \"lot\", \"give\", \"day\", \"love\", \"find\", \"start\", \"use\", \"keep\", \"work\", \"great\", \"good\", \"even\", \"make\", \"know\", \"need\", \"take\", \"product\", \"well\", \"skin\", \"hair\", \"face\", \"wash\", \"scent\", \"care\", \"cream\", \"soft\", \"soultree\", \"nourish\", \"remove\", \"nail\", \"moisturize\", \"toothpaste\", \"sensitive\", \"fragrance\", \"brush\", \"beauty\", \"shampoo\", \"greasy\", \"wipe\", \"gel\", \"moisturizer\", \"cleaning\", \"toxic\", \"lotion\", \"flour\", \"shower\", \"ton\", \"plastic\", \"dry\", \"apply\", \"chemical\", \"oil\", \"product\", \"leave\", \"clean\", \"natural\", \"smell\", \"company\", \"ingredient\", \"use\", \"safe\", \"line\", \"body\", \"contain\", \"make\", \"also\", \"free\", \"organic\", \"feel\", \"protein\", \"powder\", \"mix\", \"recipe\", \"taste\", \"smoothie\", \"coffee\", \"vinegar\", \"milk\", \"cook\", \"raw\", \"fiber\", \"tbsp\", \"stir\", \"serve\", \"soy\", \"soup\", \"vanilla\", \"shake\", \"tasty\", \"dish\", \"noodle\", \"pumpkin\", \"veggie\", \"substitute\", \"sprout\", \"ferment\", \"chop\", \"superfood\", \"spice\", \"flavour\", \"add\", \"dairy\", \"tea\", \"sauce\", \"bake\", \"seed\", \"favourite\", \"organic\", \"vegan\", \"fruit\", \"make\", \"love\", \"enjoy\", \"blend\", \"honey\", \"great\", \"food\", \"source\", \"use\", \"ingredient\", \"water\", \"try\", \"healthy\", \"also\", \"easy\", \"product\", \"bar\", \"snack\", \"sweetener\", \"salad\", \"calorie\", \"cookie\", \"pasta\", \"breakfast\", \"berry\", \"preservative\", \"sweeten\", \"cracker\", \"freeze\", \"share\", \"goodness\", \"sweetness\", \"ketchup\", \"fridge\", \"sample\", \"mixture\", \"bean\", \"cheese\", \"shop\", \"bread\", \"oven\", \"dessert\", \"apple\", \"salty\", \"guilt\", \"fructose\", \"sugar\", \"chip\", \"tablespoon\", \"egg\", \"sweet\", \"chocolate\", \"treat\", \"ingredient\", \"eat\", \"low\", \"bed\", \"jar\", \"alot\", \"literally\", \"husband\", \"yet\", \"else\", \"itchy\", \"whip\", \"sore\", \"bathroom\", \"canadian\", \"picture\", \"breath\", \"indigestion\", \"traditionally\", \"detect\", \"rave\", \"industry\", \"fire\", \"visit\", \"eventually\", \"dosha\", \"lysine\", \"suppose\", \"camping\", \"bubble\", \"bleed\", \"ayurveda\", \"ligament\", \"tonic\", \"pain\", \"relief\", \"knee\", \"heal\", \"eye\", \"joint\", \"turmeric\", \"sprinkle\", \"ear\", \"receive\", \"onion\", \"paste\", \"hemp\", \"flax\", \"tasteless\", \"garlic\", \"sip\", \"cardiovascular\", \"cartilage\", \"pressure\", \"pot\", \"nutty\", \"late\", \"congestion\", \"splash\", \"lime\", \"detox\", \"bio\", \"mainly\", \"twice\", \"steam\", \"ginger\", \"impressive\", \"wherever\", \"barrier\", \"sinus\", \"nose\", \"root\", \"allergy\", \"house\", \"lol\", \"filter\", \"alkaline\", \"pesticide\", \"pitcher\", \"otherwise\", \"cotton\", \"sole\", \"messy\", \"tap\", \"detergent\", \"toilet\", \"nicely\", \"filtration\", \"washroom\", \"liner\", \"twist\", \"mineralized\", \"spirit\", \"chlorine\", \"slip\", \"aluminum\", \"cute\", \"trend\", \"beautifully\", \"saving\", \"beach\", \"diaper\", \"santevia\", \"deodorant\", \"water\", \"cat\", \"pass\", \"rescue\", \"detoxification\", \"strongly\", \"genetic\", \"ointment\", \"investment\", \"supportive\", \"northern\", \"endocrine\", \"field\", \"rage\", \"virtually\", \"gene\", \"athletic\", \"signal\", \"dna\", \"untreated\", \"homeopathic\", \"laboratory\", \"marketing\", \"tumour\", \"continuously\", \"western\", \"capillary\", \"magnetic\", \"clot\", \"pascoe\", \"extracellular\", \"sequence\", \"own\", \"multivitamin\", \"crop\", \"creatine\", \"queasy\", \"abrupt\", \"muscular\", \"rounded\", \"triphosphate\", \"cultivation\", \"bcaa\", \"input\", \"opperated\", \"importent\", \"powdery\", \"monkey\", \"decoration\", \"sky\", \"finnish\", \"german\", \"entertain\", \"enhanced\", \"deformity\", \"lotta\", \"wedding\", \"hydrocephalus\", \"spiking\", \"loop\", \"maize\", \"lactic\", \"portability\", \"wick\", \"headphone\", \"garment\", \"cramer\", \"cancel\", \"carve\", \"tin\", \"calous\", \"barbecue\", \"gingerbread\", \"pinkie\", \"artisanal\", \"justea\", \"gorgous\", \"rural\", \"farming\", \"wage\", \"deodorized\", \"transparent\"], \"Total\": [1182.0, 624.0, 894.0, 1834.0, 848.0, 431.0, 602.0, 886.0, 2588.0, 581.0, 1014.0, 710.0, 1155.0, 881.0, 1300.0, 709.0, 1053.0, 661.0, 501.0, 487.0, 539.0, 657.0, 888.0, 295.0, 294.0, 328.0, 1023.0, 1190.0, 317.0, 304.0, 451.2588195800781, 416.655029296875, 375.667236328125, 279.5853271484375, 245.9955291748047, 202.07144165039062, 198.04083251953125, 194.673095703125, 181.52830505371094, 176.634033203125, 172.42782592773438, 171.9898681640625, 169.41404724121094, 167.57293701171875, 146.19029235839844, 143.52137756347656, 139.71925354003906, 134.7915802001953, 130.3538818359375, 136.81951904296875, 127.05709838867188, 126.8602523803711, 126.86185455322266, 125.99620056152344, 123.5797119140625, 122.62033081054688, 120.80313873291016, 119.04443359375, 116.87464904785156, 115.2972183227539, 661.8037719726562, 709.4563598632812, 443.3325500488281, 286.2511901855469, 1190.5006103515625, 256.11199951171875, 282.9421081542969, 400.6307373046875, 152.2379150390625, 150.79833984375, 235.80743408203125, 1053.58740234375, 300.359619140625, 1023.1847534179688, 293.4065856933594, 426.5368347167969, 166.0768280029297, 230.4506072998047, 452.138916015625, 547.87548828125, 1078.7213134765625, 538.3033447265625, 881.5149536132812, 540.391357421875, 546.2603149414062, 801.74560546875, 2588.29296875, 348.4541015625, 220.47349548339844, 214.94866943359375, 160.73753356933594, 165.68006896972656, 138.49754333496094, 135.67706298828125, 106.5147933959961, 99.78123474121094, 93.17276000976562, 87.70220184326172, 86.57459259033203, 85.08619689941406, 79.16685485839844, 74.47010040283203, 72.12438201904297, 70.65328216552734, 69.70118713378906, 67.81920623779297, 63.97481155395508, 54.004066467285156, 53.35834503173828, 199.7819061279297, 52.75300216674805, 47.903968811035156, 47.07658004760742, 46.78825759887695, 55.77106475830078, 43.98550033569336, 43.734153747558594, 501.68804931640625, 487.26214599609375, 333.440185546875, 187.01693725585938, 91.8713607788086, 539.9609985351562, 471.428955078125, 270.1839294433594, 316.4764709472656, 411.5333557128906, 248.00669860839844, 366.8662414550781, 158.44888305664062, 263.64337158203125, 176.84646606445312, 571.94482421875, 614.4267578125, 1014.02783203125, 261.24114990234375, 217.1781463623047, 657.1366577148438, 201.05999755859375, 446.2473449707031, 626.949462890625, 1155.697265625, 641.3123779296875, 279.5873718261719, 2588.29296875, 422.37518310546875, 485.02606201171875, 888.4616088867188, 801.74560546875, 508.84417724609375, 1300.97119140625, 540.391357421875, 546.2603149414062, 1023.1847534179688, 1834.05859375, 513.1196899414062, 1182.17236328125, 848.6591186523438, 328.65435791015625, 304.6825866699219, 234.0071258544922, 187.64999389648438, 167.88284301757812, 156.6039276123047, 151.51187133789062, 135.69937133789062, 130.2433319091797, 105.29339599609375, 100.55069732666016, 93.61415100097656, 90.29393005371094, 89.282958984375, 86.31781768798828, 84.2652359008789, 83.60850524902344, 83.1837387084961, 72.33069610595703, 69.20516204833984, 68.70732116699219, 65.9374771118164, 65.5517578125, 65.19772338867188, 64.54241180419922, 64.19795227050781, 62.41091537475586, 58.739505767822266, 312.560546875, 137.1949920654297, 256.5685119628906, 886.153564453125, 1834.05859375, 325.9293212890625, 334.235107421875, 881.5149536132812, 330.94390869140625, 185.833251953125, 710.1513671875, 2588.29296875, 152.21563720703125, 127.21963500976562, 1053.58740234375, 477.90460205078125, 1300.97119140625, 1078.7213134765625, 373.6749267578125, 412.3248596191406, 657.1366577148438, 602.1983642578125, 295.2115783691406, 294.94866943359375, 253.07659912109375, 581.7437133789062, 208.72109985351562, 184.2996368408203, 156.3987274169922, 155.69662475585938, 120.67379760742188, 114.75120544433594, 110.08765411376953, 101.9939956665039, 88.18175506591797, 80.76951599121094, 76.11077880859375, 73.05364990234375, 72.76167297363281, 72.26608276367188, 62.30067443847656, 62.101158142089844, 62.03776550292969, 55.73554992675781, 52.711063385009766, 52.096763610839844, 51.62178039550781, 50.342708587646484, 49.493072509765625, 49.45968246459961, 47.338680267333984, 281.7119140625, 894.765380859375, 101.01750946044922, 162.7244110107422, 131.4119873046875, 171.38790893554688, 113.46176147460938, 217.4897003173828, 412.3248596191406, 112.2995376586914, 104.52069854736328, 1300.97119140625, 1155.697265625, 207.25404357910156, 135.35191345214844, 247.31398010253906, 888.4616088867188, 547.87548828125, 236.45614624023438, 2588.29296875, 710.1513671875, 624.5927124023438, 1014.02783203125, 538.3033447265625, 1078.7213134765625, 375.96685791015625, 1834.05859375, 103.57482147216797, 101.96295166015625, 88.71797943115234, 77.93083953857422, 71.70455932617188, 62.579158782958984, 52.21067810058594, 48.42208480834961, 45.324913024902344, 44.5853271484375, 43.81450271606445, 41.68928909301758, 40.3996467590332, 39.62339782714844, 38.48535919189453, 38.155147552490234, 37.54270935058594, 34.94002151489258, 32.205650329589844, 29.234085083007812, 29.22667121887207, 28.970661163330078, 24.1265869140625, 23.551971435546875, 21.71063232421875, 20.754608154296875, 20.484786987304688, 20.128955841064453, 19.8969783782959, 19.370006561279297, 431.8763122558594, 39.55801773071289, 50.644439697265625, 69.27699279785156, 148.43966674804688, 108.15203857421875, 131.5428924560547, 710.1513671875, 317.9248046875, 211.58607482910156, 60.196903228759766, 56.490901947021484, 49.89207458496094, 42.40122985839844, 39.380226135253906, 34.74342727661133, 22.649627685546875, 21.60296630859375, 21.364986419677734, 19.317718505859375, 18.84978675842285, 54.315040588378906, 17.04022789001465, 16.97918701171875, 15.55912971496582, 15.092720031738281, 15.0350341796875, 14.726654052734375, 14.035120964050293, 14.004775047302246, 13.022905349731445, 12.957147598266602, 12.826078414916992, 11.867612838745117, 11.788476943969727, 11.584092140197754, 11.178508758544922, 11.099403381347656, 10.938413619995117, 10.741573333740234, 20.690176010131836, 113.17503356933594, 45.607276916503906, 22.764530181884766, 53.2183723449707, 90.3977279663086, 90.55752563476562, 90.38522338867188, 55.711830139160156, 39.286441802978516, 37.81014633178711, 33.58218765258789, 32.23084259033203, 29.973134994506836, 26.875164031982422, 26.32966423034668, 20.611873626708984, 16.121763229370117, 15.655574798583984, 15.1790189743042, 14.75516414642334, 14.064642906188965, 14.042906761169434, 13.956348419189453, 12.790541648864746, 12.734736442565918, 12.499524116516113, 11.911253929138184, 11.894879341125488, 11.858613967895508, 11.088630676269531, 11.040233612060547, 22.227365493774414, 10.139941215515137, 10.125826835632324, 10.10635757446289, 9.394848823547363, 42.480506896972656, 68.99002075195312, 50.599151611328125, 19.005573272705078, 14.913898468017578, 13.976662635803223, 10.297835350036621, 10.155165672302246, 10.015532493591309, 9.462163925170898, 8.963626861572266, 7.921656608581543, 7.619017601013184, 7.421238422393799, 7.389607906341553, 7.276382923126221, 7.238657474517822, 6.151349067687988, 5.978935718536377, 5.843738079071045, 5.8308892250061035, 5.8133978843688965, 5.637636661529541, 5.522775173187256, 5.48117208480835, 5.279542922973633, 5.190254211425781, 4.991424560546875, 4.824764251708984, 4.822369575500488, 4.518464088439941, 4.331191539764404, 4.256115913391113, 29.871231079101562, 624.5927124023438, 7.591415882110596, 4.7784576416015625, 4.132680892944336, 3.1405694484710693, 2.6966001987457275, 2.458597421646118, 2.3969013690948486, 2.247197389602661, 2.0204317569732666, 1.796356439590454, 1.791440486907959, 1.754504680633545, 1.4250798225402832, 1.4106090068817139, 1.3752567768096924, 1.3389091491699219, 1.3125962018966675, 1.3025027513504028, 1.2511038780212402, 1.2315325736999512, 1.1047086715698242, 1.085160493850708, 1.0726194381713867, 1.0534794330596924, 1.0350871086120605, 1.0255308151245117, 0.9927586913108826, 0.9806718826293945, 0.9768905639648438, 0.9703456163406372, 0.9635823369026184, 1.254928708076477, 1.1623636484146118, 1.0596188306808472, 0.9387465119361877, 0.8643477559089661, 0.8459248542785645, 0.8459248542785645, 0.8459248542785645, 0.8459248542785645, 0.8498278260231018, 0.851900577545166, 0.8536343574523926, 0.9053071737289429, 0.9053071737289429, 0.858059823513031, 0.8615517020225525, 0.8454844355583191, 0.8454844355583191, 0.8454844355583191, 0.8465860486030579, 0.8475761413574219, 0.91782146692276, 0.847224235534668, 0.8489571809768677, 0.853683352470398, 0.8457306623458862, 0.8455387949943542, 0.8455387949943542, 0.8455387949943542, 0.8455387949943542, 0.8455387949943542, 0.8455387949943542, 0.8455387949943542, 0.8455387949943542, 0.8455387949943542, 0.8455387949943542, 0.8744070529937744, 0.8744070529937744, 0.8455387949943542, 0.928760290145874, 0.928760290145874, 0.8590366840362549, 0.8590366840362549, 0.8590366840362549, 0.8590366840362549, 0.8590366840362549, 0.947975754737854, 0.8590366840362549, 1.1063151359558105, 0.9060564041137695], \"loglift\": [30.0, 29.0, 28.0, 27.0, 26.0, 25.0, 24.0, 23.0, 22.0, 21.0, 20.0, 19.0, 18.0, 17.0, 16.0, 15.0, 14.0, 13.0, 12.0, 11.0, 10.0, 9.0, 8.0, 7.0, 6.0, 5.0, 4.0, 3.0, 2.0, 1.0, 1.0744999647140503, 1.0743000507354736, 1.073699951171875, 1.0736000537872314, 1.073199987411499, 1.07260000705719, 1.07260000705719, 1.0724999904632568, 1.0722999572753906, 1.0721999406814575, 1.072100043296814, 1.072100043296814, 1.0720000267028809, 1.0720000267028809, 1.0714000463485718, 1.0713000297546387, 1.0712000131607056, 1.0709999799728394, 1.0707999467849731, 1.0707999467849731, 1.0707000494003296, 1.0707000494003296, 1.0707000494003296, 1.0707000494003296, 1.0706000328063965, 1.0705000162124634, 1.0703999996185303, 1.0702999830245972, 1.070199966430664, 1.070199966430664, 1.0678000450134277, 1.0664000511169434, 1.044700026512146, 1.0347000360488892, 0.8712999820709229, 1.0068999528884888, 0.986299991607666, 0.9218999743461609, 1.042199969291687, 1.0434999465942383, 0.9708999991416931, 0.7045000195503235, 0.9121000170707703, 0.6639999747276306, 0.9128999710083008, 0.8234999775886536, 1.0231000185012817, 0.9017000198364258, 0.6046000123023987, 0.5166000127792358, 0.17409999668598175, 0.4401000142097473, 0.05770000070333481, 0.22630000114440918, 0.1615000069141388, -0.17329999804496765, -1.4336999654769897, 1.422700047492981, 1.4214999675750732, 1.4213999509811401, 1.420199990272522, 1.4200999736785889, 1.4194999933242798, 1.4193999767303467, 1.4178999662399292, 1.4174000024795532, 1.4168000221252441, 1.4163999557495117, 1.4163000583648682, 1.416100025177002, 1.4155000448226929, 1.4148999452590942, 1.4144999980926514, 1.4142999649047852, 1.414199948310852, 1.4139000177383423, 1.4132000207901, 1.4111000299453735, 1.4108999967575073, 1.4107999801635742, 1.4106999635696411, 1.4092999696731567, 1.409000039100647, 1.4089000225067139, 1.4085999727249146, 1.4078999757766724, 1.4077999591827393, 1.4047000408172607, 1.3947999477386475, 1.3969999551773071, 1.3907999992370605, 1.3996000289916992, 1.3385000228881836, 1.3358999490737915, 1.3553999662399292, 1.3476999998092651, 1.3336999416351318, 1.3568999767303467, 1.322700023651123, 1.3597999811172485, 1.320099949836731, 1.3473000526428223, 1.2333999872207642, 1.2247999906539917, 1.173699975013733, 1.2992000579833984, 1.3034000396728516, 1.1267999410629272, 1.2798000574111938, 1.1035000085830688, 1.0160000324249268, 0.8579000234603882, 0.9804999828338623, 1.2036000490188599, 0.4138999879360199, 1.0484000444412231, 0.9911999702453613, 0.7222999930381775, 0.7559000253677368, 0.9175000190734863, 0.337799996137619, 0.8144999742507935, 0.8039000034332275, 0.3375000059604645, -0.3310999870300293, 0.734000027179718, 1.6778000593185425, 1.6775000095367432, 1.676200032234192, 1.6759999990463257, 1.6753000020980835, 1.6744999885559082, 1.6740000247955322, 1.673699975013733, 1.6735999584197998, 1.6729999780654907, 1.6727999448776245, 1.6713999509811401, 1.6711000204086304, 1.6706000566482544, 1.670300006866455, 1.670199990272522, 1.6698999404907227, 1.669700026512146, 1.669600009918213, 1.669600009918213, 1.6683000326156616, 1.667799949645996, 1.6677000522613525, 1.6672999858856201, 1.667199969291687, 1.667199969291687, 1.6670000553131104, 1.6670000553131104, 1.666700005531311, 1.6658999919891357, 1.6542999744415283, 1.6497000455856323, 1.5990999937057495, 1.524899959564209, 1.2905000448226929, 1.472599983215332, 1.4437999725341797, 1.2026000022888184, 1.3638999462127686, 1.4729000329971313, 1.1440000534057617, 0.7657999992370605, 1.471500039100647, 1.5253000259399414, 0.5063999891281128, 0.6852999925613403, 0.061900001019239426, 0.17739999294281006, 0.7958999872207642, 0.7268999814987183, 0.3188999891281128, 1.881100058555603, 1.8797999620437622, 1.8797999620437622, 1.8792999982833862, 1.8788000345230103, 1.8787000179290771, 1.8782999515533447, 1.877500057220459, 1.877500057220459, 1.876099944114685, 1.8758000135421753, 1.875499963760376, 1.874899983406067, 1.8738000392913818, 1.8730000257492065, 1.8724000453948975, 1.871999979019165, 1.871999979019165, 1.871899962425232, 1.8702000379562378, 1.8702000379562378, 1.8702000379562378, 1.8688000440597534, 1.8680000305175781, 1.867799997329712, 1.8676999807357788, 1.867300033569336, 1.8671000003814697, 1.8671000003814697, 1.8664000034332275, 1.8350000381469727, 1.807800054550171, 1.846500039100647, 1.8260999917984009, 1.826799988746643, 1.806399941444397, 1.8206000328063965, 1.5644999742507935, 1.3870999813079834, 1.7117999792099, 1.7253999710083008, 0.9763000011444092, 0.8931999802589417, 1.4917000532150269, 1.6442999839782715, 1.4141000509262085, 0.9099000096321106, 0.9634000062942505, 1.3449000120162964, 0.006200000178068876, 0.6976000070571899, 0.724399983882904, 0.3671000003814697, 0.736299991607666, 0.23330000042915344, 0.9710000157356262, -0.31940001249313354, 3.3903000354766846, 3.390199899673462, 3.3889999389648438, 3.3877999782562256, 3.38700008392334, 3.3854000568389893, 3.3828999996185303, 3.3817999362945557, 3.38070011138916, 3.3803999423980713, 3.3801000118255615, 3.379199981689453, 3.3785998821258545, 3.378200054168701, 3.3775999546051025, 3.3773999214172363, 3.3770999908447266, 3.3756000995635986, 3.3736000061035156, 3.3712000846862793, 3.3712000846862793, 3.3708999156951904, 3.3654000759124756, 3.3647000789642334, 3.361799955368042, 3.360100030899048, 3.359600067138672, 3.3589000701904297, 3.3585000038146973, 3.3573999404907227, 3.1823999881744385, 3.2648000717163086, 3.2253000736236572, 3.1136999130249023, 2.495500087738037, 2.632200002670288, 2.280100107192993, 1.1660000085830688, 1.523300051689148, 1.5542000532150269, 3.867300033569336, 3.866499900817871, 3.8647000789642334, 3.8620998859405518, 3.8606998920440674, 3.858099937438965, 3.846299886703491, 3.8447000980377197, 3.8443000316619873, 3.8405001163482666, 3.8394999504089355, 3.8375000953674316, 3.835099935531616, 3.83489990234375, 3.830699920654297, 3.829200029373169, 3.828900098800659, 3.827899932861328, 3.8252999782562256, 3.825200080871582, 3.8208999633789062, 3.8206000328063965, 3.8199000358581543, 3.815000057220459, 3.814500093460083, 3.8132998943328857, 3.810800075531006, 3.8104000091552734, 3.8089001178741455, 3.808000087738037, 3.7392001152038574, 3.4965999126434326, 3.512399911880493, 3.589200019836426, 2.875699996948242, 2.2246999740600586, 1.8697999715805054, 4.166500091552734, 4.161200046539307, 4.155300140380859, 4.154600143432617, 4.152100086212158, 4.151100158691406, 4.1493000984191895, 4.146299839019775, 4.145699977874756, 4.137400150299072, 4.126800060272217, 4.12529993057251, 4.123700141906738, 4.122200012207031, 4.119500160217285, 4.1194000244140625, 4.119100093841553, 4.113800048828125, 4.113500118255615, 4.112400054931641, 4.1092000007629395, 4.109000205993652, 4.10890007019043, 4.104100227355957, 4.103799819946289, 4.100900173187256, 4.0971999168396, 4.097099781036377, 4.0970001220703125, 4.090799808502197, 3.5130999088287354, 2.2934000492095947, 2.5083999633789062, 4.866700172424316, 4.854700088500977, 4.850900173187256, 4.82919979095459, 4.828000068664551, 4.826900005340576, 4.821700096130371, 4.816699981689453, 4.803800106048584, 4.7993998527526855, 4.79640007019043, 4.79580020904541, 4.794000148773193, 4.793300151824951, 4.771299839019775, 4.766900062561035, 4.763500213623047, 4.7631001472473145, 4.76230001449585, 4.757500171661377, 4.75439977645874, 4.752999782562256, 4.746600151062012, 4.7434000968933105, 4.736199855804443, 4.729800224304199, 4.729800224304199, 4.716400146484375, 4.707200050354004, 4.7032999992370605, 4.44950008392334, 2.3315999507904053, 4.198200225830078, 5.8694000244140625, 5.836400032043457, 5.754899978637695, 5.694499969482422, 5.651199817657471, 5.638400077819824, 5.60290002822876, 5.536099910736084, 5.446599960327148, 5.444200038909912, 5.426400184631348, 5.198400020599365, 5.1844000816345215, 5.1479997634887695, 5.106800079345703, 5.0746002197265625, 5.061500072479248, 4.98859977722168, 4.957699775695801, 4.696199893951416, 4.642300128936768, 4.605299949645996, 4.5432000160217285, 4.478600025177002, 4.442299842834473, 4.298999786376953, 4.238399982452393, 4.218100070953369, 4.181600093841553, 4.140500068664551, 6.813499927520752, 6.6371002197265625, 6.339300155639648, 5.66349983215332, 2.5560998916625977, 2.5320000648498535, 2.5320000648498535, 2.5320000648498535, 2.5320000648498535, 2.527899980545044, 2.5248000621795654, 2.5232999324798584, 2.522900104522705, 2.522900104522705, 2.517699956893921, 2.516700029373169, 2.513700008392334, 2.513700008392334, 2.513700008392334, 2.512399911880493, 2.511199951171875, 2.5090999603271484, 2.5071001052856445, 2.5035998821258545, 2.5035998821258545, 2.5032999515533447, 2.5006000995635986, 2.5006000995635986, 2.5006000995635986, 2.5006000995635986, 2.5006000995635986, 2.5006000995635986, 2.5006000995635986, 2.5006000995635986, 2.5006000995635986, 2.5006000995635986, 2.4986000061035156, 2.4986000061035156, 2.5006000995635986, 2.4927000999450684, 2.4927000999450684, 2.4993999004364014, 2.4993999004364014, 2.4993999004364014, 2.4993999004364014, 2.4993999004364014, 2.439199924468994, 2.4993999004364014, 2.3294999599456787, 2.4635000228881836], \"logprob\": [30.0, 29.0, 28.0, 27.0, 26.0, 25.0, 24.0, 23.0, 22.0, 21.0, 20.0, 19.0, 18.0, 17.0, 16.0, 15.0, 14.0, 13.0, 12.0, 11.0, 10.0, 9.0, 8.0, 7.0, 6.0, 5.0, 4.0, 3.0, 2.0, 1.0, -4.6992998123168945, -4.779200077056885, -4.883299827575684, -5.178899765014648, -5.307199954986572, -5.504499912261963, -5.524700164794922, -5.541900157928467, -5.612100124359131, -5.639500141143799, -5.663700103759766, -5.666200160980225, -5.681399822235107, -5.692399978637695, -5.829500198364258, -5.8480000495910645, -5.874899864196777, -5.910999774932861, -5.944699764251709, -5.896299839019775, -5.970399856567383, -5.9720001220703125, -5.9720001220703125, -5.978799819946289, -5.998300075531006, -6.006199836730957, -6.021200180053711, -6.035900115966797, -6.0543999671936035, -6.0680999755859375, -4.32289981842041, -4.254799842834473, -4.746799945831299, -5.194200038909912, -3.9323999881744385, -5.3333001136779785, -5.254199981689453, -4.970799922943115, -5.8180999755859375, -5.826300144195557, -5.4517998695373535, -4.22130012512207, -5.268700122833252, -4.291100025177002, -5.291299819946289, -5.006499767303467, -5.750199794769287, -5.544000148773193, -5.167099952697754, -5.0630998611450195, -4.728099822998047, -5.157299995422363, -5.04640007019043, -5.367199897766113, -5.42110013961792, -5.372300148010254, -5.460700035095215, -4.609499931335449, -5.06850004196167, -5.093900203704834, -5.385700225830078, -5.355599880218506, -5.535399913787842, -5.556099891662598, -5.799600124359131, -5.8653998374938965, -5.934500217437744, -5.9953999519348145, -6.008500099182129, -6.026000022888184, -6.098700046539307, -6.1605000495910645, -6.192800045013428, -6.213600158691406, -6.227399826049805, -6.255000114440918, -6.314000129699707, -6.485599994659424, -6.497799873352051, -5.177700042724609, -6.509399890899658, -6.6072998046875, -6.625, -6.631199836730957, -6.455900192260742, -6.693999767303467, -6.69980001449585, -4.2631001472473145, -4.30210018157959, -4.679299831390381, -5.263700008392334, -5.965799808502197, -4.25570011138916, -4.394000053405762, -4.931300163269043, -4.780799865722656, -4.532100200653076, -5.015399932861328, -4.658100128173828, -5.4604997634887695, -4.991099834442139, -5.3632001876831055, -4.303299903869629, -4.240300178527832, -3.7904000282287598, -5.021100044250488, -5.201700210571289, -4.271100044250488, -5.302299976348877, -4.681399822235107, -4.428899765014648, -3.975399971008301, -4.441800117492676, -5.048799991607666, -3.613100051879883, -4.791399955749512, -4.710400104522705, -4.374000072479248, -4.4430999755859375, -4.736199855804443, -4.377099990844727, -4.7789998054504395, -4.77869987487793, -4.617599964141846, -4.702600002288818, -4.911200046539307, -3.1328999996185303, -3.464600086212158, -4.414599895477295, -4.490499973297119, -4.755099773406982, -4.9766998291015625, -5.088500022888184, -5.158299922943115, -5.191500186920166, -5.302299976348877, -5.343599796295166, -5.557600021362305, -5.604000091552734, -5.676000118255615, -5.712399959564209, -5.723700046539307, -5.757800102233887, -5.782100200653076, -5.789999961853027, -5.795100212097168, -5.936200141906738, -5.980899810791016, -5.9882001876831055, -6.029799938201904, -6.035699844360352, -6.041200160980225, -6.051400184631348, -6.05679988861084, -6.085400104522705, -6.146699905395508, -4.486599922180176, -5.314700126647949, -4.739200115203857, -3.5739998817443848, -3.080899953842163, -4.626399993896484, -4.630099773406982, -3.9014999866485596, -4.719900131225586, -5.188000202178955, -4.176300048828125, -3.261199951171875, -5.388999938964844, -5.514500141143799, -4.419400215148926, -5.031000137329102, -4.6529998779296875, -4.724800109863281, -5.166500091552734, -5.1371002197265625, -5.078999996185303, -3.604099988937378, -4.318299770355225, -4.319200038909912, -4.472700119018555, -3.640899896621704, -4.665999889373779, -4.790900230407715, -4.9558000564575195, -4.960299968719482, -5.216599941253662, -5.267199993133545, -5.309000015258789, -5.385900020599365, -5.532599925994873, -5.621200084686279, -5.681099891662598, -5.722499847412109, -5.726600170135498, -5.733500003814697, -5.883600234985352, -5.8867998123168945, -5.887800216674805, -5.996399879455566, -6.0528998374938965, -6.064899921417236, -6.074100017547607, -6.099599838256836, -6.1168999671936035, -6.117499828338623, -6.162099838256836, -4.409900188446045, -3.281399965286255, -5.423999786376953, -4.967599868774414, -5.180699825286865, -4.935500144958496, -5.333700180053711, -4.9390997886657715, -4.476900100708008, -5.452700138092041, -5.511000156402588, -3.7385001182556152, -3.9400999546051025, -5.060100078582764, -5.333499908447266, -4.960899829864502, -4.186399936676025, -4.616300106048584, -5.075099945068359, -4.0208001136779785, -4.622600078582764, -4.724299907684326, -4.5970001220703125, -4.861000061035156, -4.669000148773193, -4.985300064086914, -4.690899848937988, -3.8552000522613525, -3.871000051498413, -4.011199951171875, -4.142099857330322, -4.226200103759766, -4.363900184631348, -4.547500133514404, -4.624000072479248, -4.691199779510498, -4.708000183105469, -4.7256999015808105, -4.776299953460693, -4.808300018310547, -4.828100204467773, -4.857900142669678, -4.866600036621094, -4.883200168609619, -4.956600189208984, -5.039999961853027, -5.139200210571289, -5.139500141143799, -5.148499965667725, -5.336999893188477, -5.3618998527526855, -5.446100234985352, -5.492800235748291, -5.506400108337402, -5.524600028991699, -5.5366997718811035, -5.564599990844727, -2.635200023651123, -4.94320011138916, -4.735599994659424, -4.533999919891357, -4.390100002288818, -4.570000171661377, -4.72629976272583, -4.154300212860107, -4.6006999015808105, -4.976900100708008, -3.920799970626831, -3.9851999282836914, -4.111199855804443, -4.276500225067139, -4.351799964904785, -4.479700088500977, -4.919300079345703, -4.968200206756592, -4.979700088500977, -5.0843000411987305, -5.109799861907959, -4.053500175476074, -5.215099811553955, -5.218800067901611, -5.310400009155273, -5.342400074005127, -5.346399784088135, -5.368199825286865, -5.418900012969971, -5.421199798583984, -5.498199939727783, -5.503499984741211, -5.514400005340576, -5.5970001220703125, -5.604100227355957, -5.622799873352051, -5.660900115966797, -5.668499946594238, -5.684500217437744, -5.703700065612793, -5.1168999671936035, -3.6602001190185547, -4.553299903869629, -5.171299934387207, -5.035600185394287, -5.156899929046631, -5.509900093078613, -3.2151999473571777, -3.704400062561035, -4.059500217437744, -4.098499774932861, -4.219699859619141, -4.26170015335083, -4.33620023727417, -4.448299884796143, -4.469399929046631, -4.722400188446045, -4.978799819946289, -5.0096001625061035, -5.042200088500977, -5.072000026702881, -5.122600078582764, -5.124199867248535, -5.130799770355225, -5.223299980163574, -5.22790002822876, -5.247700214385986, -5.299099922180176, -5.3007001876831055, -5.303800106048584, -5.375699996948242, -5.38040018081665, -4.683599948883057, -5.472099781036377, -5.473599910736084, -5.475599765777588, -5.554800033569336, -4.623600006103516, -5.358399868011475, -5.453400135040283, -4.0742998123168945, -4.328800201416016, -4.39739990234375, -4.724599838256836, -4.739699840545654, -4.754799842834473, -4.816699981689453, -4.875899791717529, -5.01230001449585, -5.055699825286865, -5.085000038146973, -5.089799880981445, -5.107100009918213, -5.11299991607666, -5.297699928283691, -5.330599784851074, -5.356900215148926, -5.359499931335449, -5.3632001876831055, -5.398799896240234, -5.422500133514404, -5.431399822235107, -5.475299835205078, -5.49560022354126, -5.541800022125244, -5.582200050354004, -5.582699775695801, -5.661099910736084, -5.712699890136719, -5.734099864959717, -4.039299964904785, -3.117000102996826, -5.6605000495910645, -4.452199935913086, -4.63040018081665, -4.986499786376953, -5.19920015335083, -5.33489990234375, -5.373199939727783, -5.473199844360352, -5.646399974822998, -5.853400230407715, -5.858500003814697, -5.897200107574463, -6.333099842071533, -6.3572998046875, -6.419099807739258, -6.487100124359131, -6.5391998291015625, -6.559899806976318, -6.673099994659424, -6.719799995422363, -7.090000152587891, -7.161799907684326, -7.210400104522705, -7.29040002822876, -7.372700214385986, -7.4182000160217285, -7.593999862670898, -7.666900157928467, -7.690999984741211, -7.7342000007629395, -7.782400131225586, -4.845099925994873, -5.098199844360352, -5.488500118255615, -6.285399913787842, -9.475500106811523, -9.521100044250488, -9.521100044250488, -9.521100044250488, -9.521100044250488, -9.520600318908691, -9.521200180053711, -9.520700454711914, -9.462300300598145, -9.462300300598145, -9.521100044250488, -9.517999649047852, -9.539899826049805, -9.539899826049805, -9.539899826049805, -9.539899826049805, -9.539999961853027, -9.462400436401367, -9.544400215148926, -9.545900344848633, -9.540300369262695, -9.550000190734863, -9.552900314331055, -9.552900314331055, -9.552900314331055, -9.552900314331055, -9.552900314331055, -9.552900314331055, -9.552900314331055, -9.552900314331055, -9.552900314331055, -9.552900314331055, -9.521400451660156, -9.521400451660156, -9.552900314331055, -9.466899871826172, -9.466899871826172, -9.538299560546875, -9.538299560546875, -9.538299560546875, -9.538299560546875, -9.538299560546875, -9.5, -9.538299560546875, -9.455300331115723, -9.520899772644043]}, \"token.table\": {\"Topic\": [1, 1, 2, 1, 2, 4, 1, 3, 8, 1, 2, 7, 6, 1, 2, 3, 4, 8, 2, 3, 4, 5, 2, 3, 9, 6, 1, 1, 4, 5, 1, 3, 4, 2, 5, 7, 6, 2, 4, 5, 8, 5, 8, 3, 6, 5, 7, 2, 3, 4, 6, 2, 3, 4, 1, 1, 3, 1, 4, 2, 5, 5, 6, 3, 6, 2, 1, 5, 6, 5, 6, 7, 3, 7, 1, 8, 1, 5, 1, 3, 2, 5, 8, 4, 5, 4, 2, 3, 4, 3, 4, 1, 3, 1, 3, 7, 1, 3, 4, 4, 5, 8, 1, 2, 2, 5, 3, 1, 8, 1, 3, 1, 4, 1, 2, 3, 2, 8, 5, 6, 8, 7, 9, 8, 1, 4, 1, 4, 6, 3, 5, 7, 1, 2, 4, 1, 4, 5, 1, 5, 6, 9, 1, 4, 2, 4, 5, 1, 2, 3, 4, 6, 2, 6, 3, 2, 3, 4, 5, 2, 3, 4, 4, 1, 9, 8, 8, 1, 2, 3, 4, 2, 6, 1, 2, 4, 1, 4, 5, 7, 3, 1, 4, 5, 1, 4, 3, 2, 3, 4, 5, 5, 5, 5, 1, 4, 1, 7, 3, 9, 9, 1, 2, 3, 4, 6, 7, 1, 2, 3, 4, 1, 2, 4, 1, 2, 3, 4, 5, 5, 3, 1, 2, 3, 4, 5, 1, 3, 2, 2, 3, 6, 1, 4, 1, 3, 4, 5, 2, 1, 2, 3, 7, 1, 3, 2, 2, 3, 4, 1, 2, 8, 6, 1, 2, 3, 7, 1, 1, 4, 1, 6, 6, 1, 3, 4, 5, 9, 6, 6, 1, 6, 1, 2, 3, 5, 2, 5, 3, 6, 1, 2, 3, 4, 2, 3, 7, 2, 3, 4, 2, 1, 6, 7, 1, 3, 5, 8, 2, 6, 2, 3, 4, 1, 8, 1, 2, 4, 3, 2, 3, 4, 1, 5, 6, 1, 7, 1, 2, 3, 4, 1, 2, 3, 4, 1, 2, 3, 4, 8, 4, 1, 8, 4, 5, 3, 3, 2, 2, 1, 3, 1, 2, 3, 1, 2, 3, 4, 2, 8, 2, 4, 1, 9, 1, 7, 2, 3, 7, 1, 3, 4, 9, 1, 2, 1, 7, 2, 3, 4, 5, 8, 5, 1, 6, 9, 5, 7, 8, 6, 8, 3, 7, 4, 5, 7, 1, 1, 2, 3, 4, 4, 4, 2, 9, 6, 4, 2, 4, 7, 4, 1, 1, 6, 3, 9, 1, 3, 4, 7, 2, 1, 3, 1, 2, 3, 5, 5, 5, 8, 4, 5, 8, 1, 2, 3, 3, 4, 7, 2, 3, 4, 4, 3, 5, 5, 2, 3, 7, 7, 2, 3, 8, 2, 3, 4, 5, 3, 8, 2, 6, 3, 4, 1, 4, 4, 4, 8, 7, 2, 3, 7, 4, 1, 2, 7, 2, 4, 1, 9, 4, 1, 5, 4, 1, 1, 9, 6, 3, 4, 5, 5, 5, 5, 1, 3, 5, 1, 1, 2, 8, 4, 5, 7, 4, 4, 1, 4, 2, 2, 4, 1, 2, 4, 1, 2, 4, 8, 3, 6, 7, 3, 3, 6, 1, 3, 5, 8, 2, 3, 4, 7, 7, 8, 1, 2, 3, 4, 4, 3, 4, 4, 4, 9, 6, 1, 3, 4, 2, 3, 4, 3, 8, 1, 2, 3, 4, 8, 2, 1, 2, 3, 4, 7, 6, 3, 1, 2, 3, 2, 2, 3, 4, 6], \"Freq\": [0.998698353767395, 0.11050835996866226, 0.8840668797492981, 0.027940284460783005, 0.04246923327445984, 0.928735077381134, 0.9513669013977051, 0.04817047715187073, 0.9710778594017029, 0.2766844928264618, 0.5336058139801025, 0.19763177633285522, 0.9821199178695679, 0.40603628754615784, 0.17891553044319153, 0.22248563170433044, 0.19189386069774628, 0.7576413154602051, 0.9716885089874268, 0.020993269979953766, 0.0059980773366987705, 0.976334273815155, 0.021866686642169952, 0.9694231152534485, 0.7468766570091248, 0.9142093658447266, 0.9949410557746887, 0.9920933842658997, 0.9277200698852539, 0.07001660764217377, 0.9153816103935242, 0.003534291870892048, 0.08128871023654938, 0.9814075827598572, 0.9944501519203186, 0.8905285596847534, 0.9549179673194885, 0.9142416715621948, 0.08060599863529205, 0.00424242066219449, 0.8852565884590149, 0.95802903175354, 0.8290560245513916, 0.9968523979187012, 0.9801168441772461, 0.9928314685821533, 0.9247676730155945, 0.9326979517936707, 0.0037011823151260614, 0.06292010098695755, 0.9009492993354797, 0.1329866647720337, 0.07388148456811905, 0.7905318737030029, 0.9959530830383301, 0.6900234222412109, 0.30941903591156006, 0.8418290019035339, 0.15621568262577057, 0.9955865144729614, 0.9765636920928955, 0.9912832379341125, 0.9423301815986633, 0.9963180422782898, 0.8945736885070801, 0.9951669573783875, 0.9940102100372314, 0.9901741147041321, 0.9495781064033508, 0.03682221472263336, 0.957377552986145, 0.9581251740455627, 0.996536135673523, 0.9223257303237915, 0.3951832056045532, 0.5269109010696411, 0.9947443604469299, 0.9664950370788574, 0.0740542933344841, 0.9237298965454102, 0.10111729800701141, 0.8847764134407043, 0.9053419232368469, 0.5270358324050903, 0.46231213212013245, 0.9900375604629517, 0.14959529042243958, 0.7898631691932678, 0.05684621259570122, 0.9857823252677917, 0.9983741641044617, 0.9699265360832214, 0.029323359951376915, 0.18295972049236298, 0.8125563859939575, 0.9381932616233826, 0.3745517432689667, 0.37036681175231934, 0.2531886100769043, 0.994416356086731, 0.9907451868057251, 0.89249587059021, 0.032082654535770416, 0.967826783657074, 0.9847625494003296, 0.9834660291671753, 0.9947413206100464, 0.9975188374519348, 0.7706751823425293, 0.8486517071723938, 0.14996254444122314, 0.029697822406888008, 0.9602295756340027, 0.2839144170284271, 0.6651253700256348, 0.05104079842567444, 0.3347702622413635, 0.6360635161399841, 0.9636414051055908, 0.9311584830284119, 0.94727623462677, 0.9234963655471802, 0.6368271708488464, 0.9235333800315857, 0.9655938744544983, 0.02627466432750225, 0.996580958366394, 0.9822683334350586, 0.935593843460083, 0.9758109450340271, 0.0223956611007452, 0.9927088618278503, 0.17820720374584198, 0.4175899922847748, 0.4016311466693878, 0.4623734951019287, 0.38373854756355286, 0.15412449836730957, 0.24539171159267426, 0.7506099343299866, 0.9713184237480164, 0.558210015296936, 0.9606946706771851, 0.03842778876423836, 0.313624769449234, 0.6754994988441467, 0.004824996460229158, 0.1493580937385559, 0.6013628840446472, 0.11987952888011932, 0.12970571219921112, 0.9261297583580017, 0.7964801788330078, 0.1880578249692917, 0.9980089664459229, 0.2528855502605438, 0.009195838123559952, 0.7264711856842041, 0.009195838123559952, 0.7426156997680664, 0.25717633962631226, 0.9931924939155579, 0.9901201128959656, 0.9948521256446838, 0.569961428642273, 0.930121898651123, 0.812829852104187, 0.29782676696777344, 0.6408733129501343, 0.015593024902045727, 0.045219771564006805, 0.9771313071250916, 0.9282548427581787, 0.09482506662607193, 0.8989416360855103, 0.0037930025719106197, 0.997089684009552, 0.954876184463501, 0.04259670898318291, 0.9674359560012817, 0.9915960431098938, 0.5712977051734924, 0.39972585439682007, 0.029203714802861214, 0.9331854581832886, 0.06637720763683319, 0.9968307614326477, 0.24887941777706146, 0.4147990345954895, 0.31310635805130005, 0.02408510632812977, 0.9901076555252075, 0.9730961322784424, 0.9808979630470276, 0.13394476473331451, 0.8515059947967529, 0.9953089952468872, 0.9703145027160645, 0.9825856685638428, 0.7271369099617004, 0.8134719133377075, 0.11392732709646225, 0.8186492323875427, 0.008137666620314121, 0.06021873280405998, 0.044989585876464844, 0.9447813034057617, 0.0918772965669632, 0.7260547280311584, 0.10084093362092972, 0.08291365951299667, 0.016667870804667473, 0.916732907295227, 0.06481949985027313, 0.28687402606010437, 0.5126314163208008, 0.06485848128795624, 0.12722240388393402, 0.007483670487999916, 0.9873884916305542, 0.9857695698738098, 0.05177488923072815, 0.4952380657196045, 0.07428570836782455, 0.3781817853450775, 0.9549188613891602, 0.9942446351051331, 0.9992233514785767, 0.9964075684547424, 0.9986968040466309, 0.6200866103172302, 0.3570195734500885, 0.9912303686141968, 0.007555109448730946, 0.529441237449646, 0.11889207363128662, 0.3176647424697876, 0.03343839570879936, 0.986174464225769, 0.8147832751274109, 0.08399827778339386, 0.10079792886972427, 0.9675331115722656, 0.9681804180145264, 0.02652549184858799, 0.9936873912811279, 0.990753710269928, 0.37199676036834717, 0.626733660697937, 0.9941273927688599, 0.9874130487442017, 0.9470906257629395, 0.990344762802124, 0.8561499714851379, 0.07238586246967316, 0.0673937276005745, 0.887579083442688, 0.9964104890823364, 0.8489822745323181, 0.14982040226459503, 0.9965424537658691, 0.9640641808509827, 0.9262478351593018, 0.9916801452636719, 0.5857906341552734, 0.305568665266037, 0.10701943933963776, 0.44499874114990234, 0.9720887541770935, 0.9913100600242615, 0.8613309264183044, 0.13251245021820068, 0.12784841656684875, 0.6865933537483215, 0.18466994166374207, 0.9855442047119141, 0.9860752820968628, 0.010010916739702225, 0.21963994204998016, 0.7467758059501648, 0.4274679720401764, 0.5440501570701599, 0.0018505107145756483, 0.02590714953839779, 0.9340552091598511, 0.05680065229535103, 0.9314757585525513, 0.13193044066429138, 0.8130596876144409, 0.05215854570269585, 0.9857258796691895, 0.9979064464569092, 0.930962324142456, 0.96003657579422, 0.09432506561279297, 0.8567859530448914, 0.047162532806396484, 0.8556167483329773, 0.9844105243682861, 0.9905372858047485, 0.9136561751365662, 0.05345860868692398, 0.03158917650580406, 0.9912264943122864, 0.9387217164039612, 0.059683676809072495, 0.8654133081436157, 0.0746045932173729, 0.9816293716430664, 0.567622721195221, 0.06056949496269226, 0.37206974625587463, 0.8412652015686035, 0.1559648960828781, 0.9268923997879028, 0.9925163388252258, 0.9275957345962524, 0.059955209493637085, 0.33744022250175476, 0.1983133852481842, 0.404313325881958, 0.6237021088600159, 0.03759906440973282, 0.19020703434944153, 0.14818455278873444, 0.7760173678398132, 0.08440068364143372, 0.09377853572368622, 0.04220034182071686, 0.9187536239624023, 0.9955257773399353, 0.9975560307502747, 0.86008220911026, 0.9967836141586304, 0.9577860832214355, 0.9945231676101685, 0.9897053241729736, 0.9933630228042603, 0.9978523850440979, 0.9972852468490601, 0.9972135424613953, 0.36074259877204895, 0.017016161233186722, 0.6216570734977722, 0.4009077548980713, 0.5382049679756165, 0.027459435164928436, 0.032951321452856064, 0.995895266532898, 0.8288829922676086, 0.9954115748405457, 0.9832720160484314, 0.9932063817977905, 0.5566824078559875, 0.4708041846752167, 0.5178846120834351, 0.99500972032547, 0.9948461651802063, 0.925734281539917, 0.018055561929941177, 0.8576391339302063, 0.1230035126209259, 0.8344106674194336, 0.0217695701867342, 0.9796306490898132, 0.9933516979217529, 0.9826638102531433, 0.9831526875495911, 0.38561826944351196, 0.6087433099746704, 0.002425272250548005, 0.9511566162109375, 0.9672679901123047, 0.3092554807662964, 0.6803620457649231, 0.8370901942253113, 0.9768116474151611, 0.9618116617202759, 0.8862484693527222, 0.9389545917510986, 0.8986042141914368, 0.9874104261398315, 0.9243035912513733, 0.9958959221839905, 0.9868717789649963, 0.9488203525543213, 0.9932188987731934, 0.03816672042012215, 0.17284071445465088, 0.6782771348953247, 0.11068348586559296, 0.9980100393295288, 0.986802875995636, 0.9899401068687439, 0.7017150521278381, 0.9506572484970093, 0.9934536218643188, 0.9806891083717346, 0.017939435318112373, 0.9785733222961426, 0.9957459568977356, 0.9982238411903381, 0.2850422263145447, 0.7016423940658569, 0.9981316924095154, 0.7259210348129272, 0.5363094210624695, 0.20292790234088898, 0.10146395117044449, 0.15944334864616394, 0.9872341752052307, 0.8990386724472046, 0.09753721207380295, 0.1116836667060852, 0.07226590067148209, 0.8146337866783142, 0.9880555868148804, 0.9439138174057007, 0.9625639915466309, 0.7048680186271667, 0.9435973167419434, 0.0456579364836216, 0.8294677138328552, 0.10335278511047363, 0.8804125785827637, 0.011483642272651196, 0.9956961870193481, 0.9430490136146545, 0.05288125202059746, 0.992170512676239, 0.9967447519302368, 0.990472674369812, 0.9963180422782898, 0.9927219748497009, 0.9842669367790222, 0.953305184841156, 0.9832132458686829, 0.981339693069458, 0.9579717516899109, 0.9304193258285522, 0.9879207611083984, 0.999008297920227, 0.9122136235237122, 0.26892775297164917, 0.731241762638092, 0.996545135974884, 0.9905558824539185, 0.9961435794830322, 0.8836535811424255, 0.9919933676719666, 0.9835529923439026, 0.9966215491294861, 0.9855770468711853, 0.4144531786441803, 0.5836177468299866, 0.9854057431221008, 0.9928455948829651, 0.8868964314460754, 0.9423045516014099, 0.927358090877533, 0.07351009547710419, 0.9872229695320129, 0.9879550933837891, 0.1967184692621231, 0.8011806607246399, 0.9057779312133789, 0.9811295866966248, 0.9865986704826355, 0.9946976900100708, 0.7416746616363525, 0.9789475798606873, 0.1921846568584442, 0.8057862520217896, 0.9907059073448181, 0.9994264245033264, 0.9984278678894043, 0.4949437081813812, 0.9331145882606506, 0.11452464759349823, 0.4783087968826294, 0.4042046368122101, 0.9814102053642273, 0.9919071793556213, 0.9697250127792358, 0.9963672757148743, 0.13821853697299957, 0.8490566611289978, 0.9974221587181091, 0.662636935710907, 0.33718249201774597, 0.9432387948036194, 0.9970026016235352, 0.0017189700156450272, 0.9874793887138367, 0.9951738119125366, 0.9902543425559998, 0.04916287586092949, 0.946385383605957, 0.9852608442306519, 0.9258192181587219, 0.07267522811889648, 0.04032149165868759, 0.9354586005210876, 0.024192895740270615, 0.1293831169605255, 0.8252544403076172, 0.04545893147587776, 0.824585497379303, 0.9934159517288208, 0.8699780702590942, 0.09666423499584198, 0.9934395551681519, 0.9915828704833984, 0.9275995492935181, 0.5017374753952026, 0.16724583506584167, 0.3268895745277405, 0.8013744354248047, 0.7780851721763611, 0.001972332363948226, 0.21991506218910217, 0.9957379698753357, 0.9018245935440063, 0.8575021624565125, 0.08113455772399902, 0.36394643783569336, 0.4014228582382202, 0.15299658477306366, 0.989531934261322, 0.15138085186481476, 0.8459518551826477, 0.986510157585144, 0.997450590133667, 0.7089136838912964, 0.9214533567428589, 0.9908995628356934, 0.004228590056300163, 0.004228590056300163, 0.9022361636161804, 0.019080523401498795, 0.07632209360599518, 0.9977596998214722, 0.8362692594528198, 0.2241460680961609, 0.34102222323417664, 0.04482921212911606, 0.3138045072555542, 0.07524903863668442, 0.9932841658592224, 0.2553010582923889, 0.5008578300476074, 0.10718746483325958, 0.13642041385173798, 0.8888162970542908, 0.9829165935516357, 0.9954280257225037, 0.2783355712890625, 0.6473879218101501, 0.07216107100248337, 0.9775948524475098, 0.9707300066947937, 0.006156850140541792, 0.022575117647647858, 0.9786023497581482], \"Term\": [\"absorption\", \"actually\", \"actually\", \"add\", \"add\", \"add\", \"age\", \"age\", \"alkaline\", \"allergy\", \"allergy\", \"allergy\", \"alot\", \"also\", \"also\", \"also\", \"also\", \"aluminum\", \"always\", \"always\", \"always\", \"apple\", \"apply\", \"apply\", \"athletic\", \"ayurveda\", \"ayurvedic\", \"bacteria\", \"bake\", \"bake\", \"balance\", \"balance\", \"balance\", \"ball\", \"bar\", \"barrier\", \"bathroom\", \"be\", \"be\", \"be\", \"beach\", \"bean\", \"beautifully\", \"beauty\", \"bed\", \"berry\", \"bio\", \"bit\", \"bit\", \"bit\", \"bleed\", \"blend\", \"blend\", \"blend\", \"blood\", \"body\", \"body\", \"boost\", \"boost\", \"bottle\", \"bread\", \"breakfast\", \"breath\", \"brush\", \"bubble\", \"buy\", \"call\", \"calorie\", \"camping\", \"canadian\", \"canadian\", \"cardiovascular\", \"care\", \"cartilage\", \"cat\", \"cat\", \"cell\", \"cheese\", \"chemical\", \"chemical\", \"chip\", \"chip\", \"chlorine\", \"chocolate\", \"chocolate\", \"chop\", \"clean\", \"clean\", \"clean\", \"cleaning\", \"coffee\", \"collagen\", \"collagen\", \"company\", \"company\", \"congestion\", \"contain\", \"contain\", \"contain\", \"cook\", \"cookie\", \"cotton\", \"could\", \"could\", \"couple\", \"cracker\", \"cream\", \"cup\", \"cute\", \"daily\", \"daily\", \"dairy\", \"dairy\", \"day\", \"day\", \"day\", \"deodorant\", \"deodorant\", \"dessert\", \"detect\", \"detergent\", \"detox\", \"detoxification\", \"diaper\", \"digestion\", \"digestion\", \"digestive\", \"dish\", \"dosha\", \"dry\", \"dry\", \"ear\", \"easy\", \"easy\", \"easy\", \"eat\", \"eat\", \"eat\", \"egg\", \"egg\", \"else\", \"endocrine\", \"energy\", \"energy\", \"enjoy\", \"enjoy\", \"enjoy\", \"even\", \"even\", \"even\", \"even\", \"eventually\", \"eye\", \"eye\", \"face\", \"favourite\", \"favourite\", \"favourite\", \"favourite\", \"feel\", \"feel\", \"ferment\", \"fiber\", \"fibre\", \"field\", \"filter\", \"filtration\", \"find\", \"find\", \"find\", \"find\", \"finger\", \"fire\", \"first\", \"first\", \"first\", \"fish\", \"flavour\", \"flavour\", \"flax\", \"flour\", \"food\", \"food\", \"food\", \"form\", \"form\", \"fragrance\", \"free\", \"free\", \"free\", \"free\", \"freeze\", \"fridge\", \"fructose\", \"fruit\", \"fruit\", \"function\", \"garlic\", \"gel\", \"gene\", \"genetic\", \"get\", \"get\", \"get\", \"get\", \"ginger\", \"ginger\", \"give\", \"give\", \"give\", \"give\", \"go\", \"go\", \"go\", \"good\", \"good\", \"good\", \"good\", \"good\", \"goodness\", \"greasy\", \"great\", \"great\", \"great\", \"great\", \"guilt\", \"gum\", \"hair\", \"happy\", \"have\", \"heal\", \"heal\", \"health\", \"health\", \"healthy\", \"healthy\", \"healthy\", \"healthy\", \"hear\", \"help\", \"help\", \"help\", \"hemp\", \"herb\", \"herb\", \"honest\", \"honestly\", \"honey\", \"honey\", \"hormone\", \"hour\", \"house\", \"husband\", \"important\", \"important\", \"important\", \"impressive\", \"improve\", \"include\", \"include\", \"increase\", \"indigestion\", \"industry\", \"inflammation\", \"ingredient\", \"ingredient\", \"ingredient\", \"investment\", \"itchy\", \"jar\", \"joint\", \"joint\", \"keep\", \"keep\", \"keep\", \"ketchup\", \"kid\", \"kid\", \"knee\", \"knee\", \"know\", \"know\", \"know\", \"know\", \"last\", \"last\", \"late\", \"leave\", \"leave\", \"leave\", \"leg\", \"level\", \"ligament\", \"lime\", \"line\", \"line\", \"line\", \"liner\", \"lip\", \"literally\", \"little\", \"little\", \"little\", \"liver\", \"lol\", \"lot\", \"lot\", \"lot\", \"lotion\", \"love\", \"love\", \"love\", \"low\", \"low\", \"lysine\", \"magnesium\", \"mainly\", \"make\", \"make\", \"make\", \"make\", \"many\", \"many\", \"many\", \"many\", \"may\", \"may\", \"may\", \"may\", \"messy\", \"milk\", \"mineral\", \"mineralized\", \"mix\", \"mixture\", \"moisturize\", \"moisturizer\", \"mom\", \"morning\", \"muscle\", \"nail\", \"natural\", \"natural\", \"natural\", \"need\", \"need\", \"need\", \"need\", \"never\", \"nicely\", \"night\", \"noodle\", \"normally\", \"northern\", \"nose\", \"nose\", \"notice\", \"nourish\", \"nutty\", \"oil\", \"oil\", \"oil\", \"ointment\", \"old\", \"old\", \"omega\", \"onion\", \"open\", \"organic\", \"organic\", \"organic\", \"otherwise\", \"oven\", \"pain\", \"pain\", \"pass\", \"pasta\", \"paste\", \"pesticide\", \"picture\", \"pitcher\", \"plastic\", \"pot\", \"powder\", \"preservative\", \"pressure\", \"probiotic\", \"product\", \"product\", \"product\", \"product\", \"protein\", \"pumpkin\", \"purchase\", \"rage\", \"rave\", \"raw\", \"really\", \"really\", \"receive\", \"recipe\", \"reduce\", \"relief\", \"relief\", \"remove\", \"rescue\", \"root\", \"root\", \"root\", \"root\", \"run\", \"s\", \"s\", \"safe\", \"safe\", \"safe\", \"salad\", \"salty\", \"sample\", \"santevia\", \"sauce\", \"sauce\", \"saving\", \"say\", \"say\", \"say\", \"scent\", \"seed\", \"seed\", \"seem\", \"sensitive\", \"serve\", \"shake\", \"shampoo\", \"share\", \"shop\", \"shot\", \"shower\", \"sinus\", \"sip\", \"sit\", \"skin\", \"slip\", \"smell\", \"smell\", \"smoothie\", \"snack\", \"soft\", \"sole\", \"son\", \"sore\", \"soultree\", \"soup\", \"source\", \"source\", \"soy\", \"spice\", \"spirit\", \"splash\", \"spray\", \"spray\", \"sprinkle\", \"sprout\", \"start\", \"start\", \"steam\", \"stick\", \"stir\", \"stress\", \"strongly\", \"substitute\", \"sugar\", \"sugar\", \"superfood\", \"supplement\", \"support\", \"supportive\", \"suppose\", \"sweet\", \"sweet\", \"sweet\", \"sweeten\", \"sweetener\", \"sweetness\", \"system\", \"tablespoon\", \"tablespoon\", \"tablet\", \"take\", \"take\", \"tap\", \"taste\", \"taste\", \"tasteless\", \"tasty\", \"tbsp\", \"tea\", \"tea\", \"tell\", \"thing\", \"thing\", \"think\", \"think\", \"think\", \"time\", \"time\", \"time\", \"toilet\", \"ton\", \"tonic\", \"tonic\", \"toothpaste\", \"toxic\", \"traditionally\", \"treat\", \"treat\", \"treat\", \"trend\", \"try\", \"try\", \"try\", \"turmeric\", \"twice\", \"twist\", \"use\", \"use\", \"use\", \"use\", \"vanilla\", \"vegan\", \"vegan\", \"veggie\", \"vinegar\", \"virtually\", \"visit\", \"vitamin\", \"vitamin\", \"vitamin\", \"want\", \"want\", \"want\", \"wash\", \"washroom\", \"water\", \"water\", \"water\", \"water\", \"water\", \"wear\", \"well\", \"well\", \"well\", \"well\", \"wherever\", \"whip\", \"wipe\", \"work\", \"work\", \"work\", \"worth\", \"would\", \"would\", \"would\", \"yet\"]}, \"R\": 30, \"lambda.step\": 0.01, \"plot.opts\": {\"xlab\": \"PC1\", \"ylab\": \"PC2\"}, \"topic.order\": [6, 7, 4, 1, 10, 3, 2, 9, 5, 8]};\n",
       "\n",
       "function LDAvis_load_lib(url, callback){\n",
       "  var s = document.createElement('script');\n",
       "  s.src = url;\n",
       "  s.async = true;\n",
       "  s.onreadystatechange = s.onload = callback;\n",
       "  s.onerror = function(){console.warn(\"failed to load library \" + url);};\n",
       "  document.getElementsByTagName(\"head\")[0].appendChild(s);\n",
       "}\n",
       "\n",
       "if(typeof(LDAvis) !== \"undefined\"){\n",
       "   // already loaded: just create the visualization\n",
       "   !function(LDAvis){\n",
       "       new LDAvis(\"#\" + \"ldavis_el4660418358739235043049178392\", ldavis_el4660418358739235043049178392_data);\n",
       "   }(LDAvis);\n",
       "}else if(typeof define === \"function\" && define.amd){\n",
       "   // require.js is available: use it to load d3/LDAvis\n",
       "   require.config({paths: {d3: \"https://cdnjs.cloudflare.com/ajax/libs/d3/3.5.5/d3.min\"}});\n",
       "   require([\"d3\"], function(d3){\n",
       "      window.d3 = d3;\n",
       "      LDAvis_load_lib(\"https://cdn.rawgit.com/bmabey/pyLDAvis/files/ldavis.v1.0.0.js\", function(){\n",
       "        new LDAvis(\"#\" + \"ldavis_el4660418358739235043049178392\", ldavis_el4660418358739235043049178392_data);\n",
       "      });\n",
       "    });\n",
       "}else{\n",
       "    // require.js not available: dynamically load d3 & LDAvis\n",
       "    LDAvis_load_lib(\"https://cdnjs.cloudflare.com/ajax/libs/d3/3.5.5/d3.min.js\", function(){\n",
       "         LDAvis_load_lib(\"https://cdn.rawgit.com/bmabey/pyLDAvis/files/ldavis.v1.0.0.js\", function(){\n",
       "                 new LDAvis(\"#\" + \"ldavis_el4660418358739235043049178392\", ldavis_el4660418358739235043049178392_data);\n",
       "            })\n",
       "         });\n",
       "}\n",
       "</script>"
      ],
      "text/plain": [
       "PreparedData(topic_coordinates=              x         y  topics  cluster       Freq\n",
       "topic                                                \n",
       "5      0.183841  0.161223       1        1  34.098179\n",
       "6      0.294499  0.054656       2        1  24.054361\n",
       "3      0.222199  0.037856       3        1  18.667831\n",
       "0      0.255433 -0.173667       4        1  15.223482\n",
       "9     -0.084656 -0.261212       5        1   3.344959\n",
       "2     -0.183996  0.052953       6        1   2.065577\n",
       "1     -0.182590  0.040623       7        1   1.537719\n",
       "8     -0.169822  0.031468       8        1   0.737781\n",
       "4     -0.168755  0.028430       9        1   0.233853\n",
       "7     -0.166153  0.027671      10        1   0.036254, topic_info=      Category         Freq           Term        Total  loglift  logprob\n",
       "301    Default  1182.000000           skin  1182.000000  30.0000  30.0000\n",
       "161    Default   624.000000          water   624.000000  29.0000  29.0000\n",
       "174    Default   894.000000            add   894.000000  28.0000  28.0000\n",
       "110    Default  1834.000000        product  1834.000000  27.0000  27.0000\n",
       "56     Default   848.000000           hair   848.000000  26.0000  26.0000\n",
       "313    Default   431.000000          sugar   431.000000  25.0000  25.0000\n",
       "285    Default   602.000000        protein   602.000000  24.0000  24.0000\n",
       "96     Default   886.000000            oil   886.000000  23.0000  23.0000\n",
       "487    Default  2588.000000            use  2588.000000  22.0000  22.0000\n",
       "421    Default   581.000000          taste   581.000000  21.0000  21.0000\n",
       "154    Default  1014.000000            try  1014.000000  20.0000  20.0000\n",
       "60     Default   710.000000     ingredient   710.000000  19.0000  19.0000\n",
       "72     Default  1155.000000           love  1155.000000  18.0000  18.0000\n",
       "89     Default   881.000000        natural   881.000000  17.0000  17.0000\n",
       "74     Default  1300.000000           make  1300.000000  16.0000  16.0000\n",
       "158    Default   709.000000        vitamin   709.000000  15.0000  15.0000\n",
       "16     Default  1053.000000           body  1053.000000  14.0000  14.0000\n",
       "382    Default   661.000000         health   661.000000  13.0000  13.0000\n",
       "114    Default   501.000000         really   501.000000  12.0000  12.0000\n",
       "591    Default   487.000000          would   487.000000  11.0000  11.0000\n",
       "454    Default   539.000000             go   539.000000  10.0000  10.0000\n",
       "44     Default   657.000000           feel   657.000000   9.0000   9.0000\n",
       "456    Default   888.000000          great   888.000000   8.0000   8.0000\n",
       "279    Default   295.000000         powder   295.000000   7.0000   7.0000\n",
       "653    Default   294.000000            mix   294.000000   6.0000   6.0000\n",
       "215    Default   328.000000           face   328.000000   5.0000   5.0000\n",
       "576    Default  1023.000000           take  1023.000000   4.0000   4.0000\n",
       "230    Default  1190.000000           help  1190.000000   3.0000   3.0000\n",
       "1925   Default   317.000000            eat   317.000000   2.0000   2.0000\n",
       "160    Default   304.000000           wash   304.000000   1.0000   1.0000\n",
       "...        ...          ...            ...          ...      ...      ...\n",
       "9507   Topic10     0.003785      entertain     0.847576   2.5112  -9.5400\n",
       "3695   Topic10     0.004091       enhanced     0.917821   2.5091  -9.4624\n",
       "5035   Topic10     0.003769      deformity     0.847224   2.5071  -9.5444\n",
       "11872  Topic10     0.003763          lotta     0.848957   2.5036  -9.5459\n",
       "5354   Topic10     0.003784        wedding     0.853683   2.5036  -9.5403\n",
       "5038   Topic10     0.003748  hydrocephalus     0.845731   2.5033  -9.5500\n",
       "2021   Topic10     0.003737        spiking     0.845539   2.5006  -9.5529\n",
       "1999   Topic10     0.003737           loop     0.845539   2.5006  -9.5529\n",
       "2001   Topic10     0.003737          maize     0.845539   2.5006  -9.5529\n",
       "1995   Topic10     0.003737         lactic     0.845539   2.5006  -9.5529\n",
       "2012   Topic10     0.003737    portability     0.845539   2.5006  -9.5529\n",
       "2034   Topic10     0.003737           wick     0.845539   2.5006  -9.5529\n",
       "1987   Topic10     0.003737      headphone     0.845539   2.5006  -9.5529\n",
       "1984   Topic10     0.003737        garment     0.845539   2.5006  -9.5529\n",
       "1973   Topic10     0.003737         cramer     0.845539   2.5006  -9.5529\n",
       "1968   Topic10     0.003737         cancel     0.845539   2.5006  -9.5529\n",
       "12343  Topic10     0.003857          carve     0.874407   2.4986  -9.5214\n",
       "4986   Topic10     0.003857            tin     0.874407   2.4986  -9.5214\n",
       "1967   Topic10     0.003737         calous     0.845539   2.5006  -9.5529\n",
       "12717  Topic10     0.004072       barbecue     0.928760   2.4927  -9.4669\n",
       "13737  Topic10     0.004072    gingerbread     0.928760   2.4927  -9.4669\n",
       "12350  Topic10     0.003792         pinkie     0.859037   2.4994  -9.5383\n",
       "12342  Topic10     0.003792      artisanal     0.859037   2.4994  -9.5383\n",
       "12347  Topic10     0.003792         justea     0.859037   2.4994  -9.5383\n",
       "12345  Topic10     0.003792        gorgous     0.859037   2.4994  -9.5383\n",
       "12351  Topic10     0.003792          rural     0.859037   2.4994  -9.5383\n",
       "449    Topic10     0.003940        farming     0.947976   2.4392  -9.5000\n",
       "12352  Topic10     0.003792           wage     0.859037   2.4994  -9.5383\n",
       "12700  Topic10     0.004120     deodorized     1.106315   2.3295  -9.4553\n",
       "10386  Topic10     0.003858    transparent     0.906056   2.4635  -9.5209\n",
       "\n",
       "[487 rows x 6 columns], token_table=       Topic      Freq        Term\n",
       "term                              \n",
       "3268       1  0.998698  absorption\n",
       "862        1  0.110508    actually\n",
       "862        2  0.884067    actually\n",
       "174        1  0.027940         add\n",
       "174        2  0.042469         add\n",
       "174        4  0.928735         add\n",
       "1508       1  0.951367         age\n",
       "1508       3  0.048170         age\n",
       "2084       8  0.971078    alkaline\n",
       "2650       1  0.276684     allergy\n",
       "2650       2  0.533606     allergy\n",
       "2650       7  0.197632     allergy\n",
       "4714       6  0.982120        alot\n",
       "177        1  0.406036        also\n",
       "177        2  0.178916        also\n",
       "177        3  0.222486        also\n",
       "177        4  0.191894        also\n",
       "10001      8  0.757641    aluminum\n",
       "711        2  0.971689      always\n",
       "711        3  0.020993      always\n",
       "711        4  0.005998      always\n",
       "769        5  0.976334       apple\n",
       "8          2  0.021867       apply\n",
       "8          3  0.969423       apply\n",
       "5100       9  0.746877    athletic\n",
       "3226       6  0.914209    ayurveda\n",
       "3227       1  0.994941   ayurvedic\n",
       "1221       1  0.992093    bacteria\n",
       "7126       4  0.927720        bake\n",
       "7126       5  0.070017        bake\n",
       "...      ...       ...         ...\n",
       "2824       6  0.921453       visit\n",
       "158        1  0.990900     vitamin\n",
       "158        3  0.004229     vitamin\n",
       "158        4  0.004229     vitamin\n",
       "764        2  0.902236        want\n",
       "764        3  0.019081        want\n",
       "764        4  0.076322        want\n",
       "160        3  0.997760        wash\n",
       "4754       8  0.836269    washroom\n",
       "161        1  0.224146       water\n",
       "161        2  0.341022       water\n",
       "161        3  0.044829       water\n",
       "161        4  0.313805       water\n",
       "161        8  0.075249       water\n",
       "2161       2  0.993284        wear\n",
       "330        1  0.255301        well\n",
       "330        2  0.500858        well\n",
       "330        3  0.107187        well\n",
       "330        4  0.136420        well\n",
       "1792       7  0.888816    wherever\n",
       "4987       6  0.982917        whip\n",
       "3223       3  0.995428        wipe\n",
       "333        1  0.278336        work\n",
       "333        2  0.647388        work\n",
       "333        3  0.072161        work\n",
       "1176       2  0.977595       worth\n",
       "591        2  0.970730       would\n",
       "591        3  0.006157       would\n",
       "591        4  0.022575       would\n",
       "3183       6  0.978602         yet\n",
       "\n",
       "[564 rows x 3 columns], R=30, lambda_step=0.01, plot_opts={'xlab': 'PC1', 'ylab': 'PC2'}, topic_order=[6, 7, 4, 1, 10, 3, 2, 9, 5, 8])"
      ]
     },
     "execution_count": 59,
     "metadata": {},
     "output_type": "execute_result"
    }
   ],
   "source": [
    "pyLDAvis.enable_notebook()\n",
    "vis = pyLDAvis.gensim.prepare(lda_model, corpus, id2word)\n",
    "vis"
   ]
  },
  {
   "cell_type": "code",
   "execution_count": 60,
   "metadata": {},
   "outputs": [
    {
     "name": "stdout",
     "output_type": "stream",
     "text": [
      "\n",
      "Perplexity:  -7.9697325921500894\n"
     ]
    }
   ],
   "source": [
    "print('\\nPerplexity: ', lda_model.log_perplexity(corpus))"
   ]
  },
  {
   "cell_type": "code",
   "execution_count": 61,
   "metadata": {},
   "outputs": [
    {
     "name": "stdout",
     "output_type": "stream",
     "text": [
      "\n",
      "Coherence Score:  0.4734030305799819\n"
     ]
    }
   ],
   "source": [
    "coherence_model_lda = CoherenceModel(model=lda_model, texts=data_lemmatized, dictionary=id2word, coherence='c_v')\n",
    "coherence_lda = coherence_model_lda.get_coherence()\n",
    "print('\\nCoherence Score: ', coherence_lda)"
   ]
  },
  {
   "cell_type": "code",
   "execution_count": null,
   "metadata": {},
   "outputs": [],
   "source": []
  }
 ],
 "metadata": {
  "kernelspec": {
   "display_name": "Python 3",
   "language": "python",
   "name": "python3"
  },
  "language_info": {
   "codemirror_mode": {
    "name": "ipython",
    "version": 3
   },
   "file_extension": ".py",
   "mimetype": "text/x-python",
   "name": "python",
   "nbconvert_exporter": "python",
   "pygments_lexer": "ipython3",
   "version": "3.7.3"
  }
 },
 "nbformat": 4,
 "nbformat_minor": 2
}
