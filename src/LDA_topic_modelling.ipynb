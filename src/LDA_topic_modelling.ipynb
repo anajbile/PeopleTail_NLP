{
 "cells": [
  {
   "cell_type": "code",
   "execution_count": 36,
   "metadata": {},
   "outputs": [
    {
     "name": "stderr",
     "output_type": "stream",
     "text": [
      "[nltk_data] Downloading package punkt to\n",
      "[nltk_data]     C:\\Users\\abhis\\AppData\\Roaming\\nltk_data...\n",
      "[nltk_data]   Package punkt is already up-to-date!\n",
      "[nltk_data] Downloading package wordnet to\n",
      "[nltk_data]     C:\\Users\\abhis\\AppData\\Roaming\\nltk_data...\n",
      "[nltk_data]   Package wordnet is already up-to-date!\n",
      "[nltk_data] Downloading package stopwords to\n",
      "[nltk_data]     C:\\Users\\abhis\\AppData\\Roaming\\nltk_data...\n",
      "[nltk_data]   Package stopwords is already up-to-date!\n"
     ]
    },
    {
     "data": {
      "text/plain": [
       "True"
      ]
     },
     "execution_count": 36,
     "metadata": {},
     "output_type": "execute_result"
    }
   ],
   "source": [
    "from bs4 import BeautifulSoup\n",
    "import pandas as pd\n",
    "import nltk\n",
    "from vaderSentiment.vaderSentiment import SentimentIntensityAnalyzer\n",
    "from nltk.stem import WordNetLemmatizer\n",
    "from nltk.corpus import stopwords\n",
    "from nltk.tokenize import word_tokenize\n",
    "import spacy\n",
    "nltk.download('punkt')\n",
    "nltk.download('wordnet')\n",
    "nltk.download('stopwords')"
   ]
  },
  {
   "cell_type": "code",
   "execution_count": 18,
   "metadata": {},
   "outputs": [],
   "source": [
    "# Importing Gensim for LDA\n",
    "import gensim\n",
    "import gensim.corpora as corpora\n",
    "from gensim.utils import simple_preprocess\n",
    "from gensim.models import CoherenceModel\n",
    "\n",
    "# PLotting tools \n",
    "\n",
    "import pyLDAvis\n",
    "import pyLDAvis.gensim  # don't skip this\n",
    "import matplotlib.pyplot as plt\n",
    "%matplotlib inline"
   ]
  },
  {
   "cell_type": "code",
   "execution_count": 2,
   "metadata": {},
   "outputs": [
    {
     "data": {
      "text/plain": [
       "(body        1873\n",
       " watson      1873\n",
       " products    1824\n",
       " user        1873\n",
       " dtype: int64, Index(['body', 'watson', 'products', 'user'], dtype='object'))"
      ]
     },
     "execution_count": 2,
     "metadata": {},
     "output_type": "execute_result"
    }
   ],
   "source": [
    "df = pd.read_csv('C:/Users/abhis/OneDrive/Documents/GitHub/PeopleTail_NLP/src/reviews.csv')\n",
    "df.count(), df.columns\n"
   ]
  },
  {
   "cell_type": "code",
   "execution_count": 3,
   "metadata": {},
   "outputs": [],
   "source": [
    "df['reviewtext'] = df['body'].apply(lambda x: BeautifulSoup(x, 'lxml').get_text())"
   ]
  },
  {
   "cell_type": "code",
   "execution_count": 4,
   "metadata": {},
   "outputs": [
    {
     "data": {
      "text/html": [
       "<div>\n",
       "<style scoped>\n",
       "    .dataframe tbody tr th:only-of-type {\n",
       "        vertical-align: middle;\n",
       "    }\n",
       "\n",
       "    .dataframe tbody tr th {\n",
       "        vertical-align: top;\n",
       "    }\n",
       "\n",
       "    .dataframe thead th {\n",
       "        text-align: right;\n",
       "    }\n",
       "</style>\n",
       "<table border=\"1\" class=\"dataframe\">\n",
       "  <thead>\n",
       "    <tr style=\"text-align: right;\">\n",
       "      <th></th>\n",
       "      <th>body</th>\n",
       "      <th>watson</th>\n",
       "      <th>products</th>\n",
       "      <th>user</th>\n",
       "      <th>reviewtext</th>\n",
       "    </tr>\n",
       "  </thead>\n",
       "  <tbody>\n",
       "    <tr>\n",
       "      <th>0</th>\n",
       "      <td>&lt;p class=\"MsoNormal\"&gt;Ah spring time is on the ...</td>\n",
       "      <td>{\"usage\":{\"text_units\":1,\"text_characters\":230...</td>\n",
       "      <td>True Moringa - All Purpose Moringa Body Oil wi...</td>\n",
       "      <td>5</td>\n",
       "      <td>Ah spring time is on the horizon. Why not give...</td>\n",
       "    </tr>\n",
       "    <tr>\n",
       "      <th>1</th>\n",
       "      <td>&lt;p dir=\"ltr\" style=\"line-height: 1.38; margin-...</td>\n",
       "      <td>{\"usage\":{\"text_units\":1,\"text_characters\":280...</td>\n",
       "      <td>BioFinest Pomegranate Seed Organic Oil - 100% ...</td>\n",
       "      <td>5</td>\n",
       "      <td>Feeling like you need a kick in the pants to g...</td>\n",
       "    </tr>\n",
       "    <tr>\n",
       "      <th>2</th>\n",
       "      <td>&lt;p class=\"MsoNormal\"&gt;Oral health is key for ov...</td>\n",
       "      <td>{\"usage\":{\"text_units\":1,\"text_characters\":133...</td>\n",
       "      <td>Lakanto Monkfruit Sweetener, Golden, 8.29 Ounc...</td>\n",
       "      <td>5</td>\n",
       "      <td>Oral health is key for overall health.  Did yo...</td>\n",
       "    </tr>\n",
       "    <tr>\n",
       "      <th>3</th>\n",
       "      <td>&lt;p class=\"MsoNormal\"&gt;The benefits of adding le...</td>\n",
       "      <td>{\"usage\":{\"text_units\":1,\"text_characters\":117...</td>\n",
       "      <td>NaN</td>\n",
       "      <td>5</td>\n",
       "      <td>The benefits of adding lemon to our drinking w...</td>\n",
       "    </tr>\n",
       "    <tr>\n",
       "      <th>4</th>\n",
       "      <td>&lt;p class=\"MsoNormal\"&gt;Our diets today, unfortun...</td>\n",
       "      <td>{\"usage\":{\"text_units\":1,\"text_characters\":210...</td>\n",
       "      <td>Gelatinized Maca Root Powder From Peru - Certi...</td>\n",
       "      <td>5</td>\n",
       "      <td>Our diets today, unfortunately have many hidde...</td>\n",
       "    </tr>\n",
       "  </tbody>\n",
       "</table>\n",
       "</div>"
      ],
      "text/plain": [
       "                                                body  \\\n",
       "0  <p class=\"MsoNormal\">Ah spring time is on the ...   \n",
       "1  <p dir=\"ltr\" style=\"line-height: 1.38; margin-...   \n",
       "2  <p class=\"MsoNormal\">Oral health is key for ov...   \n",
       "3  <p class=\"MsoNormal\">The benefits of adding le...   \n",
       "4  <p class=\"MsoNormal\">Our diets today, unfortun...   \n",
       "\n",
       "                                              watson  \\\n",
       "0  {\"usage\":{\"text_units\":1,\"text_characters\":230...   \n",
       "1  {\"usage\":{\"text_units\":1,\"text_characters\":280...   \n",
       "2  {\"usage\":{\"text_units\":1,\"text_characters\":133...   \n",
       "3  {\"usage\":{\"text_units\":1,\"text_characters\":117...   \n",
       "4  {\"usage\":{\"text_units\":1,\"text_characters\":210...   \n",
       "\n",
       "                                            products  user  \\\n",
       "0  True Moringa - All Purpose Moringa Body Oil wi...     5   \n",
       "1  BioFinest Pomegranate Seed Organic Oil - 100% ...     5   \n",
       "2  Lakanto Monkfruit Sweetener, Golden, 8.29 Ounc...     5   \n",
       "3                                                NaN     5   \n",
       "4  Gelatinized Maca Root Powder From Peru - Certi...     5   \n",
       "\n",
       "                                          reviewtext  \n",
       "0  Ah spring time is on the horizon. Why not give...  \n",
       "1  Feeling like you need a kick in the pants to g...  \n",
       "2  Oral health is key for overall health.  Did yo...  \n",
       "3  The benefits of adding lemon to our drinking w...  \n",
       "4  Our diets today, unfortunately have many hidde...  "
      ]
     },
     "execution_count": 4,
     "metadata": {},
     "output_type": "execute_result"
    }
   ],
   "source": [
    "df.head()"
   ]
  },
  {
   "cell_type": "markdown",
   "metadata": {},
   "source": [
    "# Preprocess the data and normalize it"
   ]
  },
  {
   "cell_type": "code",
   "execution_count": 22,
   "metadata": {},
   "outputs": [
    {
     "name": "stdout",
     "output_type": "stream",
     "text": [
      "['Ah spring time is on the horizon. Why not give your mane a spring detox and make over? Dry and cold winds can deplete your hair and scalp of moisture. Overtime your locks can become dry and brittle. Try this easy and pampering recommendation to protect your mane to look lustrous and feel silky smooth again. Apply True Moringa - All Purpose Moringa Body Oil with Peppermint, to your hair and scalp, leave in hair for 30 minutes or wrap your hair in a towel and leave in overnight. Moringa oil does not clog scalp pores, strengthens hair follicles and combats frizz. Keep it in your hair overnight into the next day (really its not greasy at all?). Wash it out with a mild, sulphate free shampoo, like the very juicy ACURE Mega Moisture Shampoo and reveal an uber moisturized hair and scalp. Next give your scalp the sustained moisture lock it deserves. We love the organic hair mask for its triple threat recovery from the dry blustery cold air that shocked our scalp and hair during the winter months. Apply one to two times a week the John Masters Organics Hair Milk, Rose and Apricot. The premium ingredients like Rose water balance moisture levels, and the apricot seed oil repairs split ends. This nourishing hair mask gently cleanses away excess harmful sebum and product residue from the scalp too. If you are more of a DIYer than make this simple hair mask from food ingredients right in your own kitchen. Simply mash up an avocado or beat up two egg whites and apply to your hair. Keep on for 20 minutes and wash off with cool, tepid water. Your hair will be extra nourished with good fats, vitamins and minerals. Now to lock in all that moisture rich goodness. Post Shampoo and Conditioner apply 2 tablespoons of Green Leaf Naturals Aloe Vera gel to your hair and scalp. We love this aloe vera gel for hair and scalp specifically because it is a 99.75 % pure organic Aloe Vera gel and its cold pressed. The gel is thin and weightless, penetrates the hair and scalp leaving NO sticky mess. Wait 5 minutes before rinsing out. Aloe Vera is an antioxidant and antimicrobial and will protect your scalp from dandruff, and dryness. Dont wait until the winter damage sends your locks to the clippers, nourish and revitalize your hair with our Bye, bye winter hair care recommendation. ']\n"
     ]
    },
    {
     "name": "stderr",
     "output_type": "stream",
     "text": [
      "<>:7: DeprecationWarning: invalid escape sequence \\s\n",
      "<>:7: DeprecationWarning: invalid escape sequence \\s\n",
      "<>:7: DeprecationWarning: invalid escape sequence \\s\n",
      "<ipython-input-22-6db0ed0c89cc>:7: DeprecationWarning: invalid escape sequence \\s\n",
      "  data = [re.sub('\\s+', ' ', sent) for sent in data]\n"
     ]
    }
   ],
   "source": [
    "stop_words = set(stopwords.words('english'))\n",
    "\n",
    "# Convert to list\n",
    "data = df.reviewtext.values.tolist()\n",
    "\n",
    "# Remove new line characters\n",
    "data = [re.sub('\\s+', ' ', sent) for sent in data]\n",
    "\n",
    "# Remove distracting single quotes\n",
    "data = [re.sub(\"\\'\", \"\", sent) for sent in data]\n",
    "\n",
    "print(data[:1])"
   ]
  },
  {
   "cell_type": "code",
   "execution_count": 23,
   "metadata": {},
   "outputs": [
    {
     "name": "stdout",
     "output_type": "stream",
     "text": [
      "[['ah', 'spring', 'time', 'is', 'on', 'the', 'horizon', 'why', 'not', 'give', 'your', 'mane', 'spring', 'detox', 'and', 'make', 'over', 'dry', 'and', 'cold', 'winds', 'can', 'deplete', 'your', 'hair', 'and', 'scalp', 'of', 'moisture', 'overtime', 'your', 'locks', 'can', 'become', 'dry', 'and', 'brittle', 'try', 'this', 'easy', 'and', 'pampering', 'recommendation', 'to', 'protect', 'your', 'mane', 'to', 'look', 'lustrous', 'and', 'feel', 'silky', 'smooth', 'again', 'apply', 'true', 'moringa', 'all', 'purpose', 'moringa', 'body', 'oil', 'with', 'peppermint', 'to', 'your', 'hair', 'and', 'scalp', 'leave', 'in', 'hair', 'for', 'minutes', 'or', 'wrap', 'your', 'hair', 'in', 'towel', 'and', 'leave', 'in', 'overnight', 'moringa', 'oil', 'does', 'not', 'clog', 'scalp', 'pores', 'strengthens', 'hair', 'follicles', 'and', 'combats', 'frizz', 'keep', 'it', 'in', 'your', 'hair', 'overnight', 'into', 'the', 'next', 'day', 'really', 'its', 'not', 'greasy', 'at', 'all', 'wash', 'it', 'out', 'with', 'mild', 'sulphate', 'free', 'shampoo', 'like', 'the', 'very', 'juicy', 'acure', 'mega', 'moisture', 'shampoo', 'and', 'reveal', 'an', 'uber', 'moisturized', 'hair', 'and', 'scalp', 'next', 'give', 'your', 'scalp', 'the', 'sustained', 'moisture', 'lock', 'it', 'deserves', 'we', 'love', 'the', 'organic', 'hair', 'mask', 'for', 'its', 'triple', 'threat', 'recovery', 'from', 'the', 'dry', 'blustery', 'cold', 'air', 'that', 'shocked', 'our', 'scalp', 'and', 'hair', 'during', 'the', 'winter', 'months', 'apply', 'one', 'to', 'two', 'times', 'week', 'the', 'john', 'masters', 'organics', 'hair', 'milk', 'rose', 'and', 'apricot', 'the', 'premium', 'ingredients', 'like', 'rose', 'water', 'balance', 'moisture', 'levels', 'and', 'the', 'apricot', 'seed', 'oil', 'repairs', 'split', 'ends', 'this', 'nourishing', 'hair', 'mask', 'gently', 'cleanses', 'away', 'excess', 'harmful', 'sebum', 'and', 'product', 'residue', 'from', 'the', 'scalp', 'too', 'if', 'you', 'are', 'more', 'of', 'diyer', 'than', 'make', 'this', 'simple', 'hair', 'mask', 'from', 'food', 'ingredients', 'right', 'in', 'your', 'own', 'kitchen', 'simply', 'mash', 'up', 'an', 'avocado', 'or', 'beat', 'up', 'two', 'egg', 'whites', 'and', 'apply', 'to', 'your', 'hair', 'keep', 'on', 'for', 'minutes', 'and', 'wash', 'off', 'with', 'cool', 'tepid', 'water', 'your', 'hair', 'will', 'be', 'extra', 'nourished', 'with', 'good', 'fats', 'vitamins', 'and', 'minerals', 'now', 'to', 'lock', 'in', 'all', 'that', 'moisture', 'rich', 'goodness', 'post', 'shampoo', 'and', 'conditioner', 'apply', 'tablespoons', 'of', 'green', 'leaf', 'naturals', 'aloe', 'vera', 'gel', 'to', 'your', 'hair', 'and', 'scalp', 'we', 'love', 'this', 'aloe', 'vera', 'gel', 'for', 'hair', 'and', 'scalp', 'specifically', 'because', 'it', 'is', 'pure', 'organic', 'aloe', 'vera', 'gel', 'and', 'its', 'cold', 'pressed', 'the', 'gel', 'is', 'thin', 'and', 'weightless', 'penetrates', 'the', 'hair', 'and', 'scalp', 'leaving', 'no', 'sticky', 'mess', 'wait', 'minutes', 'before', 'rinsing', 'out', 'aloe', 'vera', 'is', 'an', 'antioxidant', 'and', 'antimicrobial', 'and', 'will', 'protect', 'your', 'scalp', 'from', 'dandruff', 'and', 'dryness', 'dont', 'wait', 'until', 'the', 'winter', 'damage', 'sends', 'your', 'locks', 'to', 'the', 'clippers', 'nourish', 'and', 'revitalize', 'your', 'hair', 'with', 'our', 'bye', 'bye', 'winter', 'hair', 'care', 'recommendation']]\n"
     ]
    }
   ],
   "source": [
    "def sent_to_words(sentences):\n",
    "    for sentence in sentences:\n",
    "        yield(gensim.utils.simple_preprocess(str(sentence), deacc=True))  # deacc=True removes punctuations\n",
    "        \n",
    "\n",
    "data_words = list(sent_to_words(data))\n",
    "\n",
    "print(data_words[:1])\n"
   ]
  },
  {
   "cell_type": "code",
   "execution_count": 24,
   "metadata": {},
   "outputs": [],
   "source": [
    "def remove_stopwords(texts):\n",
    "    return [[word for word in simple_preprocess(str(doc)) if word not in stop_words] for doc in texts]\n",
    "\n",
    "# Remove Stop Words\n",
    "data_words_nostops = remove_stopwords(data_words)"
   ]
  },
  {
   "cell_type": "code",
   "execution_count": 25,
   "metadata": {},
   "outputs": [
    {
     "name": "stdout",
     "output_type": "stream",
     "text": [
      "[['ah', 'spring', 'time', 'horizon', 'give', 'mane', 'spring', 'detox', 'make', 'dry', 'cold', 'winds', 'deplete', 'hair', 'scalp', 'moisture', 'overtime', 'locks', 'become', 'dry', 'brittle', 'try', 'easy', 'pampering', 'recommendation', 'protect', 'mane', 'look', 'lustrous', 'feel', 'silky', 'smooth', 'apply', 'true', 'moringa', 'purpose', 'moringa', 'body', 'oil', 'peppermint', 'hair', 'scalp', 'leave', 'hair', 'minutes', 'wrap', 'hair', 'towel', 'leave', 'overnight', 'moringa', 'oil', 'clog', 'scalp', 'pores', 'strengthens', 'hair', 'follicles', 'combats', 'frizz', 'keep', 'hair', 'overnight', 'next', 'day', 'really', 'greasy', 'wash', 'mild', 'sulphate', 'free', 'shampoo', 'like', 'juicy', 'acure', 'mega', 'moisture', 'shampoo', 'reveal', 'uber', 'moisturized', 'hair', 'scalp', 'next', 'give', 'scalp', 'sustained', 'moisture', 'lock', 'deserves', 'love', 'organic', 'hair', 'mask', 'triple', 'threat', 'recovery', 'dry', 'blustery', 'cold', 'air', 'shocked', 'scalp', 'hair', 'winter', 'months', 'apply', 'one', 'two', 'times', 'week', 'john', 'masters', 'organics', 'hair', 'milk', 'rose', 'apricot', 'premium', 'ingredients', 'like', 'rose', 'water', 'balance', 'moisture', 'levels', 'apricot', 'seed', 'oil', 'repairs', 'split', 'ends', 'nourishing', 'hair', 'mask', 'gently', 'cleanses', 'away', 'excess', 'harmful', 'sebum', 'product', 'residue', 'scalp', 'diyer', 'make', 'simple', 'hair', 'mask', 'food', 'ingredients', 'right', 'kitchen', 'simply', 'mash', 'avocado', 'beat', 'two', 'egg', 'whites', 'apply', 'hair', 'keep', 'minutes', 'wash', 'cool', 'tepid', 'water', 'hair', 'extra', 'nourished', 'good', 'fats', 'vitamins', 'minerals', 'lock', 'moisture', 'rich', 'goodness', 'post', 'shampoo', 'conditioner', 'apply', 'tablespoons', 'green', 'leaf', 'naturals', 'aloe', 'vera', 'gel', 'hair', 'scalp', 'love', 'aloe', 'vera', 'gel', 'hair', 'scalp', 'specifically', 'pure', 'organic', 'aloe', 'vera', 'gel', 'cold', 'pressed', 'gel', 'thin', 'weightless', 'penetrates', 'hair', 'scalp', 'leaving', 'sticky', 'mess', 'wait', 'minutes', 'rinsing', 'aloe', 'vera', 'antioxidant', 'antimicrobial', 'protect', 'scalp', 'dandruff', 'dryness', 'dont', 'wait', 'winter', 'damage', 'sends', 'locks', 'clippers', 'nourish', 'revitalize', 'hair', 'bye', 'bye', 'winter', 'hair', 'care', 'recommendation']]\n"
     ]
    }
   ],
   "source": [
    "print(data_words_nostops[:1])"
   ]
  },
  {
   "cell_type": "code",
   "execution_count": 31,
   "metadata": {},
   "outputs": [],
   "source": [
    "bigram = gensim.models.Phrases(data_words, min_count=5, threshold=100)\n",
    "bigram_mod = gensim.models.phrases.Phraser(bigram)\n",
    "\n",
    "def make_bigrams(texts):\n",
    "    return [bigram_mod[doc] for doc in texts]\n",
    "\n",
    "# Form Bigrams\n",
    "data_words_bigrams = make_bigrams(data_words_nostops)"
   ]
  },
  {
   "cell_type": "code",
   "execution_count": 38,
   "metadata": {},
   "outputs": [],
   "source": [
    "def lemmatization(texts, allowed_postags=['NOUN', 'ADJ', 'VERB', 'ADV']):\n",
    "    \"\"\"https://spacy.io/api/annotation\"\"\"\n",
    "    texts_out = []\n",
    "    for sent in texts:\n",
    "        doc = nlp(\" \".join(sent)) \n",
    "        texts_out.append([token.lemma_ for token in doc if token.pos_ in allowed_postags])\n",
    "    return texts_out\n",
    "\n",
    "nlp = spacy.load('en', disable=['parser', 'ner'])\n",
    "\n",
    "data_lemmatized = lemmatization(data_words_bigrams, allowed_postags=['NOUN', 'ADJ', 'VERB', 'ADV'])"
   ]
  },
  {
   "cell_type": "code",
   "execution_count": 39,
   "metadata": {},
   "outputs": [
    {
     "name": "stdout",
     "output_type": "stream",
     "text": [
      "[['spring', 'give', 'spring', 'detox', 'make', 'dry', 'cold', 'wind', 'deplete', 'hair', 'overtime', 'lock', 'become', 'dry', 'brittle', 'try', 'easy', 'pamper', 'recommendation', 'mane', 'look', 'lustrous', 'feel', 'apply', 'true', 'moringa', 'purpose', 'body', 'oil', 'peppermint', 'hair', 'scalp', 'leave', 'hair', 'minute', 'wrap', 'hair', 'towel', 'leave', 'overnight', 'pore', 'strengthen', 'hair', 'follicle', 'combat', 'frizz', 'keep', 'hair', 'overnight', 'next', 'day', 'really', 'greasy', 'wash', 'mild', 'shampoo', 'acure', 'shampoo', 'moisturize', 'hair', 'next', 'give', 'sustain', 'moisture', 'lock', 'deserve', 'love', 'organic', 'hair', 'mask', 'triple', 'threat', 'recovery', 'dry', 'cold', 'shock', 'hair', 'apply', 'time', 'week', 'hair', 'milk', 'rise', 'ingredient', 'rise', 'water', 'balance', 'moisture', 'level', 'seed', 'oil', 'repair', 'nourish', 'hair', 'gently', 'cleanse', 'away', 'excess', 'harmful', 'product', 'diyer', 'make', 'simple', 'hair', 'mask', 'food', 'ingredient', 'right', 'simply', 'beat', 'egg', 'white', 'apply', 'hair', 'keep', 'minute', 'wash', 'cool', 'tepid', 'water', 'hair', 'extra', 'nourish', 'good', 'fat', 'lock', 'moisture', 'rich', 'goodness', 'shampoo', 'conditioner', 'apply', 'tablespoon', 'green', 'leaf', 'hair', 'hair', 'specifically', 'pure', 'organic', 'gel', 'gel', 'thin', 'weightless', 'penetrate', 'hair', 'scalp', 'leave', 'sticky', 'mess', 'wait', 'minute', 'rinse', 'antioxidant', 'dryness', 'wait', 'winter', 'damage', 'send', 'lock', 'clipper', 'nourish', 'revitalize', 'hair', 'winter', 'hair', 'care', 'recommendation']]\n"
     ]
    }
   ],
   "source": [
    "print(data_lemmatized[:1])"
   ]
  },
  {
   "cell_type": "markdown",
   "metadata": {},
   "source": [
    "# Sentiment Analysis"
   ]
  },
  {
   "cell_type": "code",
   "execution_count": 40,
   "metadata": {},
   "outputs": [],
   "source": [
    "analyzer = SentimentIntensityAnalyzer()"
   ]
  },
  {
   "cell_type": "code",
   "execution_count": 41,
   "metadata": {},
   "outputs": [],
   "source": [
    "sentiment = df['reviewtext'].apply(lambda x: analyzer.polarity_scores(x))"
   ]
  },
  {
   "cell_type": "code",
   "execution_count": 42,
   "metadata": {},
   "outputs": [],
   "source": [
    "df = pd.concat([df,sentiment.apply(pd.Series)],1)"
   ]
  },
  {
   "cell_type": "code",
   "execution_count": 43,
   "metadata": {},
   "outputs": [
    {
     "data": {
      "text/html": [
       "<div>\n",
       "<style scoped>\n",
       "    .dataframe tbody tr th:only-of-type {\n",
       "        vertical-align: middle;\n",
       "    }\n",
       "\n",
       "    .dataframe tbody tr th {\n",
       "        vertical-align: top;\n",
       "    }\n",
       "\n",
       "    .dataframe thead th {\n",
       "        text-align: right;\n",
       "    }\n",
       "</style>\n",
       "<table border=\"1\" class=\"dataframe\">\n",
       "  <thead>\n",
       "    <tr style=\"text-align: right;\">\n",
       "      <th></th>\n",
       "      <th>body</th>\n",
       "      <th>watson</th>\n",
       "      <th>products</th>\n",
       "      <th>user</th>\n",
       "      <th>reviewtext</th>\n",
       "      <th>reviewtext_token</th>\n",
       "      <th>text_lemmatized</th>\n",
       "      <th>reviewtext_new</th>\n",
       "      <th>neg</th>\n",
       "      <th>neu</th>\n",
       "      <th>pos</th>\n",
       "      <th>compound</th>\n",
       "    </tr>\n",
       "  </thead>\n",
       "  <tbody>\n",
       "    <tr>\n",
       "      <th>0</th>\n",
       "      <td>&lt;p class=\"MsoNormal\"&gt;Ah spring time is on the ...</td>\n",
       "      <td>{\"usage\":{\"text_units\":1,\"text_characters\":230...</td>\n",
       "      <td>True Moringa - All Purpose Moringa Body Oil wi...</td>\n",
       "      <td>5</td>\n",
       "      <td>Ah spring time is on the horizon. Why not give...</td>\n",
       "      <td>[ah, spring, time, horizon, why, give, mane, s...</td>\n",
       "      <td>[ah, spring, time, horizon, why, give, mane, s...</td>\n",
       "      <td>[[], [], [], [], [], [], [], [], [], [], [], [...</td>\n",
       "      <td>0.042</td>\n",
       "      <td>0.846</td>\n",
       "      <td>0.112</td>\n",
       "      <td>0.9860</td>\n",
       "    </tr>\n",
       "    <tr>\n",
       "      <th>1</th>\n",
       "      <td>&lt;p dir=\"ltr\" style=\"line-height: 1.38; margin-...</td>\n",
       "      <td>{\"usage\":{\"text_units\":1,\"text_characters\":280...</td>\n",
       "      <td>BioFinest Pomegranate Seed Organic Oil - 100% ...</td>\n",
       "      <td>5</td>\n",
       "      <td>Feeling like you need a kick in the pants to g...</td>\n",
       "      <td>[feeling, like, need, kick, pants, get, stuper...</td>\n",
       "      <td>[feeling, like, need, kick, pant, get, stuper,...</td>\n",
       "      <td>[[], [], [], [], [], [], [], [], [], [], [], [...</td>\n",
       "      <td>0.072</td>\n",
       "      <td>0.731</td>\n",
       "      <td>0.197</td>\n",
       "      <td>0.9974</td>\n",
       "    </tr>\n",
       "    <tr>\n",
       "      <th>2</th>\n",
       "      <td>&lt;p class=\"MsoNormal\"&gt;Oral health is key for ov...</td>\n",
       "      <td>{\"usage\":{\"text_units\":1,\"text_characters\":133...</td>\n",
       "      <td>Lakanto Monkfruit Sweetener, Golden, 8.29 Ounc...</td>\n",
       "      <td>5</td>\n",
       "      <td>Oral health is key for overall health.  Did yo...</td>\n",
       "      <td>[oral, health, key, overall, health, did, know...</td>\n",
       "      <td>[oral, health, key, overall, health, did, know...</td>\n",
       "      <td>[[], [], [], [], [], [], [], [], [], [], [], [...</td>\n",
       "      <td>0.071</td>\n",
       "      <td>0.787</td>\n",
       "      <td>0.142</td>\n",
       "      <td>0.9473</td>\n",
       "    </tr>\n",
       "    <tr>\n",
       "      <th>3</th>\n",
       "      <td>&lt;p class=\"MsoNormal\"&gt;The benefits of adding le...</td>\n",
       "      <td>{\"usage\":{\"text_units\":1,\"text_characters\":117...</td>\n",
       "      <td>NaN</td>\n",
       "      <td>5</td>\n",
       "      <td>The benefits of adding lemon to our drinking w...</td>\n",
       "      <td>[the, benefits, adding, lemon, drinking, water...</td>\n",
       "      <td>[the, benefit, adding, lemon, drinking, water,...</td>\n",
       "      <td>[[], [], [], [], [], [], [], [], [], [], [], [...</td>\n",
       "      <td>0.015</td>\n",
       "      <td>0.762</td>\n",
       "      <td>0.224</td>\n",
       "      <td>0.9924</td>\n",
       "    </tr>\n",
       "    <tr>\n",
       "      <th>4</th>\n",
       "      <td>&lt;p class=\"MsoNormal\"&gt;Our diets today, unfortun...</td>\n",
       "      <td>{\"usage\":{\"text_units\":1,\"text_characters\":210...</td>\n",
       "      <td>Gelatinized Maca Root Powder From Peru - Certi...</td>\n",
       "      <td>5</td>\n",
       "      <td>Our diets today, unfortunately have many hidde...</td>\n",
       "      <td>[our, diets, today, unfortunately, many, hidde...</td>\n",
       "      <td>[our, diet, today, unfortunately, many, hidden...</td>\n",
       "      <td>[[], [], [], [], [], [], [], [], [], [], [], [...</td>\n",
       "      <td>0.034</td>\n",
       "      <td>0.827</td>\n",
       "      <td>0.138</td>\n",
       "      <td>0.9833</td>\n",
       "    </tr>\n",
       "  </tbody>\n",
       "</table>\n",
       "</div>"
      ],
      "text/plain": [
       "                                                body  \\\n",
       "0  <p class=\"MsoNormal\">Ah spring time is on the ...   \n",
       "1  <p dir=\"ltr\" style=\"line-height: 1.38; margin-...   \n",
       "2  <p class=\"MsoNormal\">Oral health is key for ov...   \n",
       "3  <p class=\"MsoNormal\">The benefits of adding le...   \n",
       "4  <p class=\"MsoNormal\">Our diets today, unfortun...   \n",
       "\n",
       "                                              watson  \\\n",
       "0  {\"usage\":{\"text_units\":1,\"text_characters\":230...   \n",
       "1  {\"usage\":{\"text_units\":1,\"text_characters\":280...   \n",
       "2  {\"usage\":{\"text_units\":1,\"text_characters\":133...   \n",
       "3  {\"usage\":{\"text_units\":1,\"text_characters\":117...   \n",
       "4  {\"usage\":{\"text_units\":1,\"text_characters\":210...   \n",
       "\n",
       "                                            products  user  \\\n",
       "0  True Moringa - All Purpose Moringa Body Oil wi...     5   \n",
       "1  BioFinest Pomegranate Seed Organic Oil - 100% ...     5   \n",
       "2  Lakanto Monkfruit Sweetener, Golden, 8.29 Ounc...     5   \n",
       "3                                                NaN     5   \n",
       "4  Gelatinized Maca Root Powder From Peru - Certi...     5   \n",
       "\n",
       "                                          reviewtext  \\\n",
       "0  Ah spring time is on the horizon. Why not give...   \n",
       "1  Feeling like you need a kick in the pants to g...   \n",
       "2  Oral health is key for overall health.  Did yo...   \n",
       "3  The benefits of adding lemon to our drinking w...   \n",
       "4  Our diets today, unfortunately have many hidde...   \n",
       "\n",
       "                                    reviewtext_token  \\\n",
       "0  [ah, spring, time, horizon, why, give, mane, s...   \n",
       "1  [feeling, like, need, kick, pants, get, stuper...   \n",
       "2  [oral, health, key, overall, health, did, know...   \n",
       "3  [the, benefits, adding, lemon, drinking, water...   \n",
       "4  [our, diets, today, unfortunately, many, hidde...   \n",
       "\n",
       "                                     text_lemmatized  \\\n",
       "0  [ah, spring, time, horizon, why, give, mane, s...   \n",
       "1  [feeling, like, need, kick, pant, get, stuper,...   \n",
       "2  [oral, health, key, overall, health, did, know...   \n",
       "3  [the, benefit, adding, lemon, drinking, water,...   \n",
       "4  [our, diet, today, unfortunately, many, hidden...   \n",
       "\n",
       "                                      reviewtext_new    neg    neu    pos  \\\n",
       "0  [[], [], [], [], [], [], [], [], [], [], [], [...  0.042  0.846  0.112   \n",
       "1  [[], [], [], [], [], [], [], [], [], [], [], [...  0.072  0.731  0.197   \n",
       "2  [[], [], [], [], [], [], [], [], [], [], [], [...  0.071  0.787  0.142   \n",
       "3  [[], [], [], [], [], [], [], [], [], [], [], [...  0.015  0.762  0.224   \n",
       "4  [[], [], [], [], [], [], [], [], [], [], [], [...  0.034  0.827  0.138   \n",
       "\n",
       "   compound  \n",
       "0    0.9860  \n",
       "1    0.9974  \n",
       "2    0.9473  \n",
       "3    0.9924  \n",
       "4    0.9833  "
      ]
     },
     "execution_count": 43,
     "metadata": {},
     "output_type": "execute_result"
    }
   ],
   "source": [
    "df.head()"
   ]
  },
  {
   "cell_type": "markdown",
   "metadata": {},
   "source": [
    "# LDA topic modelling"
   ]
  },
  {
   "cell_type": "code",
   "execution_count": 44,
   "metadata": {},
   "outputs": [],
   "source": [
    "id2word = corpora.Dictionary(df['text_lemmatized'])"
   ]
  },
  {
   "cell_type": "code",
   "execution_count": 46,
   "metadata": {},
   "outputs": [],
   "source": [
    "texts = data_lemmatized"
   ]
  },
  {
   "cell_type": "code",
   "execution_count": 47,
   "metadata": {},
   "outputs": [],
   "source": [
    "corpus = [id2word.doc2bow(text) for text in texts]"
   ]
  },
  {
   "cell_type": "code",
   "execution_count": 54,
   "metadata": {},
   "outputs": [],
   "source": [
    "lda_model = gensim.models.ldamodel.LdaModel(corpus=corpus,\n",
    "                                           id2word=id2word,\n",
    "                                           num_topics=7, \n",
    "                                           update_every=1,\n",
    "                                           chunksize=100,\n",
    "                                           passes=10,\n",
    "                                           alpha='auto',\n",
    "                                           per_word_topics=True)"
   ]
  },
  {
   "cell_type": "code",
   "execution_count": 55,
   "metadata": {},
   "outputs": [
    {
     "name": "stderr",
     "output_type": "stream",
     "text": [
      "C:\\Users\\abhis\\Anaconda3\\lib\\site-packages\\pyLDAvis\\_prepare.py:257: FutureWarning: Sorting because non-concatenation axis is not aligned. A future version\n",
      "of pandas will change to not sort by default.\n",
      "\n",
      "To accept the future behavior, pass 'sort=False'.\n",
      "\n",
      "To retain the current behavior and silence the warning, pass 'sort=True'.\n",
      "\n",
      "  return pd.concat([default_term_info] + list(topic_dfs))\n"
     ]
    },
    {
     "data": {
      "text/html": [
       "\n",
       "<link rel=\"stylesheet\" type=\"text/css\" href=\"https://cdn.rawgit.com/bmabey/pyLDAvis/files/ldavis.v1.0.0.css\">\n",
       "\n",
       "\n",
       "<div id=\"ldavis_el4660418358739233842392945794\"></div>\n",
       "<script type=\"text/javascript\">\n",
       "\n",
       "var ldavis_el4660418358739233842392945794_data = {\"mdsDat\": {\"x\": [0.18315030277249927, 0.2904863691501654, 0.2628102297313675, -0.18503381360499804, -0.18550307080654413, -0.18527445524728983, -0.18063556199520026], \"y\": [0.2593382556711294, -0.1228106097494137, -0.08263395550243224, -0.016398486604337893, 0.0014704949933714842, -0.020240349802886675, -0.018725349005430724], \"topics\": [1, 2, 3, 4, 5, 6, 7], \"cluster\": [1, 1, 1, 1, 1, 1, 1], \"Freq\": [36.857666015625, 29.39881134033203, 24.994579315185547, 3.3384971618652344, 2.94946551322937, 1.283491611480713, 1.1774981021881104]}, \"tinfo\": {\"Category\": [\"Default\", \"Default\", \"Default\", \"Default\", \"Default\", \"Default\", \"Default\", \"Default\", \"Default\", \"Default\", \"Default\", \"Default\", \"Default\", \"Default\", \"Default\", \"Default\", \"Default\", \"Default\", \"Default\", \"Default\", \"Default\", \"Default\", \"Default\", \"Default\", \"Default\", \"Default\", \"Default\", \"Default\", \"Default\", \"Default\", \"Topic1\", \"Topic1\", \"Topic1\", \"Topic1\", \"Topic1\", \"Topic1\", \"Topic1\", \"Topic1\", \"Topic1\", \"Topic1\", \"Topic1\", \"Topic1\", \"Topic1\", \"Topic1\", \"Topic1\", \"Topic1\", \"Topic1\", \"Topic1\", \"Topic1\", \"Topic1\", \"Topic1\", \"Topic1\", \"Topic1\", \"Topic1\", \"Topic1\", \"Topic1\", \"Topic1\", \"Topic1\", \"Topic1\", \"Topic1\", \"Topic1\", \"Topic1\", \"Topic1\", \"Topic1\", \"Topic1\", \"Topic1\", \"Topic1\", \"Topic1\", \"Topic1\", \"Topic1\", \"Topic1\", \"Topic1\", \"Topic1\", \"Topic1\", \"Topic1\", \"Topic1\", \"Topic1\", \"Topic1\", \"Topic1\", \"Topic1\", \"Topic1\", \"Topic1\", \"Topic1\", \"Topic1\", \"Topic1\", \"Topic1\", \"Topic1\", \"Topic1\", \"Topic1\", \"Topic2\", \"Topic2\", \"Topic2\", \"Topic2\", \"Topic2\", \"Topic2\", \"Topic2\", \"Topic2\", \"Topic2\", \"Topic2\", \"Topic2\", \"Topic2\", \"Topic2\", \"Topic2\", \"Topic2\", \"Topic2\", \"Topic2\", \"Topic2\", \"Topic2\", \"Topic2\", \"Topic2\", \"Topic2\", \"Topic2\", \"Topic2\", \"Topic2\", \"Topic2\", \"Topic2\", \"Topic2\", \"Topic2\", \"Topic2\", \"Topic2\", \"Topic2\", \"Topic2\", \"Topic2\", \"Topic2\", \"Topic2\", \"Topic2\", \"Topic2\", \"Topic2\", \"Topic2\", \"Topic2\", \"Topic2\", \"Topic2\", \"Topic2\", \"Topic2\", \"Topic2\", \"Topic2\", \"Topic2\", \"Topic2\", \"Topic2\", \"Topic2\", \"Topic2\", \"Topic2\", \"Topic2\", \"Topic2\", \"Topic2\", \"Topic2\", \"Topic2\", \"Topic2\", \"Topic3\", \"Topic3\", \"Topic3\", \"Topic3\", \"Topic3\", \"Topic3\", \"Topic3\", \"Topic3\", \"Topic3\", \"Topic3\", \"Topic3\", \"Topic3\", \"Topic3\", \"Topic3\", \"Topic3\", \"Topic3\", \"Topic3\", \"Topic3\", \"Topic3\", \"Topic3\", \"Topic3\", \"Topic3\", \"Topic3\", \"Topic3\", \"Topic3\", \"Topic3\", \"Topic3\", \"Topic3\", \"Topic3\", \"Topic3\", \"Topic3\", \"Topic3\", \"Topic3\", \"Topic3\", \"Topic3\", \"Topic3\", \"Topic3\", \"Topic3\", \"Topic3\", \"Topic3\", \"Topic3\", \"Topic3\", \"Topic3\", \"Topic3\", \"Topic3\", \"Topic3\", \"Topic3\", \"Topic3\", \"Topic3\", \"Topic3\", \"Topic3\", \"Topic3\", \"Topic3\", \"Topic3\", \"Topic3\", \"Topic3\", \"Topic3\", \"Topic3\", \"Topic4\", \"Topic4\", \"Topic4\", \"Topic4\", \"Topic4\", \"Topic4\", \"Topic4\", \"Topic4\", \"Topic4\", \"Topic4\", \"Topic4\", \"Topic4\", \"Topic4\", \"Topic4\", \"Topic4\", \"Topic4\", \"Topic4\", \"Topic4\", \"Topic4\", \"Topic4\", \"Topic4\", \"Topic4\", \"Topic4\", \"Topic4\", \"Topic4\", \"Topic4\", \"Topic4\", \"Topic4\", \"Topic4\", \"Topic4\", \"Topic4\", \"Topic4\", \"Topic4\", \"Topic4\", \"Topic4\", \"Topic4\", \"Topic4\", \"Topic5\", \"Topic5\", \"Topic5\", \"Topic5\", \"Topic5\", \"Topic5\", \"Topic5\", \"Topic5\", \"Topic5\", \"Topic5\", \"Topic5\", \"Topic5\", \"Topic5\", \"Topic5\", \"Topic5\", \"Topic5\", \"Topic5\", \"Topic5\", \"Topic5\", \"Topic5\", \"Topic5\", \"Topic5\", \"Topic5\", \"Topic5\", \"Topic5\", \"Topic5\", \"Topic5\", \"Topic5\", \"Topic5\", \"Topic5\", \"Topic5\", \"Topic5\", \"Topic5\", \"Topic5\", \"Topic5\", \"Topic5\", \"Topic6\", \"Topic6\", \"Topic6\", \"Topic6\", \"Topic6\", \"Topic6\", \"Topic6\", \"Topic6\", \"Topic6\", \"Topic6\", \"Topic6\", \"Topic6\", \"Topic6\", \"Topic6\", \"Topic6\", \"Topic6\", \"Topic6\", \"Topic6\", \"Topic6\", \"Topic6\", \"Topic6\", \"Topic6\", \"Topic6\", \"Topic6\", \"Topic6\", \"Topic6\", \"Topic6\", \"Topic6\", \"Topic6\", \"Topic6\", \"Topic6\", \"Topic6\", \"Topic6\", \"Topic6\", \"Topic6\", \"Topic6\", \"Topic7\", \"Topic7\", \"Topic7\", \"Topic7\", \"Topic7\", \"Topic7\", \"Topic7\", \"Topic7\", \"Topic7\", \"Topic7\", \"Topic7\", \"Topic7\", \"Topic7\", \"Topic7\", \"Topic7\", \"Topic7\", \"Topic7\", \"Topic7\", \"Topic7\", \"Topic7\", \"Topic7\", \"Topic7\", \"Topic7\", \"Topic7\", \"Topic7\", \"Topic7\", \"Topic7\", \"Topic7\", \"Topic7\", \"Topic7\", \"Topic7\", \"Topic7\"], \"Freq\": [379.0, 1116.0, 1773.0, 863.0, 2529.0, 269.0, 1098.0, 589.0, 1164.0, 569.0, 660.0, 889.0, 452.0, 968.0, 616.0, 1257.0, 1077.0, 981.0, 323.0, 689.0, 310.0, 826.0, 680.0, 854.0, 417.0, 288.0, 113.0, 385.0, 147.0, 288.0, 659.6453247070312, 615.5786743164062, 416.8363037109375, 384.83038330078125, 347.0013427734375, 186.3577117919922, 182.63153076171875, 171.16990661621094, 167.35765075683594, 162.83200073242188, 158.5325164794922, 156.15103149414062, 154.4495086669922, 144.04544067382812, 141.01988220214844, 140.37405395507812, 134.6722412109375, 132.65797424316406, 132.2032928466797, 129.7628936767578, 121.21135711669922, 116.97665405273438, 116.78336334228516, 115.99468231201172, 113.75955200195312, 113.69561004638672, 111.19078826904297, 109.5640869140625, 109.56121063232422, 107.55748748779297, 1034.18603515625, 171.23800659179688, 930.3340454101562, 236.9995880126953, 207.00709533691406, 206.70338439941406, 237.26419067382812, 329.28955078125, 232.9457244873047, 672.7258911132812, 204.08238220214844, 232.14968872070312, 230.8477783203125, 302.2913513183594, 233.52720642089844, 183.47048950195312, 454.4999084472656, 201.3438720703125, 279.3310546875, 296.3876953125, 269.3862609863281, 236.57398986816406, 308.7531433105469, 251.07962036132812, 289.0867614746094, 243.43008422851562, 344.01702880859375, 238.17446899414062, 236.2982177734375, 588.2236328125, 568.4666748046875, 288.0068359375, 287.7496032714844, 277.1455078125, 246.8024139404297, 206.6400604248047, 203.42318725585938, 196.04859924316406, 179.5408172607422, 169.1585693359375, 152.68109130859375, 152.25473022460938, 151.56649780273438, 129.0300750732422, 120.1639404296875, 118.28085327148438, 117.31584930419922, 114.63968658447266, 111.52498626708984, 106.15159606933594, 105.79911804199219, 102.80474090576172, 101.93607330322266, 99.04883575439453, 94.81500244140625, 86.91038513183594, 86.33071899414062, 85.54090118408203, 82.92520141601562, 853.6173706054688, 428.9240417480469, 842.8365478515625, 95.90628051757812, 610.81005859375, 668.8001098632812, 788.1976318359375, 429.8164978027344, 247.00271606445312, 286.2580871582031, 184.15521240234375, 295.11492919921875, 250.8740997314453, 370.5675048828125, 823.7567749023438, 166.2613983154297, 202.37376403808594, 284.11309814453125, 323.3551940917969, 283.14447021484375, 253.1127471923828, 315.8314208984375, 338.3194274902344, 209.21656799316406, 229.2912139892578, 222.20169067382812, 213.7715301513672, 218.09326171875, 218.50665283203125, 1116.1597900390625, 322.9369812011719, 309.8409729003906, 287.1946105957031, 220.4287872314453, 186.61553955078125, 176.63497924804688, 157.96131896972656, 147.29962158203125, 142.45103454589844, 129.360107421875, 100.58673095703125, 94.35176849365234, 85.7297134399414, 84.65937805175781, 83.70606231689453, 80.90121459960938, 78.96385955810547, 77.94452667236328, 76.29756927490234, 75.31453704833984, 75.15359497070312, 68.92218780517578, 67.69017791748047, 64.26839447021484, 61.65043640136719, 60.953521728515625, 60.007930755615234, 56.25028610229492, 52.696990966796875, 125.7240982055664, 270.69677734375, 219.7964324951172, 271.7153625488281, 149.44796752929688, 1293.5645751953125, 676.9944458007812, 259.6922607421875, 496.5224304199219, 1361.116943359375, 127.02239227294922, 482.96197509765625, 143.85166931152344, 241.4839630126953, 272.3516845703125, 264.2291259765625, 309.5074157714844, 228.17041015625, 231.22789001464844, 350.1737976074219, 308.0031433105469, 298.5015563964844, 263.4499206542969, 254.71347045898438, 198.8232421875, 190.7438507080078, 198.11279296875, 192.98895263671875, 268.204833984375, 72.66390228271484, 59.53945541381836, 53.373722076416016, 41.965492248535156, 40.64375305175781, 38.05746078491211, 30.074750900268555, 24.530595779418945, 23.12912368774414, 20.582887649536133, 21.085325241088867, 19.689926147460938, 19.10797882080078, 18.929853439331055, 18.66175651550293, 17.979307174682617, 17.206832885742188, 16.683517456054688, 16.574785232543945, 16.38465690612793, 15.106307029724121, 15.08120059967041, 15.176934242248535, 14.899508476257324, 14.61510944366455, 14.200102806091309, 14.013710975646973, 13.879752159118652, 13.787327766418457, 90.88225555419922, 31.646923065185547, 22.788963317871094, 37.25055694580078, 38.42083740234375, 29.20256805419922, 19.410511016845703, 55.57758331298828, 50.47859573364258, 39.57942199707031, 37.15731430053711, 35.63946533203125, 32.297576904296875, 31.550092697143555, 29.431955337524414, 29.324399948120117, 27.657535552978516, 27.336536407470703, 26.834627151489258, 24.469337463378906, 24.142488479614258, 23.381074905395508, 21.22154426574707, 21.121904373168945, 20.775501251220703, 20.602624893188477, 19.695270538330078, 18.606788635253906, 18.20077133178711, 17.86126136779785, 17.53400230407715, 17.24537467956543, 17.167362213134766, 17.275732040405273, 17.058805465698242, 16.56319808959961, 13.701727867126465, 13.822906494140625, 22.50728416442871, 25.991474151611328, 24.012325286865234, 23.464277267456055, 23.131311416625977, 51.366127014160156, 34.252098083496094, 33.11994171142578, 30.636703491210938, 28.400529861450195, 27.2503604888916, 27.163373947143555, 19.790815353393555, 17.241436004638672, 13.54079532623291, 13.389307975769043, 13.079655647277832, 12.126215934753418, 11.818645477294922, 11.726573944091797, 10.59952163696289, 10.037518501281738, 9.511404037475586, 8.149267196655273, 8.029047966003418, 7.8634724617004395, 7.696366310119629, 7.545467376708984, 7.467037677764893, 6.757755756378174, 6.475826740264893, 5.585346221923828, 5.4622979164123535, 5.448575019836426, 5.402287483215332, 21.907365798950195, 27.500761032104492, 14.322591781616211, 11.670649528503418, 14.24080753326416, 7.346710205078125, 378.76983642578125, 37.04354476928711, 16.92790985107422, 11.629881858825684, 8.904828071594238, 8.078849792480469, 8.062039375305176, 7.239171028137207, 7.011462211608887, 6.933551788330078, 6.758799076080322, 6.680919647216797, 5.936479091644287, 5.313277244567871, 4.871923923492432, 4.807738304138184, 4.696170330047607, 4.665998458862305, 4.495809555053711, 4.315903186798096, 3.981156349182129, 3.631934404373169, 3.4364261627197266, 3.390430450439453, 3.2886877059936523, 3.1428558826446533, 3.0187418460845947, 2.915062665939331, 2.876317262649536, 2.7678816318511963, 5.026759147644043, 3.6329081058502197], \"Term\": [\"hair\", \"skin\", \"product\", \"add\", \"use\", \"collagen\", \"love\", \"protein\", \"help\", \"taste\", \"vitamin\", \"oil\", \"sugar\", \"try\", \"health\", \"make\", \"take\", \"body\", \"smell\", \"feel\", \"face\", \"natural\", \"ingredient\", \"great\", \"supplement\", \"wash\", \"pain\", \"support\", \"sleep\", \"powder\", \"vitamin\", \"health\", \"supplement\", \"support\", \"reduce\", \"stress\", \"cell\", \"tooth\", \"fish\", \"improve\", \"gum\", \"mineral\", \"digestive\", \"digestion\", \"herb\", \"son\", \"absorption\", \"toothpaste\", \"system\", \"effect\", \"heart\", \"inflammation\", \"probiotic\", \"bacteria\", \"function\", \"read\", \"omega\", \"liver\", \"promote\", \"magnesium\", \"help\", \"increase\", \"take\", \"level\", \"iron\", \"blood\", \"energy\", \"important\", \"balance\", \"body\", \"form\", \"daily\", \"cold\", \"may\", \"include\", \"boost\", \"also\", \"people\", \"know\", \"day\", \"need\", \"many\", \"natural\", \"food\", \"good\", \"healthy\", \"use\", \"work\", \"find\", \"protein\", \"taste\", \"powder\", \"mix\", \"flavour\", \"recipe\", \"favourite\", \"smoothie\", \"enjoy\", \"coffee\", \"bake\", \"sweet\", \"vinegar\", \"milk\", \"sauce\", \"bar\", \"snack\", \"cook\", \"chocolate\", \"raw\", \"delicious\", \"vegan\", \"sweetener\", \"flavor\", \"tbsp\", \"turmeric\", \"cup\", \"real\", \"stir\", \"calorie\", \"add\", \"sugar\", \"love\", \"dairy\", \"great\", \"try\", \"make\", \"water\", \"have\", \"organic\", \"honey\", \"be\", \"easy\", \"ingredient\", \"use\", \"morning\", \"eat\", \"go\", \"good\", \"get\", \"food\", \"also\", \"product\", \"want\", \"time\", \"healthy\", \"little\", \"really\", \"find\", \"skin\", \"smell\", \"face\", \"wash\", \"scent\", \"spray\", \"care\", \"cream\", \"soft\", \"soultree\", \"apply\", \"smooth\", \"moisturize\", \"far\", \"sensitive\", \"fragrance\", \"brush\", \"beauty\", \"greasy\", \"lip\", \"away\", \"truly\", \"thick\", \"wipe\", \"moisturizer\", \"cleaning\", \"lotion\", \"shower\", \"wear\", \"paraben\", \"nourish\", \"dry\", \"chemical\", \"leave\", \"last\", \"product\", \"oil\", \"clean\", \"feel\", \"use\", \"safe\", \"natural\", \"hand\", \"look\", \"really\", \"would\", \"ingredient\", \"keep\", \"work\", \"make\", \"body\", \"try\", \"also\", \"love\", \"go\", \"even\", \"day\", \"time\", \"collagen\", \"ayurvedic\", \"joint\", \"alot\", \"husband\", \"evening\", \"recovery\", \"organika\", \"bedtime\", \"knee\", \"wrong\", \"physician\", \"bathroom\", \"magic\", \"adapt\", \"prescription\", \"circulation\", \"adaptogen\", \"device\", \"faster\", \"silicon\", \"guarantee\", \"pad\", \"attitude\", \"cow\", \"training\", \"electrical\", \"injury\", \"bovine\", \"peptide\", \"pain\", \"loss\", \"watch\", \"nail\", \"sleep\", \"muscle\", \"relief\", \"video\", \"sweetness\", \"thumb\", \"wheat\", \"seal\", \"chicken\", \"almond\", \"regulate\", \"maintenance\", \"gelatin\", \"client\", \"impact\", \"cast\", \"afternoon\", \"spike\", \"craving\", \"thicken\", \"approve\", \"ago\", \"website\", \"tampon\", \"fluoride\", \"slowly\", \"bear\", \"imbalance\", \"corn\", \"potato\", \"fabulous\", \"accident\", \"satisfied\", \"maca\", \"diabetic\", \"absolutely\", \"woman\", \"hormone\", \"sugar\", \"salad\", \"pasta\", \"sprinkle\", \"pumpkin\", \"flour\", \"cracker\", \"chop\", \"onion\", \"boy\", \"endless\", \"sandwich\", \"freekeh\", \"cereal\", \"crunchy\", \"hungry\", \"muffin\", \"syrup\", \"crazy\", \"crunch\", \"nutty\", \"flake\", \"fav\", \"mat\", \"macaroon\", \"inch\", \"cooked\", \"tint\", \"parchment\", \"instruction\", \"cheesy\", \"chip\", \"breakfast\", \"hemp\", \"dress\", \"absolutely\", \"garlic\", \"hair\", \"shampoo\", \"conditioner\", \"volume\", \"towel\", \"detangler\", \"pot\", \"damp\", \"scalp\", \"messy\", \"shiny\", \"compliment\", \"overwhelming\", \"comb\", \"curly\", \"frizz\", \"winner\", \"lock\", \"brittle\", \"weigh\", \"bhringraj\", \"static\", \"duty\", \"silky\", \"frizzy\", \"everyone\", \"freshen\", \"follicle\", \"thicker\", \"tricky\", \"thin\", \"hold\"], \"Total\": [379.0, 1116.0, 1773.0, 863.0, 2529.0, 269.0, 1098.0, 589.0, 1164.0, 569.0, 660.0, 889.0, 452.0, 968.0, 616.0, 1257.0, 1077.0, 981.0, 323.0, 689.0, 310.0, 826.0, 680.0, 854.0, 417.0, 288.0, 113.0, 385.0, 147.0, 288.0, 660.3961791992188, 616.3456420898438, 417.587158203125, 385.5819396972656, 347.7525634765625, 187.1084442138672, 183.3817138671875, 171.92132568359375, 168.1082763671875, 163.58233642578125, 159.28533935546875, 156.90225219726562, 155.20005798339844, 144.79824829101562, 141.772705078125, 141.1300506591797, 135.423095703125, 133.40924072265625, 132.95437622070312, 130.5150909423828, 121.9626693725586, 117.72721099853516, 117.53496551513672, 116.74568939208984, 114.50987243652344, 114.44921112060547, 111.94155883789062, 110.31490325927734, 110.3130874633789, 108.3080825805664, 1164.112548828125, 177.2135467529297, 1077.952392578125, 251.04075622558594, 219.40402221679688, 220.2563934326172, 257.8966979980469, 379.40374755859375, 260.1246643066406, 981.3201293945312, 230.22952270507812, 272.9610595703125, 273.5278015136719, 391.41900634765625, 279.3194274902344, 217.2392578125, 1034.240234375, 255.49888610839844, 535.6582641601562, 652.025146484375, 540.87548828125, 410.32635498046875, 826.1493530273438, 504.8111572265625, 788.8911743164062, 498.7925720214844, 2529.349853515625, 522.4979858398438, 634.1329956054688, 589.0865478515625, 569.3272705078125, 288.8677673339844, 288.6109619140625, 278.0057373046875, 247.66261291503906, 207.5015106201172, 204.28309631347656, 196.9110870361328, 180.4013671875, 170.01864624023438, 153.54208374023438, 153.11581420898438, 152.42697143554688, 129.8894500732422, 121.02342224121094, 119.1407241821289, 118.1759033203125, 115.4993896484375, 112.38513946533203, 107.01163482666016, 106.6612548828125, 103.66778564453125, 102.79867553710938, 99.91012573242188, 95.67704772949219, 87.77168273925781, 87.19221496582031, 86.40155792236328, 83.78620910644531, 863.9854736328125, 452.7639465332031, 1098.2508544921875, 98.34555053710938, 854.1025390625, 968.0029296875, 1257.392822265625, 633.7698364257812, 320.57806396484375, 390.1070556640625, 232.09341430664062, 455.96759033203125, 375.3271789550781, 680.7757568359375, 2529.349853515625, 207.86517333984375, 290.6921081542969, 533.7796630859375, 788.8911743164062, 627.5540771484375, 504.8111572265625, 1034.240234375, 1773.9500732421875, 350.4237060546875, 588.0494995117188, 498.7925720214844, 398.69921875, 491.1460876464844, 634.1329956054688, 1116.9921875, 323.7696228027344, 310.6728515625, 288.02691650390625, 221.2608184814453, 187.44789123535156, 177.468017578125, 158.79376220703125, 148.1336212158203, 143.2947235107422, 130.19186401367188, 101.42000579833984, 95.18328857421875, 86.568359375, 85.49183654785156, 84.53783416748047, 81.73420715332031, 79.7966537475586, 78.77651977539062, 77.12921905517578, 76.14871215820312, 75.98931121826172, 69.7572250366211, 68.52222442626953, 65.10025024414062, 62.48286819458008, 61.78498458862305, 60.840179443359375, 57.083011627197266, 53.52901840209961, 128.06646728515625, 293.90557861328125, 244.33285522460938, 309.6446228027344, 165.07383728027344, 1773.9500732421875, 889.2538452148438, 315.2080993652344, 689.2381591796875, 2529.349853515625, 146.12086486816406, 826.1493530273438, 180.28147888183594, 385.6577453613281, 491.1460876464844, 478.9612121582031, 680.7757568359375, 434.2030029296875, 522.4979858398438, 1257.392822265625, 981.3201293945312, 968.0029296875, 1034.240234375, 1098.2508544921875, 533.7796630859375, 509.4737854003906, 652.025146484375, 588.0494995117188, 269.04168701171875, 73.54660034179688, 60.37638854980469, 54.2201042175293, 42.81012725830078, 41.487117767333984, 38.89403533935547, 30.919099807739258, 25.378957748413086, 23.96595573425293, 21.424123764038086, 21.952713012695312, 20.528989791870117, 19.94689178466797, 19.78099250793457, 19.50716209411621, 18.818191528320312, 18.04899787902832, 17.525867462158203, 17.42051887512207, 17.22228240966797, 15.947124481201172, 15.921895980834961, 16.026973724365234, 15.736445426940918, 15.453842163085938, 15.04350471496582, 14.850062370300293, 14.717312812805176, 14.625214576721191, 113.37561798095703, 38.22138214111328, 29.104442596435547, 98.67741394042969, 147.25701904296875, 104.7612533569336, 55.67314529418945, 56.42853927612305, 51.323665618896484, 40.426597595214844, 37.9992790222168, 36.485496520996094, 33.142608642578125, 32.3948860168457, 30.27545738220215, 30.18037223815918, 28.50412940979004, 28.179065704345703, 27.677156448364258, 25.311843872070312, 24.98599624633789, 24.22176170349121, 22.061721801757812, 21.965700149536133, 21.619535446166992, 21.454288482666016, 20.55391502380371, 19.45366668701172, 19.041688919067383, 18.71780014038086, 18.379770278930664, 18.08629608154297, 18.008920669555664, 18.124296188354492, 17.90192413330078, 17.42392349243164, 14.547086715698242, 14.67725658416748, 24.929893493652344, 52.025909423828125, 86.0090560913086, 111.26010131835938, 452.7639465332031, 52.28322982788086, 35.16893005371094, 34.03706359863281, 31.557422637939453, 29.317649841308594, 28.169174194335938, 28.080869674682617, 20.707738876342773, 18.1668758392334, 14.459311485290527, 14.30729866027832, 13.998819351196289, 13.042677879333496, 12.736971855163574, 12.64974594116211, 11.517501831054688, 10.959245681762695, 10.437082290649414, 9.066648483276367, 8.945525169372559, 8.780696868896484, 8.621491432189941, 8.461822509765625, 8.464487075805664, 7.688355445861816, 7.393198013305664, 6.51566743850708, 6.386670112609863, 6.372268199920654, 6.319888114929199, 29.722806930541992, 41.982025146484375, 25.8145809173584, 28.107120513916016, 52.025909423828125, 23.125900268554688, 379.687255859375, 37.95978546142578, 17.843544006347656, 12.546518325805664, 9.821395874023438, 9.000446319580078, 8.990501403808594, 8.159526824951172, 7.927789211273193, 7.8604865074157715, 7.675403594970703, 7.599926948547363, 6.86568021774292, 6.239535331726074, 5.790069580078125, 5.723913669586182, 5.617677211761475, 5.583885192871094, 5.42035436630249, 5.234267711639404, 4.940343379974365, 4.5523505210876465, 4.357132434844971, 4.306732654571533, 4.2042694091796875, 4.087837219238281, 3.936690330505371, 3.8310930728912354, 3.7972915172576904, 3.68906569480896, 30.331443786621094, 50.54130554199219], \"loglift\": [30.0, 29.0, 28.0, 27.0, 26.0, 25.0, 24.0, 23.0, 22.0, 21.0, 20.0, 19.0, 18.0, 17.0, 16.0, 15.0, 14.0, 13.0, 12.0, 11.0, 10.0, 9.0, 8.0, 7.0, 6.0, 5.0, 4.0, 3.0, 2.0, 1.0, 0.996999979019165, 0.9969000220298767, 0.9962999820709229, 0.9962000250816345, 0.9958999752998352, 0.9940999746322632, 0.9940000176429749, 0.9937000274658203, 0.9936000108718872, 0.9934999942779541, 0.993399977684021, 0.9933000206947327, 0.9933000206947327, 0.992900013923645, 0.9927999973297119, 0.9926999807357788, 0.9925000071525574, 0.9925000071525574, 0.9923999905586243, 0.9922999739646912, 0.9919000267982483, 0.9916999936103821, 0.9916999936103821, 0.9916999936103821, 0.9915000200271606, 0.9915000200271606, 0.9914000034332275, 0.9912999868392944, 0.9912999868392944, 0.9911999702453613, 0.879800021648407, 0.9638000130653381, 0.8507999777793884, 0.940500020980835, 0.9398999810218811, 0.9345999956130981, 0.9146999716758728, 0.8564000129699707, 0.8877999782562256, 0.6205000281333923, 0.8776000142097473, 0.8361999988555908, 0.828499972820282, 0.7397000193595886, 0.8190000057220459, 0.829200029373169, 0.17589999735355377, 0.7598999738693237, 0.34700000286102295, 0.20970000326633453, 0.3010999858379364, 0.4474000036716461, 0.013899999670684338, 0.299699991941452, -0.005799999926239252, 0.2806999981403351, -0.9969000220298767, 0.21250000596046448, 0.010900000110268593, 1.2228000164031982, 1.2226999998092651, 1.2211999893188477, 1.2211999893188477, 1.2210999727249146, 1.2207000255584717, 1.2201000452041626, 1.2200000286102295, 1.2197999954223633, 1.2194000482559204, 1.219099998474121, 1.2186000347137451, 1.2186000347137451, 1.2186000347137451, 1.2175999879837036, 1.2171000242233276, 1.2170000076293945, 1.2168999910354614, 1.2166999578475952, 1.2165000438690186, 1.2160999774932861, 1.2160999774932861, 1.21589994430542, 1.2158000469207764, 1.2156000137329102, 1.2151999473571777, 1.214400053024292, 1.2143000364303589, 1.2142000198364258, 1.2138999700546265, 1.2121000289916992, 1.1700999736785889, 0.9595000147819519, 1.1991000175476074, 0.8889999985694885, 0.8544999957084656, 0.7572000026702881, 0.8359000086784363, 0.9635000228881836, 0.9146999716758728, 0.992900013923645, 0.7892000079154968, 0.821399986743927, 0.6159999966621399, 0.10239999741315842, 1.0009000301361084, 0.8621000051498413, 0.5935999751091003, 0.33230000734329224, 0.42829999327659607, 0.5339000225067139, 0.03799999877810478, -0.4327999949455261, 0.7084000110626221, 0.2824000120162964, 0.4156000018119812, 0.6008999943733215, 0.4124000072479248, 0.15880000591278076, 1.3858000040054321, 1.3839000463485718, 1.3838000297546387, 1.3835999965667725, 1.382699966430664, 1.382099986076355, 1.3818000555038452, 1.3812999725341797, 1.3809000253677368, 1.3805999755859375, 1.3801000118255615, 1.3782999515533447, 1.3776999711990356, 1.3767999410629272, 1.3767000436782837, 1.3766000270843506, 1.3762999773025513, 1.3760000467300415, 1.3759000301361084, 1.3756999969482422, 1.375499963760376, 1.375499963760376, 1.374500036239624, 1.3743000030517578, 1.3737000226974487, 1.3731000423431396, 1.3730000257492065, 1.3726999759674072, 1.3717999458312988, 1.3708000183105469, 1.3681000471115112, 1.3042999505996704, 1.2806999683380127, 1.2558000087738037, 1.2870999574661255, 1.0707000494003296, 1.113800048828125, 1.1928000450134277, 1.0585999488830566, 0.7669000029563904, 1.246399998664856, 0.8496999740600586, 1.1607999801635742, 0.91839998960495, 0.7968999743461609, 0.791700005531311, 0.5982999801635742, 0.7430999875068665, 0.5713000297546387, 0.10809999704360962, 0.22769999504089355, 0.210099995136261, 0.01899999938905239, -0.07479999959468842, 0.39890000224113464, 0.4041000008583069, 0.19529999792575836, 0.27230000495910645, 3.3965001106262207, 3.3875999450683594, 3.385699987411499, 3.3838999271392822, 3.379699945449829, 3.3791000843048096, 3.3778998851776123, 3.371999979019165, 3.365600109100342, 3.3640999794006348, 3.359600067138672, 3.359299898147583, 3.3578999042510986, 3.3566999435424805, 3.3557000160217285, 3.355299949645996, 3.3540000915527344, 3.351900100708008, 3.350399971008301, 3.349900007247925, 3.3498001098632812, 3.3454999923706055, 3.345400094985962, 3.3452000617980957, 3.3450000286102295, 3.3438000679016113, 3.3420000076293945, 3.3417000770568848, 3.341099977493286, 3.3406999111175537, 3.178499937057495, 3.210900068283081, 3.1549999713897705, 2.42549991607666, 2.0560998916625977, 2.1222000122070312, 2.3459999561309814, 3.5083999633789062, 3.5069000720977783, 3.5023999214172363, 3.5011000633239746, 3.5000998973846436, 3.4976999759674072, 3.4971001148223877, 3.495300054550171, 3.494800090789795, 3.4934000968933105, 3.4932000637054443, 3.4925999641418457, 3.4897000789642334, 3.4892001152038574, 3.4881999492645264, 3.4846999645233154, 3.4844000339508057, 3.4837000370025635, 3.4830000400543213, 3.4809000492095947, 3.4790000915527344, 3.4783999919891357, 3.4767000675201416, 3.4763998985290527, 3.4758999347686768, 3.4756999015808105, 3.475600004196167, 3.4753000736236572, 3.472899913787842, 3.46370005607605, 3.463599920272827, 3.421299934387207, 2.8296000957489014, 2.2476999759674072, 1.9672000408172607, 0.5493999719619751, 4.337900161743164, 4.32919979095459, 4.3282999992370605, 4.326000213623047, 4.323800086975098, 4.322400093078613, 4.322400093078613, 4.310299873352051, 4.303299903869629, 4.289999961853027, 4.289299964904785, 4.287700176239014, 4.282700061798096, 4.280799865722656, 4.279799938201904, 4.272500038146973, 4.2677001953125, 4.262700080871582, 4.248899936676025, 4.247499942779541, 4.245299816131592, 4.242099761962891, 4.241000175476074, 4.230199813842773, 4.226600170135498, 4.223100185394287, 4.201499938964844, 4.19920015335083, 4.198999881744385, 4.198699951171875, 4.05049991607666, 3.9326000213623047, 3.7664999961853027, 3.476599931716919, 3.059999942779541, 3.208899974822998, 4.4394001960754395, 4.417300224304199, 4.389100074768066, 4.365900039672852, 4.343800067901611, 4.333799839019775, 4.332799911499023, 4.3221001625061035, 4.318999767303467, 4.316299915313721, 4.314599990844727, 4.312900066375732, 4.29640007019043, 4.281099796295166, 4.269100189208984, 4.267399787902832, 4.262599945068359, 4.262199878692627, 4.254799842834473, 4.248899936676025, 4.225900173187256, 4.21589994430542, 4.204400062561035, 4.202600002288818, 4.196199893951416, 4.178899765014648, 4.176300048828125, 4.168499946594238, 4.164000034332275, 4.1545000076293945, 2.644399881362915, 1.809000015258789], \"logprob\": [30.0, 29.0, 28.0, 27.0, 26.0, 25.0, 24.0, 23.0, 22.0, 21.0, 20.0, 19.0, 18.0, 17.0, 16.0, 15.0, 14.0, 13.0, 12.0, 11.0, 10.0, 9.0, 8.0, 7.0, 6.0, 5.0, 4.0, 3.0, 2.0, 1.0, -4.395899772644043, -4.465099811553955, -4.855000019073486, -4.934800148010254, -5.038300037384033, -5.659999847412109, -5.680200099945068, -5.744999885559082, -5.767499923706055, -5.794899940490723, -5.821700096130371, -5.8368000984191895, -5.847799777984619, -5.917500019073486, -5.938700199127197, -5.943299770355225, -5.984799861907959, -5.999899864196777, -6.003300189971924, -6.021900177001953, -6.090099811553955, -6.125699996948242, -6.127299785614014, -6.134099960327148, -6.153600215911865, -6.154099941253662, -6.176400184631348, -6.191100120544434, -6.191199779510498, -6.20959997177124, -3.9463000297546387, -5.74459981918335, -4.05210018157959, -5.419600009918213, -5.554900169372559, -5.556399822235107, -5.418499946594238, -5.090700149536133, -5.436800003051758, -4.376299858093262, -5.5690999031066895, -5.440299987792969, -5.445899963378906, -5.176300048828125, -5.434299945831299, -5.675600051879883, -4.768400192260742, -5.582600116729736, -5.255199909210205, -5.196000099182129, -5.291500091552734, -5.42140007019043, -5.155099868774414, -5.3618998527526855, -5.220900058746338, -5.3927998542785645, -5.046999931335449, -5.414599895477295, -5.422500133514404, -4.28439998626709, -4.318600177764893, -4.998600006103516, -4.9994001388549805, -5.0370001792907715, -5.152900218963623, -5.330599784851074, -5.346199989318848, -5.383200168609619, -5.471099853515625, -5.530700206756592, -5.633200168609619, -5.636000156402588, -5.640500068664551, -5.801499843597412, -5.872700214385986, -5.888500213623047, -5.896699905395508, -5.9197001457214355, -5.947299957275391, -5.996699810028076, -6.0, -6.02869987487793, -6.037199974060059, -6.065899848937988, -6.109600067138672, -6.196700096130371, -6.2032999992370605, -6.212500095367432, -6.243599891662598, -3.912100076675415, -4.600299835205078, -3.924799919128418, -6.098199844360352, -4.246699810028076, -4.156000137329102, -3.99180006980896, -4.598199844360352, -5.152100086212158, -5.0046000480651855, -5.445799827575684, -4.9741997718811035, -5.136600017547607, -4.746500015258789, -3.947700023651123, -5.547999858856201, -5.351399898529053, -5.012199878692627, -4.882800102233887, -5.015600204467773, -5.127699851989746, -4.906300067901611, -4.837500095367432, -5.31820011138916, -5.226500034332275, -5.257900238037109, -5.296599864959717, -5.276599884033203, -5.274700164794922, -3.481600046157837, -4.721799850463867, -4.763199806213379, -4.839099884033203, -5.103700160980225, -5.270199775695801, -5.325200080871582, -5.4369001388549805, -5.506800174713135, -5.540200233459473, -5.636600017547607, -5.888199806213379, -5.952199935913086, -6.047999858856201, -6.0605998039245605, -6.071899890899658, -6.105999946594238, -6.130199909210205, -6.143199920654297, -6.164599895477295, -6.177599906921387, -6.179699897766113, -6.266300201416016, -6.284299850463867, -6.33620023727417, -6.377799987792969, -6.389100074768066, -6.404799938201904, -6.469399929046631, -6.5346999168396, -5.66510009765625, -4.898200035095215, -5.106500148773193, -4.894499778747559, -5.492300033569336, -3.3341000080108643, -3.981600046157837, -4.939700126647949, -4.291600227355957, -3.2832000255584717, -5.654900074005127, -4.319300174713135, -5.5304999351501465, -5.012400150299072, -4.892099857330322, -4.922399997711182, -4.7642998695373535, -5.0690999031066895, -5.055799961090088, -4.6407999992370605, -4.769100189208984, -4.80049991607666, -4.9253997802734375, -4.959099769592285, -5.2067999839782715, -5.248300075531006, -5.210400104522705, -5.236599922180176, -2.8942999839782715, -4.200300216674805, -4.399499893188477, -4.508800029754639, -4.749300003051758, -4.781300067901611, -4.8470001220703125, -5.082399845123291, -5.286200046539307, -5.34499979019165, -5.461599826812744, -5.4375, -5.50600004196167, -5.535999774932861, -5.545400142669678, -5.559599876403809, -5.59689998626709, -5.6407999992370605, -5.6717000007629395, -5.678199768066406, -5.689799785614014, -5.770999908447266, -5.77269983291626, -5.766300201416016, -5.784800052642822, -5.803999900817871, -5.832900047302246, -5.846099853515625, -5.8557000160217285, -5.862400054931641, -3.9765000343322754, -5.031499862670898, -5.359799861907959, -4.8684000968933105, -4.837500095367432, -5.111800193786621, -5.520299911499023, -4.344399929046631, -4.440700054168701, -4.683899879455566, -4.747000217437744, -4.78879976272583, -4.887199878692627, -4.910600185394287, -4.980100154876709, -4.983799934387207, -5.042300224304199, -5.053999900817871, -5.072500228881836, -5.16480016708374, -5.178199768066406, -5.210299968719482, -5.307199954986572, -5.3119001388549805, -5.328400135040283, -5.3368000984191895, -5.381800174713135, -5.438700199127197, -5.460700035095215, -5.479599952697754, -5.4980998039245605, -5.514699935913086, -5.519199848175049, -5.512899875640869, -5.5254998207092285, -5.554999828338623, -5.744699954986572, -5.735899925231934, -5.2484002113342285, -5.104400157928467, -5.183599948883057, -5.206699848175049, -5.2210001945495605, -3.591200113296509, -3.9964001178741455, -4.03000020980835, -4.107999801635742, -4.183800220489502, -4.225100040435791, -4.228300094604492, -4.544899940490723, -4.682799816131592, -4.924499988555908, -4.935699939727783, -4.959099769592285, -5.034800052642822, -5.060500144958496, -5.068299770355225, -5.169400215148926, -5.223800182342529, -5.277699947357178, -5.432199954986572, -5.4471001625061035, -5.467899799346924, -5.4893999099731445, -5.509200096130371, -5.519700050354004, -5.619500160217285, -5.662099838256836, -5.809999942779541, -5.832300186157227, -5.834799766540527, -5.843299865722656, -4.443299770355225, -4.216000080108643, -4.868299961090088, -5.0731000900268555, -4.874100208282471, -5.535900115966797, -1.5069999694824219, -3.831899881362915, -4.614999771118164, -4.9903998374938965, -5.257400035858154, -5.354700088500977, -5.356800079345703, -5.4644999504089355, -5.496399879455566, -5.507599830627441, -5.533100128173828, -5.5447001457214355, -5.662899971008301, -5.773799896240234, -5.860499858856201, -5.873700141906738, -5.897200107574463, -5.90369987487793, -5.940800189971924, -5.9816999435424805, -6.062399864196777, -6.154200077056885, -6.209499835968018, -6.2230000495910645, -6.253499984741211, -6.298799991607666, -6.339099884033203, -6.374100208282471, -6.387499809265137, -6.425899982452393, -5.82919979095459, -6.153900146484375]}, \"token.table\": {\"Topic\": [4, 5, 6, 1, 5, 4, 4, 1, 2, 5, 5, 5, 4, 1, 2, 3, 3, 5, 4, 3, 4, 1, 2, 1, 2, 2, 4, 1, 2, 3, 5, 3, 4, 7, 1, 5, 1, 3, 1, 2, 4, 6, 1, 6, 7, 3, 2, 3, 5, 1, 6, 6, 1, 3, 5, 3, 6, 2, 6, 4, 2, 3, 3, 5, 2, 1, 2, 4, 7, 7, 7, 2, 6, 5, 4, 6, 5, 6, 3, 6, 6, 2, 7, 1, 3, 1, 2, 7, 1, 2, 3, 2, 7, 4, 1, 5, 1, 1, 3, 6, 2, 3, 7, 1, 2, 3, 1, 2, 1, 4, 6, 1, 2, 2, 1, 2, 3, 4, 7, 5, 3, 3, 4, 6, 2, 1, 2, 3, 1, 2, 3, 1, 6, 2, 2, 6, 5, 7, 1, 2, 1, 2, 3, 6, 7, 7, 7, 1, 1, 6, 5, 1, 2, 3, 1, 2, 3, 1, 2, 3, 3, 1, 2, 3, 4, 1, 7, 1, 2, 3, 1, 2, 3, 1, 1, 2, 3, 1, 1, 2, 3, 1, 6, 1, 1, 2, 7, 2, 3, 1, 5, 6, 4, 5, 5, 1, 3, 1, 6, 1, 2, 1, 5, 1, 2, 3, 4, 6, 1, 2, 4, 1, 2, 3, 4, 1, 2, 3, 2, 3, 2, 3, 1, 5, 3, 1, 2, 3, 1, 7, 1, 2, 3, 4, 5, 3, 2, 3, 5, 6, 4, 1, 5, 1, 2, 3, 1, 2, 3, 6, 1, 2, 3, 7, 2, 1, 2, 3, 3, 1, 2, 3, 6, 1, 4, 3, 4, 1, 2, 3, 1, 2, 3, 2, 3, 6, 1, 2, 3, 1, 6, 2, 3, 4, 7, 4, 1, 4, 3, 6, 6, 1, 2, 3, 4, 4, 7, 5, 2, 4, 1, 1, 2, 3, 1, 2, 6, 2, 1, 2, 2, 3, 2, 4, 1, 5, 1, 4, 1, 3, 6, 6, 5, 2, 7, 3, 5, 3, 7, 7, 3, 4, 7, 3, 1, 4, 5, 3, 3, 2, 2, 3, 1, 3, 5, 3, 6, 7, 2, 1, 2, 5, 1, 1, 2, 2, 5, 6, 1, 1, 2, 3, 5, 2, 2, 3, 5, 7, 2, 4, 7, 5, 1, 2, 3, 6, 1, 1, 7, 4, 7, 3, 2, 3, 2, 1, 2, 3, 2, 5, 2, 1, 7, 2, 3, 3, 4, 5, 1, 2, 3, 3, 5, 7, 5, 7, 3, 1, 3, 5, 1, 2, 3, 4, 1, 2, 3, 4], \"Freq\": [0.21143311262130737, 0.4997510015964508, 0.269096702337265, 0.9968757629394531, 0.9756700396537781, 0.9605180025100708, 0.9418805241584778, 0.011574268341064453, 0.9884425401687622, 0.9605380296707153, 0.9788252711296082, 0.9878102540969849, 0.9774972200393677, 0.43896958231925964, 0.3055382966995239, 0.25429293513298035, 0.9908453226089478, 0.9713436961174011, 0.9359221458435059, 0.9849148988723755, 0.9925679564476013, 0.9936127066612244, 0.9940086007118225, 0.895724356174469, 0.10379638522863388, 0.9915435910224915, 0.9742320775985718, 0.061407871544361115, 0.6469758152961731, 0.28949424624443054, 0.9793375730514526, 0.9900164604187012, 0.9850680232048035, 0.8096603155136108, 0.9398137927055359, 0.059022124856710434, 0.6858108639717102, 0.3138629198074341, 0.8423891663551331, 0.15190625190734863, 0.9512606263160706, 0.9357690215110779, 0.33347606658935547, 0.6669521331787109, 0.7379591464996338, 0.9910171627998352, 0.990616500377655, 0.9973627924919128, 0.9481727480888367, 0.9979184865951538, 0.9200564622879028, 0.7911532521247864, 0.09822665899991989, 0.9004110097885132, 0.9655244946479797, 0.23550938069820404, 0.7401723265647888, 0.9956762790679932, 0.9615086913108826, 0.9565212726593018, 0.17448790371418, 0.824851930141449, 0.9922720193862915, 0.9581580758094788, 0.997775137424469, 0.8445211052894592, 0.15354928374290466, 0.9961281418800354, 0.801341712474823, 0.9210614562034607, 0.9527255296707153, 0.9900495409965515, 0.8115567564964294, 0.943976640701294, 0.9532012939453125, 0.9584945440292358, 0.9518749117851257, 0.958122193813324, 0.9950013160705566, 0.882354736328125, 0.9421391487121582, 0.9912080764770508, 0.8635475039482117, 0.8499380946159363, 0.1465410441160202, 0.02033645659685135, 0.9761499166488647, 0.8578928709030151, 0.4539702236652374, 0.2407882660627365, 0.303669273853302, 0.9905465245246887, 0.8888447880744934, 0.9699947834014893, 0.08022496849298477, 0.9225871562957764, 0.9944871664047241, 0.9922676682472229, 0.569250762462616, 0.42693808674812317, 0.07825642824172974, 0.9220648407936096, 0.6885262131690979, 0.31172803044319153, 0.6687498688697815, 0.018650393933057785, 0.30272579193115234, 0.6948933005332947, 0.9960533976554871, 0.9306342005729675, 0.9682341814041138, 0.9189726114273071, 0.07755043357610703, 0.9953731298446655, 0.24142557382583618, 0.3847106695175171, 0.3748966157436371, 0.9882586002349854, 0.7338843941688538, 0.9496185779571533, 0.9978342056274414, 0.9934345483779907, 0.9758607149124146, 0.9279137253761292, 0.9975830912590027, 0.1291280835866928, 0.1508912444114685, 0.7210860252380371, 0.3721616864204407, 0.3453534245491028, 0.28227517008781433, 0.9934073686599731, 0.9110894203186035, 0.9922306537628174, 0.9963822960853577, 0.9550560712814331, 0.9452943205833435, 0.7830663323402405, 0.4972156286239624, 0.5011774897575378, 0.8860722780227661, 0.1129307821393013, 0.9936379194259644, 0.9286497235298157, 0.7620614767074585, 0.8735281825065613, 0.7135603427886963, 0.995547354221344, 0.6486234068870544, 0.30269092321395874, 0.9823138117790222, 0.2772669494152069, 0.45095714926719666, 0.2708929777145386, 0.09367161244153976, 0.5320547223091125, 0.37281301617622375, 0.36633697152137756, 0.4094354212284088, 0.22309795022010803, 0.9901427626609802, 0.0819573700428009, 0.715370774269104, 0.20255179703235626, 0.9406084418296814, 0.9982086420059204, 0.9981899261474609, 0.03328128904104233, 0.16085956990718842, 0.7987509369850159, 0.0031193650793284178, 0.770483136177063, 0.22459428012371063, 0.9994391798973083, 0.48717644810676575, 0.44507479667663574, 0.06615976989269257, 0.9921068549156189, 0.8882302641868591, 0.0008590234792791307, 0.10995500534772873, 0.4261157810688019, 0.5423291325569153, 0.9945496916770935, 0.7122886776924133, 0.21764376759529114, 0.07914318889379501, 0.7927842140197754, 0.20250466465950012, 0.7819514870643616, 0.20672279596328735, 0.9486356377601624, 0.9810763001441956, 0.9399381875991821, 0.9755337238311768, 0.8671501278877258, 0.13178573548793793, 0.9964401125907898, 0.910467803478241, 0.8377505540847778, 0.16110587120056152, 0.9649375081062317, 0.028214547783136368, 0.9938229322433472, 0.5449665188789368, 0.45536285638809204, 0.9427570104598999, 0.7846499681472778, 0.9434649348258972, 0.05469362065196037, 0.9937659502029419, 0.25333771109580994, 0.218791663646698, 0.5250999927520752, 0.9596946835517883, 0.5208544731140137, 0.28562986850738525, 0.19228677451610565, 0.09086842834949493, 0.9026263952255249, 0.1194918230175972, 0.8784263730049133, 0.9440698027610779, 0.051784418523311615, 0.9853593707084656, 0.040130503475666046, 0.5367454886436462, 0.42387843132019043, 0.997145414352417, 0.8954339027404785, 0.15817134082317352, 0.21262376010417938, 0.6249064207077026, 0.8372277021408081, 0.15698020160198212, 0.9872949123382568, 0.7675842046737671, 0.2321873903274536, 0.9538567066192627, 0.8269845247268677, 0.9525293707847595, 0.997155487537384, 0.9608893990516663, 0.09464026987552643, 0.6266935467720032, 0.278353750705719, 0.5775890350341797, 0.24614553153514862, 0.17547008395195007, 0.9454228281974792, 0.7715517282485962, 0.15328842401504517, 0.0740894004702568, 0.8905301094055176, 0.9971988201141357, 0.9942495822906494, 0.9978830814361572, 0.9875683188438416, 0.9830991625785828, 0.10583783686161041, 0.79859459400177, 0.09140540659427643, 0.9550682306289673, 0.7159135341644287, 0.2768199145793915, 0.6181759238243103, 0.37495917081832886, 0.3740243911743164, 0.04115478694438934, 0.5846400260925293, 0.4973418116569519, 0.3013632595539093, 0.1996762752532959, 0.015616890974342823, 0.9838641285896301, 0.8943018913269043, 0.15518628060817719, 0.08321583271026611, 0.7613124251365662, 0.991588830947876, 0.9658225178718567, 0.7331320643424988, 0.2640300989151001, 0.970274031162262, 0.87391197681427, 0.94209885597229, 0.19404524564743042, 0.8026416897773743, 0.9901171922683716, 0.7828806042671204, 0.9667624235153198, 0.786696195602417, 0.15655645728111267, 0.054794758558273315, 0.9572508931159973, 0.9566015601158142, 0.8898280262947083, 0.9379674792289734, 0.9969959855079651, 0.9740012288093567, 0.9954484701156616, 0.08004734665155411, 0.19053523242473602, 0.7294455766677856, 0.9971618056297302, 0.9981555342674255, 0.9823362231254578, 0.9965730309486389, 0.9960750341415405, 0.9863265752792358, 0.4438597857952118, 0.553806722164154, 0.997324526309967, 0.9770135879516602, 0.9978359341621399, 0.9578715562820435, 0.6466313004493713, 0.3412776589393616, 0.1300293356180191, 0.8691434860229492, 0.975456178188324, 0.9086271524429321, 0.9623920321464539, 0.9931522607803345, 0.8829699754714966, 0.9943016767501831, 0.9866934418678284, 0.9942469596862793, 0.9747157096862793, 0.9120041728019714, 0.9861903786659241, 0.9290289878845215, 0.6965837478637695, 0.9991117119789124, 0.7334115505218506, 0.2580522298812866, 0.9616514444351196, 0.9976229071617126, 0.9958587288856506, 0.9937190413475037, 0.9904254078865051, 0.9923473000526428, 0.9919928312301636, 0.9909645915031433, 0.9495593309402466, 0.9976105690002441, 0.9695313572883606, 0.8786669373512268, 0.9953524470329285, 0.9940759539604187, 0.9475135803222656, 0.05079909786581993, 0.9985939264297485, 0.9984907507896423, 0.9964694976806641, 0.993558406829834, 0.9742094278335571, 0.9124715328216553, 0.9928217530250549, 0.8627468347549438, 0.09091310948133469, 0.04545655474066734, 0.9766796231269836, 0.9976686835289001, 0.9908905625343323, 0.9891448616981506, 0.9560359716415405, 0.7900367975234985, 0.6923508048057556, 0.09890726208686829, 0.16484543681144714, 0.9894475936889648, 0.28058862686157227, 0.3894230127334595, 0.3282036781311035, 0.920857310295105, 0.9946410059928894, 0.9969324469566345, 0.916366696357727, 0.9706324338912964, 0.8132140636444092, 0.9869809150695801, 0.6911135911941528, 0.3088833689689636, 0.9929236173629761, 0.13600333034992218, 0.3257754147052765, 0.5380829572677612, 0.9938004016876221, 0.9924056529998779, 0.9927126169204712, 0.9994000792503357, 0.9564406275749207, 0.5964208245277405, 0.40237003564834595, 0.9964346289634705, 0.7902573347091675, 0.20615409314632416, 0.235101118683815, 0.6784797310829163, 0.08520443737506866, 0.9810274243354797, 0.9730506539344788, 0.7641947865486145, 0.9737026691436768, 0.890047550201416, 0.9923787713050842, 0.6627209186553955, 0.04650672897696495, 0.2790403962135315, 0.4555041491985321, 0.0918663814663887, 0.4421069622039795, 0.009569414891302586, 0.010439259000122547, 0.43636101484298706, 0.5511928796768188, 0.9802034497261047], \"Term\": [\"absolutely\", \"absolutely\", \"absolutely\", \"absorption\", \"accident\", \"adapt\", \"adaptogen\", \"add\", \"add\", \"afternoon\", \"ago\", \"almond\", \"alot\", \"also\", \"also\", \"also\", \"apply\", \"approve\", \"attitude\", \"away\", \"ayurvedic\", \"bacteria\", \"bake\", \"balance\", \"balance\", \"bar\", \"bathroom\", \"be\", \"be\", \"be\", \"bear\", \"beauty\", \"bedtime\", \"bhringraj\", \"blood\", \"blood\", \"body\", \"body\", \"boost\", \"boost\", \"bovine\", \"boy\", \"breakfast\", \"breakfast\", \"brittle\", \"brush\", \"calorie\", \"care\", \"cast\", \"cell\", \"cereal\", \"cheesy\", \"chemical\", \"chemical\", \"chicken\", \"chip\", \"chip\", \"chocolate\", \"chop\", \"circulation\", \"clean\", \"clean\", \"cleaning\", \"client\", \"coffee\", \"cold\", \"cold\", \"collagen\", \"comb\", \"compliment\", \"conditioner\", \"cook\", \"cooked\", \"corn\", \"cow\", \"cracker\", \"craving\", \"crazy\", \"cream\", \"crunch\", \"crunchy\", \"cup\", \"curly\", \"daily\", \"daily\", \"dairy\", \"dairy\", \"damp\", \"day\", \"day\", \"day\", \"delicious\", \"detangler\", \"device\", \"diabetic\", \"diabetic\", \"digestion\", \"digestive\", \"dress\", \"dress\", \"dry\", \"dry\", \"duty\", \"easy\", \"easy\", \"easy\", \"eat\", \"eat\", \"effect\", \"electrical\", \"endless\", \"energy\", \"energy\", \"enjoy\", \"even\", \"even\", \"even\", \"evening\", \"everyone\", \"fabulous\", \"face\", \"far\", \"faster\", \"fav\", \"favourite\", \"feel\", \"feel\", \"feel\", \"find\", \"find\", \"find\", \"fish\", \"flake\", \"flavor\", \"flavour\", \"flour\", \"fluoride\", \"follicle\", \"food\", \"food\", \"form\", \"form\", \"fragrance\", \"freekeh\", \"freshen\", \"frizz\", \"frizzy\", \"function\", \"garlic\", \"garlic\", \"gelatin\", \"get\", \"get\", \"get\", \"go\", \"go\", \"go\", \"good\", \"good\", \"good\", \"greasy\", \"great\", \"great\", \"great\", \"guarantee\", \"gum\", \"hair\", \"hand\", \"hand\", \"hand\", \"have\", \"have\", \"have\", \"health\", \"healthy\", \"healthy\", \"healthy\", \"heart\", \"help\", \"help\", \"help\", \"hemp\", \"hemp\", \"herb\", \"hold\", \"hold\", \"hold\", \"honey\", \"honey\", \"hormone\", \"hormone\", \"hungry\", \"husband\", \"imbalance\", \"impact\", \"important\", \"important\", \"improve\", \"inch\", \"include\", \"include\", \"increase\", \"increase\", \"inflammation\", \"ingredient\", \"ingredient\", \"injury\", \"instruction\", \"iron\", \"iron\", \"joint\", \"keep\", \"keep\", \"keep\", \"knee\", \"know\", \"know\", \"know\", \"last\", \"last\", \"leave\", \"leave\", \"level\", \"level\", \"lip\", \"little\", \"little\", \"little\", \"liver\", \"lock\", \"look\", \"look\", \"look\", \"loss\", \"loss\", \"lotion\", \"love\", \"love\", \"maca\", \"macaroon\", \"magic\", \"magnesium\", \"maintenance\", \"make\", \"make\", \"make\", \"many\", \"many\", \"many\", \"mat\", \"may\", \"may\", \"may\", \"messy\", \"milk\", \"mineral\", \"mix\", \"moisturize\", \"moisturizer\", \"morning\", \"morning\", \"morning\", \"muffin\", \"muscle\", \"muscle\", \"nail\", \"nail\", \"natural\", \"natural\", \"natural\", \"need\", \"need\", \"need\", \"nourish\", \"nourish\", \"nutty\", \"oil\", \"oil\", \"oil\", \"omega\", \"onion\", \"organic\", \"organic\", \"organika\", \"overwhelming\", \"pad\", \"pain\", \"pain\", \"paraben\", \"parchment\", \"pasta\", \"people\", \"people\", \"people\", \"peptide\", \"physician\", \"pot\", \"potato\", \"powder\", \"prescription\", \"probiotic\", \"product\", \"product\", \"product\", \"promote\", \"protein\", \"pumpkin\", \"raw\", \"read\", \"real\", \"really\", \"really\", \"recipe\", \"recovery\", \"reduce\", \"regulate\", \"relief\", \"relief\", \"safe\", \"safe\", \"salad\", \"sandwich\", \"satisfied\", \"sauce\", \"scalp\", \"scent\", \"seal\", \"sensitive\", \"shampoo\", \"shiny\", \"shower\", \"silicon\", \"silky\", \"skin\", \"sleep\", \"sleep\", \"slowly\", \"smell\", \"smooth\", \"smoothie\", \"snack\", \"soft\", \"son\", \"soultree\", \"spike\", \"spray\", \"sprinkle\", \"static\", \"stir\", \"stress\", \"sugar\", \"sugar\", \"supplement\", \"support\", \"sweet\", \"sweetener\", \"sweetness\", \"syrup\", \"system\", \"take\", \"take\", \"take\", \"tampon\", \"taste\", \"tbsp\", \"thick\", \"thicken\", \"thicker\", \"thin\", \"thin\", \"thin\", \"thumb\", \"time\", \"time\", \"time\", \"tint\", \"tooth\", \"toothpaste\", \"towel\", \"training\", \"tricky\", \"truly\", \"try\", \"try\", \"turmeric\", \"use\", \"use\", \"use\", \"vegan\", \"video\", \"vinegar\", \"vitamin\", \"volume\", \"want\", \"want\", \"wash\", \"watch\", \"watch\", \"water\", \"water\", \"water\", \"wear\", \"website\", \"weigh\", \"wheat\", \"winner\", \"wipe\", \"woman\", \"woman\", \"woman\", \"work\", \"work\", \"work\", \"work\", \"would\", \"would\", \"would\", \"wrong\"]}, \"R\": 30, \"lambda.step\": 0.01, \"plot.opts\": {\"xlab\": \"PC1\", \"ylab\": \"PC2\"}, \"topic.order\": [7, 4, 5, 2, 3, 1, 6]};\n",
       "\n",
       "function LDAvis_load_lib(url, callback){\n",
       "  var s = document.createElement('script');\n",
       "  s.src = url;\n",
       "  s.async = true;\n",
       "  s.onreadystatechange = s.onload = callback;\n",
       "  s.onerror = function(){console.warn(\"failed to load library \" + url);};\n",
       "  document.getElementsByTagName(\"head\")[0].appendChild(s);\n",
       "}\n",
       "\n",
       "if(typeof(LDAvis) !== \"undefined\"){\n",
       "   // already loaded: just create the visualization\n",
       "   !function(LDAvis){\n",
       "       new LDAvis(\"#\" + \"ldavis_el4660418358739233842392945794\", ldavis_el4660418358739233842392945794_data);\n",
       "   }(LDAvis);\n",
       "}else if(typeof define === \"function\" && define.amd){\n",
       "   // require.js is available: use it to load d3/LDAvis\n",
       "   require.config({paths: {d3: \"https://cdnjs.cloudflare.com/ajax/libs/d3/3.5.5/d3.min\"}});\n",
       "   require([\"d3\"], function(d3){\n",
       "      window.d3 = d3;\n",
       "      LDAvis_load_lib(\"https://cdn.rawgit.com/bmabey/pyLDAvis/files/ldavis.v1.0.0.js\", function(){\n",
       "        new LDAvis(\"#\" + \"ldavis_el4660418358739233842392945794\", ldavis_el4660418358739233842392945794_data);\n",
       "      });\n",
       "    });\n",
       "}else{\n",
       "    // require.js not available: dynamically load d3 & LDAvis\n",
       "    LDAvis_load_lib(\"https://cdnjs.cloudflare.com/ajax/libs/d3/3.5.5/d3.min.js\", function(){\n",
       "         LDAvis_load_lib(\"https://cdn.rawgit.com/bmabey/pyLDAvis/files/ldavis.v1.0.0.js\", function(){\n",
       "                 new LDAvis(\"#\" + \"ldavis_el4660418358739233842392945794\", ldavis_el4660418358739233842392945794_data);\n",
       "            })\n",
       "         });\n",
       "}\n",
       "</script>"
      ],
      "text/plain": [
       "PreparedData(topic_coordinates=              x         y  topics  cluster       Freq\n",
       "topic                                                \n",
       "6      0.183150  0.259338       1        1  36.857666\n",
       "3      0.290486 -0.122811       2        1  29.398811\n",
       "4      0.262810 -0.082634       3        1  24.994579\n",
       "1     -0.185034 -0.016398       4        1   3.338497\n",
       "2     -0.185503  0.001470       5        1   2.949466\n",
       "0     -0.185274 -0.020240       6        1   1.283492\n",
       "5     -0.180636 -0.018725       7        1   1.177498, topic_info=      Category         Freq          Term        Total  loglift  logprob\n",
       "56     Default   379.000000          hair   379.000000  30.0000  30.0000\n",
       "301    Default  1116.000000          skin  1116.000000  29.0000  29.0000\n",
       "110    Default  1773.000000       product  1773.000000  28.0000  28.0000\n",
       "174    Default   863.000000           add   863.000000  27.0000  27.0000\n",
       "487    Default  2529.000000           use  2529.000000  26.0000  26.0000\n",
       "3234   Default   269.000000      collagen   269.000000  25.0000  25.0000\n",
       "72     Default  1098.000000          love  1098.000000  24.0000  24.0000\n",
       "285    Default   589.000000       protein   589.000000  23.0000  23.0000\n",
       "230    Default  1164.000000          help  1164.000000  22.0000  22.0000\n",
       "421    Default   569.000000         taste   569.000000  21.0000  21.0000\n",
       "158    Default   660.000000       vitamin   660.000000  20.0000  20.0000\n",
       "96     Default   889.000000           oil   889.000000  19.0000  19.0000\n",
       "313    Default   452.000000         sugar   452.000000  18.0000  18.0000\n",
       "154    Default   968.000000           try   968.000000  17.0000  17.0000\n",
       "382    Default   616.000000        health   616.000000  16.0000  16.0000\n",
       "74     Default  1257.000000          make  1257.000000  15.0000  15.0000\n",
       "576    Default  1077.000000          take  1077.000000  14.0000  14.0000\n",
       "16     Default   981.000000          body   981.000000  13.0000  13.0000\n",
       "991    Default   323.000000         smell   323.000000  12.0000  12.0000\n",
       "44     Default   689.000000          feel   689.000000  11.0000  11.0000\n",
       "215    Default   310.000000          face   310.000000  10.0000  10.0000\n",
       "89     Default   826.000000       natural   826.000000   9.0000   9.0000\n",
       "60     Default   680.000000    ingredient   680.000000   8.0000   8.0000\n",
       "456    Default   854.000000         great   854.000000   7.0000   7.0000\n",
       "481    Default   417.000000    supplement   417.000000   6.0000   6.0000\n",
       "160    Default   288.000000          wash   288.000000   5.0000   5.0000\n",
       "1896   Default   113.000000          pain   113.000000   4.0000   4.0000\n",
       "316    Default   385.000000       support   385.000000   3.0000   3.0000\n",
       "932    Default   147.000000         sleep   147.000000   2.0000   2.0000\n",
       "279    Default   288.000000        powder   288.000000   1.0000   1.0000\n",
       "...        ...          ...           ...          ...      ...      ...\n",
       "25      Topic7    16.927910   conditioner    17.843544   4.3891  -4.6150\n",
       "2059    Topic7    11.629882        volume    12.546518   4.3659  -4.9904\n",
       "151     Topic7     8.904828         towel     9.821396   4.3438  -5.2574\n",
       "11851   Topic7     8.078850     detangler     9.000446   4.3338  -5.3547\n",
       "3164    Topic7     8.062039           pot     8.990501   4.3328  -5.3568\n",
       "5910    Topic7     7.239171          damp     8.159527   4.3221  -5.4645\n",
       "125     Topic7     7.011462         scalp     7.927789   4.3190  -5.4964\n",
       "2003    Topic7     6.933552         messy     7.860487   4.3163  -5.5076\n",
       "2052    Topic7     6.758799         shiny     7.675404   4.3146  -5.5331\n",
       "10881   Topic7     6.680920    compliment     7.599927   4.3129  -5.5447\n",
       "1056    Topic7     5.936479  overwhelming     6.865680   4.2964  -5.6629\n",
       "6649    Topic7     5.313277          comb     6.239535   4.2811  -5.7738\n",
       "10342   Topic7     4.871924         curly     5.790070   4.2691  -5.8605\n",
       "48      Topic7     4.807738         frizz     5.723914   4.2674  -5.8737\n",
       "10337   Topic7     4.696170        winner     5.617677   4.2626  -5.8972\n",
       "70      Topic7     4.665998          lock     5.583885   4.2622  -5.9037\n",
       "17      Topic7     4.495810       brittle     5.420354   4.2548  -5.9408\n",
       "6667    Topic7     4.315903         weigh     5.234268   4.2489  -5.9817\n",
       "13467   Topic7     3.981156     bhringraj     4.940343   4.2259  -6.0624\n",
       "3893    Topic7     3.631934        static     4.552351   4.2159  -6.1542\n",
       "4737    Topic7     3.436426          duty     4.357132   4.2044  -6.2095\n",
       "131     Topic7     3.390430         silky     4.306733   4.2026  -6.2230\n",
       "10344   Topic7     3.288688        frizzy     4.204269   4.1962  -6.2535\n",
       "1230    Topic7     3.142856      everyone     4.087837   4.1789  -6.2988\n",
       "10461   Topic7     3.018742       freshen     3.936690   4.1763  -6.3391\n",
       "45      Topic7     2.915063      follicle     3.831093   4.1685  -6.3741\n",
       "1297    Topic7     2.876317       thicker     3.797292   4.1640  -6.3875\n",
       "6666    Topic7     2.767882        tricky     3.689066   4.1545  -6.4259\n",
       "146     Topic7     5.026759          thin    30.331444   2.6444  -5.8292\n",
       "1489    Topic7     3.632908          hold    50.541306   1.8090  -6.1539\n",
       "\n",
       "[347 rows x 6 columns], token_table=       Topic      Freq        Term\n",
       "term                              \n",
       "3224       4  0.211433  absolutely\n",
       "3224       5  0.499751  absolutely\n",
       "3224       6  0.269097  absolutely\n",
       "3268       1  0.996876  absorption\n",
       "2894       5  0.975670    accident\n",
       "2574       4  0.960518       adapt\n",
       "10794      4  0.941881   adaptogen\n",
       "174        1  0.011574         add\n",
       "174        2  0.988443         add\n",
       "4926       5  0.960538   afternoon\n",
       "2192       5  0.978825         ago\n",
       "1811       5  0.987810      almond\n",
       "4714       4  0.977497        alot\n",
       "177        1  0.438970        also\n",
       "177        2  0.305538        also\n",
       "177        3  0.254293        also\n",
       "8          3  0.990845       apply\n",
       "13812      5  0.971344     approve\n",
       "4315       4  0.935922    attitude\n",
       "11         3  0.984915        away\n",
       "3227       4  0.992568   ayurvedic\n",
       "1221       1  0.993613    bacteria\n",
       "7126       2  0.994009        bake\n",
       "12         1  0.895724     balance\n",
       "12         2  0.103796     balance\n",
       "602        2  0.991544         bar\n",
       "6206       4  0.974232    bathroom\n",
       "2747       1  0.061408          be\n",
       "2747       2  0.646976          be\n",
       "2747       3  0.289494          be\n",
       "...      ...       ...         ...\n",
       "1427       2  0.993800       vegan\n",
       "2450       5  0.992406       video\n",
       "804        2  0.992713     vinegar\n",
       "158        1  0.999400     vitamin\n",
       "2059       7  0.956441      volume\n",
       "764        2  0.596421        want\n",
       "764        3  0.402370        want\n",
       "160        3  0.996435        wash\n",
       "5845       4  0.790257       watch\n",
       "5845       5  0.206154       watch\n",
       "161        1  0.235101       water\n",
       "161        2  0.678480       water\n",
       "161        3  0.085204       water\n",
       "2161       3  0.981027        wear\n",
       "6012       5  0.973051     website\n",
       "6667       7  0.764195       weigh\n",
       "1301       5  0.973703       wheat\n",
       "10337      7  0.890048      winner\n",
       "3223       3  0.992379        wipe\n",
       "1681       1  0.662721       woman\n",
       "1681       3  0.046507       woman\n",
       "1681       5  0.279040       woman\n",
       "333        1  0.455504        work\n",
       "333        2  0.091866        work\n",
       "333        3  0.442107        work\n",
       "333        4  0.009569        work\n",
       "591        1  0.010439       would\n",
       "591        2  0.436361       would\n",
       "591        3  0.551193       would\n",
       "3180       4  0.980203       wrong\n",
       "\n",
       "[418 rows x 3 columns], R=30, lambda_step=0.01, plot_opts={'xlab': 'PC1', 'ylab': 'PC2'}, topic_order=[7, 4, 5, 2, 3, 1, 6])"
      ]
     },
     "execution_count": 55,
     "metadata": {},
     "output_type": "execute_result"
    }
   ],
   "source": [
    "pyLDAvis.enable_notebook()\n",
    "vis = pyLDAvis.gensim.prepare(lda_model, corpus, id2word)\n",
    "vis"
   ]
  },
  {
   "cell_type": "code",
   "execution_count": null,
   "metadata": {},
   "outputs": [],
   "source": []
  }
 ],
 "metadata": {
  "kernelspec": {
   "display_name": "Python 3",
   "language": "python",
   "name": "python3"
  },
  "language_info": {
   "codemirror_mode": {
    "name": "ipython",
    "version": 3
   },
   "file_extension": ".py",
   "mimetype": "text/x-python",
   "name": "python",
   "nbconvert_exporter": "python",
   "pygments_lexer": "ipython3",
   "version": "3.7.3"
  }
 },
 "nbformat": 4,
 "nbformat_minor": 2
}
